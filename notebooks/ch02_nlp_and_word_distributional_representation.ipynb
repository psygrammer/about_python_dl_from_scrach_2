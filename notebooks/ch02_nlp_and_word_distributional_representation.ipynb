{
  "nbformat": 4,
  "nbformat_minor": 0,
  "metadata": {
    "colab": {
      "name": "ch02_nlp_and_word_distributional_representation.ipynb",
      "provenance": [],
      "authorship_tag": "ABX9TyMV/iSILz197c2+0+ff5gco",
      "include_colab_link": true
    },
    "kernelspec": {
      "name": "python3",
      "display_name": "Python 3"
    }
  },
  "cells": [
    {
      "cell_type": "markdown",
      "metadata": {
        "id": "view-in-github",
        "colab_type": "text"
      },
      "source": [
        "<a href=\"https://colab.research.google.com/github/psygrammer/about_python_dl_from_scrach_2/blob/main/notebooks/ch02_nlp_and_word_distributional_representation.ipynb\" target=\"_parent\"><img src=\"https://colab.research.google.com/assets/colab-badge.svg\" alt=\"Open In Colab\"/></a>"
      ]
    },
    {
      "cell_type": "markdown",
      "metadata": {
        "id": "hWBsw8I8ekpu"
      },
      "source": [
        "# 2. 자연어와 단어의 분산 표현"
      ]
    },
    {
      "cell_type": "code",
      "metadata": {
        "id": "bujRbdrqd3dj"
      },
      "source": [
        ""
      ],
      "execution_count": null,
      "outputs": []
    }
  ]
}