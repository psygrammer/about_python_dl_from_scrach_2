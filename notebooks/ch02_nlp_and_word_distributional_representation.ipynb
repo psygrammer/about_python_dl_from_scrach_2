{
  "nbformat": 4,
  "nbformat_minor": 0,
  "metadata": {
    "colab": {
      "name": "ch02_nlp_and_word_distributional_representation.ipynb",
      "provenance": [],
      "authorship_tag": "ABX9TyOrEDa5bPGh4f61aYDnvb8R",
      "include_colab_link": true
    },
    "kernelspec": {
      "name": "python3",
      "display_name": "Python 3"
    }
  },
  "cells": [
    {
      "cell_type": "markdown",
      "metadata": {
        "id": "view-in-github",
        "colab_type": "text"
      },
      "source": [
        "<a href=\"https://colab.research.google.com/github/psygrammer/about_python_dl_from_scrach_2/blob/main/notebooks/ch02_nlp_and_word_distributional_representation.ipynb\" target=\"_parent\"><img src=\"https://colab.research.google.com/assets/colab-badge.svg\" alt=\"Open In Colab\"/></a>"
      ]
    },
    {
      "cell_type": "markdown",
      "metadata": {
        "id": "hWBsw8I8ekpu"
      },
      "source": [
        "# 2. 자연어와 단어의 분산 표현"
      ]
    },
    {
      "cell_type": "markdown",
      "metadata": {
        "id": "mhqp1CB_fIzv"
      },
      "source": [
        "* 싸이그래머 / 어바웃파이썬 : 딥러닝 NLP [1]\n",
        "* 김무성"
      ]
    },
    {
      "cell_type": "markdown",
      "metadata": {
        "id": "SGBs4GwYfPBo"
      },
      "source": [
        "--------------"
      ]
    },
    {
      "cell_type": "markdown",
      "metadata": {
        "id": "22fMX_WzfRM_"
      },
      "source": [
        "# 차례 \n",
        "* 2.1 자연어처리란\n",
        "  - 2.1.1 단어의 의미\n",
        "* 2.2 시소러스\n",
        "  - 2.2.1 WordNet\n",
        "  - 2.2.2 시소러스의 문제점\n",
        "* 2.3 통계 기반 기법\n",
        "  - 2.3.1 파이썬으로 말뭉치 전처리하기\n",
        "  - 2.3.2 단어의 분산 표현\n",
        "  - 2.3.3 분포 가설\n",
        "  - 2.3.4 동시발생 행렬\n",
        "  - 2.3.5 유사 단어의 랭킹 표시\n",
        "* 2.4 통계 기반 기법 개선하기\n",
        "  - 2.4.1 상호정보량\n",
        "  - 2.4.2 차원 감소\n",
        "  - 2.4.3 SVD에 의한 차원 감소\n",
        "  - 2.4.4 PTB 데이터셋\n",
        "  - 2.4.5 PTB 데이터셋 평가\n",
        "* 정리"
      ]
    },
    {
      "cell_type": "markdown",
      "metadata": {
        "id": "HfqtRjy5fP6m"
      },
      "source": [
        "------------"
      ]
    },
    {
      "cell_type": "markdown",
      "metadata": {
        "id": "AjLwCdijf71K"
      },
      "source": [
        "# 2.1 자연어처리란\n",
        "* 2.1.1 단어의 의미"
      ]
    },
    {
      "cell_type": "markdown",
      "metadata": {
        "id": "T1aPHTAXg3sV"
      },
      "source": [
        "## 2.1.1 단어의 의미"
      ]
    },
    {
      "cell_type": "markdown",
      "metadata": {
        "id": "1MMWCUdzgA34"
      },
      "source": [
        "------------"
      ]
    },
    {
      "cell_type": "markdown",
      "metadata": {
        "id": "TykQzXHigBzZ"
      },
      "source": [
        "# 2.2 시소러스\n",
        "* 2.2.1 WordNet\n",
        "* 2.2.2 시소러스의 문제점\n"
      ]
    },
    {
      "cell_type": "markdown",
      "metadata": {
        "id": "qidHm6q-g8PE"
      },
      "source": [
        "## 2.2.1 WordNet\n"
      ]
    },
    {
      "cell_type": "markdown",
      "metadata": {
        "id": "JwtBf-3pg-f8"
      },
      "source": [
        "## 2.2.2 시소러스의 문제점\n"
      ]
    },
    {
      "cell_type": "markdown",
      "metadata": {
        "id": "wodfyQbSgGXx"
      },
      "source": [
        "--------------"
      ]
    },
    {
      "cell_type": "markdown",
      "metadata": {
        "id": "kBNCjU65gFBd"
      },
      "source": [
        "# 2.3 통계 기반 기법\n",
        "* 2.3.1 파이썬으로 말뭉치 전처리하기\n",
        "* 2.3.2 단어의 분산 표현\n",
        "* 2.3.3 분포 가설\n",
        "* 2.3.4 동시발생 행렬\n",
        "* 2.3.5 유사 단어의 랭킹 표시\n"
      ]
    },
    {
      "cell_type": "markdown",
      "metadata": {
        "id": "IocbhuKahF97"
      },
      "source": [
        " ## 2.3.1 파이썬으로 말뭉치 전처리하기\n",
        " "
      ]
    },
    {
      "cell_type": "markdown",
      "metadata": {
        "id": "FrK5oCBVhKqa"
      },
      "source": [
        "## 2.3.2 단어의 분산 표현\n",
        " "
      ]
    },
    {
      "cell_type": "markdown",
      "metadata": {
        "id": "pNXBH1sdhM_V"
      },
      "source": [
        "## 2.3.3 분포 가설\n",
        " "
      ]
    },
    {
      "cell_type": "markdown",
      "metadata": {
        "id": "tvzo9PuEhOSF"
      },
      "source": [
        "## 2.3.4 동시발생 행렬\n",
        " "
      ]
    },
    {
      "cell_type": "markdown",
      "metadata": {
        "id": "k61vITtMhPlO"
      },
      "source": [
        "## 2.3.5 유사 단어의 랭킹 표시\n"
      ]
    },
    {
      "cell_type": "markdown",
      "metadata": {
        "id": "uk8OA2cVgJC1"
      },
      "source": [
        "----------------"
      ]
    },
    {
      "cell_type": "markdown",
      "metadata": {
        "id": "A2fJOLHwgKEB"
      },
      "source": [
        "# 2.4 통계 기반 기법 개선하기\n",
        "* 2.4.1 상호정보량\n",
        "* 2.4.2 차원 감소\n",
        "* 2.4.3 SVD에 의한 차원 감소\n",
        "* 2.4.4 PTB 데이터셋\n",
        "* 2.4.5 PTB 데이터셋 평가\n"
      ]
    },
    {
      "cell_type": "markdown",
      "metadata": {
        "id": "u8bXbE2WhV_v"
      },
      "source": [
        "## 2.4.1 상호정보량\n"
      ]
    },
    {
      "cell_type": "markdown",
      "metadata": {
        "id": "j8iMh7TIhbNu"
      },
      "source": [
        "## 2.4.2 차원 감소\n"
      ]
    },
    {
      "cell_type": "markdown",
      "metadata": {
        "id": "rY0HxX7Qhcsp"
      },
      "source": [
        "## 2.4.3 SVD에 의한 차원 감소\n"
      ]
    },
    {
      "cell_type": "markdown",
      "metadata": {
        "id": "nqF5Yb73hd76"
      },
      "source": [
        "## 2.4.4 PTB 데이터셋\n"
      ]
    },
    {
      "cell_type": "markdown",
      "metadata": {
        "id": "1n--bvhehgNa"
      },
      "source": [
        "## 2.4.5 PTB 데이터셋 평가\n"
      ]
    },
    {
      "cell_type": "markdown",
      "metadata": {
        "id": "lRfQu0CUhhmm"
      },
      "source": [
        "---------"
      ]
    },
    {
      "cell_type": "markdown",
      "metadata": {
        "id": "W_dfwnm2gME9"
      },
      "source": [
        "# 정리"
      ]
    },
    {
      "cell_type": "markdown",
      "metadata": {
        "id": "NVcwo0y6gNbD"
      },
      "source": [
        "------------------\n",
        "# 참고문헌\n",
        "* [1] 밑바닥부터 시작하는 딥러닝 2\n",
        "  - https://www.hanbit.co.kr/store/books/look.php?p_code=B8950212853\n",
        "  - github - https://github.com/WegraLee/deep-learning-from-scratch-2"
      ]
    }
  ]
}