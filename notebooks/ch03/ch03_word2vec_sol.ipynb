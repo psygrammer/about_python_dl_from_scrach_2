{
  "nbformat": 4,
  "nbformat_minor": 0,
  "metadata": {
    "colab": {
      "name": "ch03_word2vec.ipynb",
      "provenance": [],
      "authorship_tag": "ABX9TyNuuejgo8ygCzT4RPw7pKXk",
      "include_colab_link": true
    },
    "kernelspec": {
      "name": "python3",
      "display_name": "Python 3"
    },
    "language_info": {
      "name": "python"
    }
  },
  "cells": [
    {
      "cell_type": "markdown",
      "metadata": {
        "id": "view-in-github",
        "colab_type": "text"
      },
      "source": [
        "<a href=\"https://colab.research.google.com/github/psygrammer/about_python_dl_from_scrach_2/blob/main/notebooks/ch03/ch03_word2vec_sol.ipynb\" target=\"_parent\"><img src=\"https://colab.research.google.com/assets/colab-badge.svg\" alt=\"Open In Colab\"/></a>"
      ]
    },
    {
      "cell_type": "markdown",
      "metadata": {
        "id": "KLef1PM7ujKf"
      },
      "source": [
        "# 3. word2vec (Solution)"
      ]
    },
    {
      "cell_type": "markdown",
      "metadata": {
        "id": "1tCj1-a7ARsG"
      },
      "source": [
        "* 싸이그래머 / 어바웃파이썬 : 딥러닝 NLP [1]\n",
        "* 김무성"
      ]
    },
    {
      "cell_type": "markdown",
      "metadata": {
        "id": "KV8K-m63AU9K"
      },
      "source": [
        "# 차례 \n",
        "* 3.1 추론 기반 기법과 신경망\n",
        "  - 3.1.1 통계 기반 기법의 문제점\n",
        "  - 3.1.2 추론 기반 기법 개요\n",
        "  - 3.1.3 신경망에서의 단어 처리\n",
        "* 3.2 단순한 word2vec\n",
        "  - 3.2.1 CBOW 모델의 추론 처리\n",
        "  - 3.2.2 CBOW 모델의 학습\n",
        "  - 3.2.3 word2vec의 가중치와 분산 표현\n",
        "* 3.3 학습 데이터 준비\n",
        "  - 3.3.1 맥락과 타깃\n",
        "  - 3.3.2 원핫 표현으로 변환\n",
        "* 3.4 CBOW 모델 구현\n",
        "  - 3.4.1 학습 코드 구현\n",
        "* 3.5 word2vec 보충\n",
        "  - 3.5.1 CBOW 모델과 확률\n",
        "  - 3.5.2 skip-gram 모델\n",
        "  - 3.5.3 통계 기반 vs. 추론 기반\n",
        "* 3.6 정리"
      ]
    },
    {
      "cell_type": "markdown",
      "metadata": {
        "id": "W6nILPB4FEnW"
      },
      "source": [
        "------------------"
      ]
    },
    {
      "cell_type": "code",
      "metadata": {
        "id": "hRJAFOWUuX4T",
        "colab": {
          "base_uri": "https://localhost:8080/"
        },
        "outputId": "f871001a-39f4-4680-d749-fd8f543736c7"
      },
      "source": [
        "!git clone https://github.com/psygrammer/about_python_dl_from_scrach_2.git"
      ],
      "execution_count": 1,
      "outputs": [
        {
          "output_type": "stream",
          "text": [
            "Cloning into 'about_python_dl_from_scrach_2'...\n",
            "remote: Enumerating objects: 124, done.\u001b[K\n",
            "remote: Counting objects: 100% (124/124), done.\u001b[K\n",
            "remote: Compressing objects: 100% (108/108), done.\u001b[K\n",
            "remote: Total 124 (delta 52), reused 33 (delta 5), pack-reused 0\u001b[K\n",
            "Receiving objects: 100% (124/124), 753.41 KiB | 11.96 MiB/s, done.\n",
            "Resolving deltas: 100% (52/52), done.\n"
          ],
          "name": "stdout"
        }
      ]
    },
    {
      "cell_type": "code",
      "metadata": {
        "id": "wyZTlvT5FHkO",
        "colab": {
          "base_uri": "https://localhost:8080/"
        },
        "outputId": "ab09650c-4ea8-457a-e17f-aa6efbd081f5"
      },
      "source": [
        "ls"
      ],
      "execution_count": 2,
      "outputs": [
        {
          "output_type": "stream",
          "text": [
            "\u001b[0m\u001b[01;34mabout_python_dl_from_scrach_2\u001b[0m/  \u001b[01;34msample_data\u001b[0m/\n"
          ],
          "name": "stdout"
        }
      ]
    },
    {
      "cell_type": "code",
      "metadata": {
        "id": "KS8mCAfNFMkT",
        "colab": {
          "base_uri": "https://localhost:8080/"
        },
        "outputId": "d8f50ae9-cb16-459c-d2e7-df660b56136c"
      },
      "source": [
        "cd /content/about_python_dl_from_scrach_2/notebooks/ch03"
      ],
      "execution_count": 3,
      "outputs": [
        {
          "output_type": "stream",
          "text": [
            "/content/about_python_dl_from_scrach_2/notebooks/ch03\n"
          ],
          "name": "stdout"
        }
      ]
    },
    {
      "cell_type": "code",
      "metadata": {
        "id": "nVOV8K7_FO1E",
        "colab": {
          "base_uri": "https://localhost:8080/"
        },
        "outputId": "b1048a98-eeaa-43e8-d0e7-fb0449dc5152"
      },
      "source": [
        "ls"
      ],
      "execution_count": 4,
      "outputs": [
        {
          "output_type": "stream",
          "text": [
            "ch03_word2vec.ipynb  ch03_word2vec_sol.ipynb\n"
          ],
          "name": "stdout"
        }
      ]
    },
    {
      "cell_type": "markdown",
      "metadata": {
        "id": "gPsWuMTbAiVa"
      },
      "source": [
        "------------------------"
      ]
    },
    {
      "cell_type": "markdown",
      "metadata": {
        "id": "vb5ofebJD1A6"
      },
      "source": [
        "# 3.1 추론 기반 기법과 신경망\n",
        "* 3.1.1 통계 기반 기법의 문제점\n",
        "* 3.1.2 추론 기반 기법 개요\n",
        "* 3.1.3 신경망에서의 단어 처리"
      ]
    },
    {
      "cell_type": "markdown",
      "metadata": {
        "id": "BDj9LLDQFXm5"
      },
      "source": [
        "## 3.1.1 통계 기반 기법의 문제점\n"
      ]
    },
    {
      "cell_type": "markdown",
      "metadata": {
        "id": "kj6y9fKpFa5b"
      },
      "source": [
        "## 3.1.2 추론 기반 기법 개요\n"
      ]
    },
    {
      "cell_type": "markdown",
      "metadata": {
        "id": "hKcpGcTpFc2i"
      },
      "source": [
        "## 3.1.3 신경망에서의 단어 처리"
      ]
    },
    {
      "cell_type": "code",
      "metadata": {
        "id": "wEfbUvRFF7rn"
      },
      "source": [
        "import numpy as np"
      ],
      "execution_count": 5,
      "outputs": []
    },
    {
      "cell_type": "code",
      "metadata": {
        "id": "TMCJ9bMdGQAq",
        "colab": {
          "base_uri": "https://localhost:8080/"
        },
        "outputId": "a39e2b7d-e2a3-4f93-fd76-65fa94bf5b63"
      },
      "source": [
        "# 입력\n",
        "c = np.array([[1, 0, 0, 0, 0, 0, 0]])\n",
        "c"
      ],
      "execution_count": 6,
      "outputs": [
        {
          "output_type": "execute_result",
          "data": {
            "text/plain": [
              "array([[1, 0, 0, 0, 0, 0, 0]])"
            ]
          },
          "metadata": {
            "tags": []
          },
          "execution_count": 6
        }
      ]
    },
    {
      "cell_type": "code",
      "metadata": {
        "id": "Q59AAp08GUZX",
        "colab": {
          "base_uri": "https://localhost:8080/"
        },
        "outputId": "80f8067a-5adc-4f20-bd27-3eb3e260bed3"
      },
      "source": [
        "# 가중치\n",
        "# 랜덤 초기화\n",
        "W = np.random.randn(7,3) \n",
        "W"
      ],
      "execution_count": 7,
      "outputs": [
        {
          "output_type": "execute_result",
          "data": {
            "text/plain": [
              "array([[ 0.37904857, -0.17495786,  0.40460745],\n",
              "       [-0.28343065, -0.47231923,  1.93093803],\n",
              "       [-2.27192446,  0.16759212, -1.65126446],\n",
              "       [ 0.36473416,  0.85314654,  0.40256707],\n",
              "       [ 1.35969155, -0.2887706 ,  0.28834987],\n",
              "       [-0.79640239,  1.39328258,  0.35621497],\n",
              "       [ 0.56437476, -1.53958825,  1.78909353]])"
            ]
          },
          "metadata": {
            "tags": []
          },
          "execution_count": 7
        }
      ]
    },
    {
      "cell_type": "code",
      "metadata": {
        "colab": {
          "base_uri": "https://localhost:8080/"
        },
        "id": "PXFyTIXBHTLh",
        "outputId": "e33907d9-949e-4485-9ca9-d433b7493e2a"
      },
      "source": [
        "# 중간노드\n",
        "h = np.matmul(c, W) \n",
        "h"
      ],
      "execution_count": 8,
      "outputs": [
        {
          "output_type": "execute_result",
          "data": {
            "text/plain": [
              "array([[ 0.37904857, -0.17495786,  0.40460745]])"
            ]
          },
          "metadata": {
            "tags": []
          },
          "execution_count": 8
        }
      ]
    },
    {
      "cell_type": "markdown",
      "metadata": {
        "id": "jOMFMAzsHSff"
      },
      "source": [
        "#### 위의 코드는 1장에서 구현한 MaMul 계층으로도 수행할 수 있다. "
      ]
    },
    {
      "cell_type": "code",
      "metadata": {
        "id": "EHjfCuLkHoMs"
      },
      "source": [
        "import sys\n",
        "sys.path.append('..')"
      ],
      "execution_count": 9,
      "outputs": []
    },
    {
      "cell_type": "code",
      "metadata": {
        "id": "LupB3CGgH3gk"
      },
      "source": [
        "import numpy as np\n",
        "from common.layers import MatMul"
      ],
      "execution_count": 10,
      "outputs": []
    },
    {
      "cell_type": "code",
      "metadata": {
        "colab": {
          "base_uri": "https://localhost:8080/"
        },
        "id": "As_IYYkrH9Rf",
        "outputId": "d858a238-e62c-424c-c3b0-e90202b577ea"
      },
      "source": [
        "# 입력\n",
        "c = np.array([[1, 0, 0, 0, 0, 0, 0]])\n",
        "c"
      ],
      "execution_count": 11,
      "outputs": [
        {
          "output_type": "execute_result",
          "data": {
            "text/plain": [
              "array([[1, 0, 0, 0, 0, 0, 0]])"
            ]
          },
          "metadata": {
            "tags": []
          },
          "execution_count": 11
        }
      ]
    },
    {
      "cell_type": "code",
      "metadata": {
        "colab": {
          "base_uri": "https://localhost:8080/"
        },
        "id": "PwY_P9lEII2F",
        "outputId": "c83298d1-8347-444f-9024-6478d01f6277"
      },
      "source": [
        "# 가중치\n",
        "# 랜덤 초기화\n",
        "W = np.random.randn(7,3) \n",
        "W"
      ],
      "execution_count": 12,
      "outputs": [
        {
          "output_type": "execute_result",
          "data": {
            "text/plain": [
              "array([[ 0.14166768,  0.27625725, -1.11224845],\n",
              "       [-1.74901213, -0.27704002,  2.06917325],\n",
              "       [-0.24361224,  0.09044699,  1.56806975],\n",
              "       [-1.19274646, -0.10974046,  1.62684306],\n",
              "       [-0.46053395,  1.10265044,  0.23546217],\n",
              "       [-1.74780059, -1.22118024, -0.22836404],\n",
              "       [ 0.19886821, -0.00606937, -0.63785956]])"
            ]
          },
          "metadata": {
            "tags": []
          },
          "execution_count": 12
        }
      ]
    },
    {
      "cell_type": "code",
      "metadata": {
        "colab": {
          "base_uri": "https://localhost:8080/"
        },
        "id": "V9Z0gQDpISGo",
        "outputId": "1c95bfa3-0a0e-4833-db42-fa6671c33562"
      },
      "source": [
        "layer = MatMul(W)\n",
        "layer"
      ],
      "execution_count": 13,
      "outputs": [
        {
          "output_type": "execute_result",
          "data": {
            "text/plain": [
              "<common.layers.MatMul at 0x7ff4a2ba3850>"
            ]
          },
          "metadata": {
            "tags": []
          },
          "execution_count": 13
        }
      ]
    },
    {
      "cell_type": "code",
      "metadata": {
        "colab": {
          "base_uri": "https://localhost:8080/"
        },
        "id": "EIMzU7CwIWZg",
        "outputId": "a34bb5ea-9b5d-451f-eaf2-135e36ce6190"
      },
      "source": [
        "h = layer.forward(c)\n",
        "h"
      ],
      "execution_count": 14,
      "outputs": [
        {
          "output_type": "execute_result",
          "data": {
            "text/plain": [
              "array([[ 0.14166768,  0.27625725, -1.11224845]])"
            ]
          },
          "metadata": {
            "tags": []
          },
          "execution_count": 14
        }
      ]
    },
    {
      "cell_type": "markdown",
      "metadata": {
        "id": "EyZ5tbYhD37a"
      },
      "source": [
        "-------------"
      ]
    },
    {
      "cell_type": "markdown",
      "metadata": {
        "id": "shW7Dtp7D4zg"
      },
      "source": [
        "# 3.2 단순한 word2vec\n",
        "* 3.2.1 CBOW 모델의 추론 처리\n",
        "* 3.2.2 CBOW 모델의 학습\n",
        "* 3.2.3 word2vec의 가중치와 분산 표현\n"
      ]
    },
    {
      "cell_type": "markdown",
      "metadata": {
        "id": "iIn_mzJOFeZR"
      },
      "source": [
        "## 3.2.1 CBOW 모델의 추론 처리\n"
      ]
    },
    {
      "cell_type": "code",
      "metadata": {
        "id": "BZeahziXIwgl"
      },
      "source": [
        "# coding: utf-8\n",
        "import sys\n",
        "sys.path.append('..')\n",
        "import numpy as np\n",
        "from common.layers import MatMul"
      ],
      "execution_count": 15,
      "outputs": []
    },
    {
      "cell_type": "code",
      "metadata": {
        "id": "I3REWK3DIzvh"
      },
      "source": [
        "# 샘플 맥락 데이터\n",
        "c0 = np.array([[1, 0, 0, 0, 0, 0, 0]])\n",
        "c1 = np.array([[0, 0, 1, 0, 0, 0, 0]])"
      ],
      "execution_count": 16,
      "outputs": []
    },
    {
      "cell_type": "code",
      "metadata": {
        "id": "k0jxva2HI4Vk"
      },
      "source": [
        "# 가중치 초기화\n",
        "W_in = np.random.randn(7, 3)\n",
        "W_out = np.random.randn(3, 7)"
      ],
      "execution_count": 17,
      "outputs": []
    },
    {
      "cell_type": "code",
      "metadata": {
        "id": "iX1CdJCvI6XP"
      },
      "source": [
        "# 계층 생성\n",
        "in_layer0 = MatMul(W_in)\n",
        "in_layer1 = MatMul(W_in)\n",
        "out_layer = MatMul(W_out)"
      ],
      "execution_count": 18,
      "outputs": []
    },
    {
      "cell_type": "code",
      "metadata": {
        "colab": {
          "base_uri": "https://localhost:8080/"
        },
        "id": "8vGOq36pI7-0",
        "outputId": "0988ef73-22ce-4ad9-8708-15060b0eb1d0"
      },
      "source": [
        "# 순전파\n",
        "h0 = in_layer0.forward(c0)\n",
        "h1 = in_layer1.forward(c1)\n",
        "h = 0.5 * (h0 + h1)\n",
        "s = out_layer.forward(h)\n",
        "print(s)"
      ],
      "execution_count": 19,
      "outputs": [
        {
          "output_type": "stream",
          "text": [
            "[[ 1.27882998  0.95715812 -0.69035553 -1.55040774  0.72225556  0.61256832\n",
            "  -1.33145412]]\n"
          ],
          "name": "stdout"
        }
      ]
    },
    {
      "cell_type": "markdown",
      "metadata": {
        "id": "o30V6eOhFh6n"
      },
      "source": [
        "## 3.2.2 CBOW 모델의 학습\n"
      ]
    },
    {
      "cell_type": "markdown",
      "metadata": {
        "id": "kLgt68HOFjij"
      },
      "source": [
        "## 3.2.3 word2vec의 가중치와 분산 표현"
      ]
    },
    {
      "cell_type": "markdown",
      "metadata": {
        "id": "b0W0O7HFD8Pr"
      },
      "source": [
        "--------------"
      ]
    },
    {
      "cell_type": "markdown",
      "metadata": {
        "id": "KBbdd1XxD9Ko"
      },
      "source": [
        "# 3.3 학습 데이터 준비\n",
        "* 3.3.1 맥락과 타깃\n",
        "* 3.3.2 원핫 표현으로 변환\n"
      ]
    },
    {
      "cell_type": "markdown",
      "metadata": {
        "id": "pwcOlSSdFmcY"
      },
      "source": [
        "## 3.3.1 맥락과 타깃\n"
      ]
    },
    {
      "cell_type": "code",
      "metadata": {
        "id": "Ch8ioDtIJmac"
      },
      "source": [
        "import sys\n",
        "sys.path.append('..')  # 부모 디렉터리의 파일을 가져올 수 있도록 설정"
      ],
      "execution_count": 20,
      "outputs": []
    },
    {
      "cell_type": "code",
      "metadata": {
        "id": "zhgXQaL7Jzvu"
      },
      "source": [
        "from common.util import preprocess"
      ],
      "execution_count": 21,
      "outputs": []
    },
    {
      "cell_type": "code",
      "metadata": {
        "id": "cV9dtLA_J6oA"
      },
      "source": [
        "text = 'You say goodbye and I say hello.'\n",
        "corpus, word_to_id, id_to_word = preprocess(text)"
      ],
      "execution_count": 22,
      "outputs": []
    },
    {
      "cell_type": "code",
      "metadata": {
        "colab": {
          "base_uri": "https://localhost:8080/"
        },
        "id": "5bIwiql5J_Lt",
        "outputId": "632d8829-a9de-4f96-8136-383ed64304f8"
      },
      "source": [
        "corpus"
      ],
      "execution_count": 23,
      "outputs": [
        {
          "output_type": "execute_result",
          "data": {
            "text/plain": [
              "array([0, 1, 2, 3, 4, 1, 5, 6])"
            ]
          },
          "metadata": {
            "tags": []
          },
          "execution_count": 23
        }
      ]
    },
    {
      "cell_type": "code",
      "metadata": {
        "colab": {
          "base_uri": "https://localhost:8080/"
        },
        "id": "baYtQjOiKAsz",
        "outputId": "7a93e491-f95b-47f7-c43f-bb92ea288345"
      },
      "source": [
        "word_to_id"
      ],
      "execution_count": 24,
      "outputs": [
        {
          "output_type": "execute_result",
          "data": {
            "text/plain": [
              "{'.': 6, 'and': 3, 'goodbye': 2, 'hello': 5, 'i': 4, 'say': 1, 'you': 0}"
            ]
          },
          "metadata": {
            "tags": []
          },
          "execution_count": 24
        }
      ]
    },
    {
      "cell_type": "code",
      "metadata": {
        "colab": {
          "base_uri": "https://localhost:8080/"
        },
        "id": "4LC9dYtgKD1v",
        "outputId": "f4ed0014-5e6b-4895-bfd9-15a5b46b4a71"
      },
      "source": [
        "id_to_word"
      ],
      "execution_count": 25,
      "outputs": [
        {
          "output_type": "execute_result",
          "data": {
            "text/plain": [
              "{0: 'you', 1: 'say', 2: 'goodbye', 3: 'and', 4: 'i', 5: 'hello', 6: '.'}"
            ]
          },
          "metadata": {
            "tags": []
          },
          "execution_count": 25
        }
      ]
    },
    {
      "cell_type": "code",
      "metadata": {
        "id": "vQ6UJJ-HKW2I"
      },
      "source": [
        "def create_contexts_target(corpus, window_size=1):\n",
        "    '''맥락과 타깃 생성\n",
        "    :param corpus: 말뭉치(단어 ID 목록)\n",
        "    :param window_size: 윈도우 크기(윈도우 크기가 1이면 타깃 단어 좌우 한 단어씩이 맥락에 포함)\n",
        "    :return:\n",
        "    '''\n",
        "    target = corpus[window_size:-window_size]\n",
        "    contexts = []\n",
        "\n",
        "    for idx in range(window_size, len(corpus)-window_size):\n",
        "        cs = []\n",
        "        for t in range(-window_size, window_size + 1):\n",
        "            if t == 0:\n",
        "                continue\n",
        "            cs.append(corpus[idx + t])\n",
        "        contexts.append(cs)\n",
        "\n",
        "    return np.array(contexts), np.array(target)"
      ],
      "execution_count": 26,
      "outputs": []
    },
    {
      "cell_type": "code",
      "metadata": {
        "id": "ej0XFsBxKhlQ"
      },
      "source": [
        "context, target = create_contexts_target(corpus, window_size=1)"
      ],
      "execution_count": 27,
      "outputs": []
    },
    {
      "cell_type": "code",
      "metadata": {
        "colab": {
          "base_uri": "https://localhost:8080/"
        },
        "id": "SR6QfihBKsDF",
        "outputId": "9cf7c92f-4508-4f9c-bd5e-22d2e1f6afa8"
      },
      "source": [
        "context"
      ],
      "execution_count": 28,
      "outputs": [
        {
          "output_type": "execute_result",
          "data": {
            "text/plain": [
              "array([[0, 2],\n",
              "       [1, 3],\n",
              "       [2, 4],\n",
              "       [3, 1],\n",
              "       [4, 5],\n",
              "       [1, 6]])"
            ]
          },
          "metadata": {
            "tags": []
          },
          "execution_count": 28
        }
      ]
    },
    {
      "cell_type": "code",
      "metadata": {
        "colab": {
          "base_uri": "https://localhost:8080/"
        },
        "id": "apiGoFAYKtIt",
        "outputId": "ad948902-93c5-4cee-ba0d-73fc5ab3cfb3"
      },
      "source": [
        "target"
      ],
      "execution_count": 29,
      "outputs": [
        {
          "output_type": "execute_result",
          "data": {
            "text/plain": [
              "array([1, 2, 3, 4, 1, 5])"
            ]
          },
          "metadata": {
            "tags": []
          },
          "execution_count": 29
        }
      ]
    },
    {
      "cell_type": "markdown",
      "metadata": {
        "id": "oK7y-Ou4Fo8A"
      },
      "source": [
        "## 3.3.2 원핫 표현으로 변환"
      ]
    },
    {
      "cell_type": "code",
      "metadata": {
        "id": "FKMuktGhKxOP"
      },
      "source": [
        "def convert_one_hot(corpus, vocab_size):\n",
        "    '''원핫 표현으로 변환\n",
        "    :param corpus: 단어 ID 목록(1차원 또는 2차원 넘파이 배열)\n",
        "    :param vocab_size: 어휘 수\n",
        "    :return: 원핫 표현(2차원 또는 3차원 넘파이 배열)\n",
        "    '''\n",
        "    N = corpus.shape[0]\n",
        "\n",
        "    if corpus.ndim == 1:\n",
        "        one_hot = np.zeros((N, vocab_size), dtype=np.int32)\n",
        "        for idx, word_id in enumerate(corpus):\n",
        "            one_hot[idx, word_id] = 1\n",
        "\n",
        "    elif corpus.ndim == 2:\n",
        "        C = corpus.shape[1]\n",
        "        one_hot = np.zeros((N, C, vocab_size), dtype=np.int32)\n",
        "        for idx_0, word_ids in enumerate(corpus):\n",
        "            for idx_1, word_id in enumerate(word_ids):\n",
        "                one_hot[idx_0, idx_1, word_id] = 1\n",
        "\n",
        "    return one_hot"
      ],
      "execution_count": 30,
      "outputs": []
    },
    {
      "cell_type": "code",
      "metadata": {
        "colab": {
          "base_uri": "https://localhost:8080/"
        },
        "id": "Q50oLYvqK6i4",
        "outputId": "19f98b79-ff03-41b0-ed04-dc656724b061"
      },
      "source": [
        "vocab_size = len(word_to_id)\n",
        "vocab_size"
      ],
      "execution_count": 31,
      "outputs": [
        {
          "output_type": "execute_result",
          "data": {
            "text/plain": [
              "7"
            ]
          },
          "metadata": {
            "tags": []
          },
          "execution_count": 31
        }
      ]
    },
    {
      "cell_type": "code",
      "metadata": {
        "colab": {
          "base_uri": "https://localhost:8080/"
        },
        "id": "m9Vzm114LBkm",
        "outputId": "f778f671-2ac2-4c33-a3a8-4bb89f8b3b0d"
      },
      "source": [
        "target = convert_one_hot(target, vocab_size)\n",
        "target"
      ],
      "execution_count": 32,
      "outputs": [
        {
          "output_type": "execute_result",
          "data": {
            "text/plain": [
              "array([[0, 1, 0, 0, 0, 0, 0],\n",
              "       [0, 0, 1, 0, 0, 0, 0],\n",
              "       [0, 0, 0, 1, 0, 0, 0],\n",
              "       [0, 0, 0, 0, 1, 0, 0],\n",
              "       [0, 1, 0, 0, 0, 0, 0],\n",
              "       [0, 0, 0, 0, 0, 1, 0]], dtype=int32)"
            ]
          },
          "metadata": {
            "tags": []
          },
          "execution_count": 32
        }
      ]
    },
    {
      "cell_type": "code",
      "metadata": {
        "colab": {
          "base_uri": "https://localhost:8080/"
        },
        "id": "t1agKqf4LH_m",
        "outputId": "37cb017b-6024-4674-bbfa-0b4cda316cba"
      },
      "source": [
        "context = convert_one_hot(context, vocab_size)\n",
        "context"
      ],
      "execution_count": 33,
      "outputs": [
        {
          "output_type": "execute_result",
          "data": {
            "text/plain": [
              "array([[[1, 0, 0, 0, 0, 0, 0],\n",
              "        [0, 0, 1, 0, 0, 0, 0]],\n",
              "\n",
              "       [[0, 1, 0, 0, 0, 0, 0],\n",
              "        [0, 0, 0, 1, 0, 0, 0]],\n",
              "\n",
              "       [[0, 0, 1, 0, 0, 0, 0],\n",
              "        [0, 0, 0, 0, 1, 0, 0]],\n",
              "\n",
              "       [[0, 0, 0, 1, 0, 0, 0],\n",
              "        [0, 1, 0, 0, 0, 0, 0]],\n",
              "\n",
              "       [[0, 0, 0, 0, 1, 0, 0],\n",
              "        [0, 0, 0, 0, 0, 1, 0]],\n",
              "\n",
              "       [[0, 1, 0, 0, 0, 0, 0],\n",
              "        [0, 0, 0, 0, 0, 0, 1]]], dtype=int32)"
            ]
          },
          "metadata": {
            "tags": []
          },
          "execution_count": 33
        }
      ]
    },
    {
      "cell_type": "markdown",
      "metadata": {
        "id": "9JhS4qOnD_jt"
      },
      "source": [
        "--------------"
      ]
    },
    {
      "cell_type": "markdown",
      "metadata": {
        "id": "PPbm3GviEAgL"
      },
      "source": [
        "# 3.4 CBOW 모델 구현\n",
        "* 3.4.1 학습 코드 구현\n"
      ]
    },
    {
      "cell_type": "code",
      "metadata": {
        "id": "kAuhZ2G8vUME"
      },
      "source": [
        "import sys\n",
        "sys.path.append('..')\n",
        "import numpy as np\n",
        "from common.layers import MatMul, SoftmaxWithLoss\n"
      ],
      "execution_count": 34,
      "outputs": []
    },
    {
      "cell_type": "code",
      "metadata": {
        "id": "S7DqukPpva1P"
      },
      "source": [
        "class SimpleCBOW:\n",
        "    def __init__(self, vocab_size, hidden_size):\n",
        "        V, H = vocab_size, hidden_size\n",
        "\n",
        "        # 가중치 초기화\n",
        "        W_in = 0.01 * np.random.randn(V, H).astype('f')\n",
        "        W_out = 0.01 * np.random.randn(H, V).astype('f')\n",
        "\n",
        "        # 계층 생성\n",
        "        self.in_layer0 = MatMul(W_in)\n",
        "        self.in_layer1 = MatMul(W_in)\n",
        "        self.out_layer = MatMul(W_out)\n",
        "        self.loss_layer = SoftmaxWithLoss()\n",
        "\n",
        "        # 모든 가중치와 기울기를 리스트에 모은다.\n",
        "        layers = [self.in_layer0, self.in_layer1, self.out_layer]\n",
        "        self.params, self.grads = [], []\n",
        "        for layer in layers:\n",
        "            self.params += layer.params\n",
        "            self.grads += layer.grads\n",
        "\n",
        "        # 인스턴스 변수에 단어의 분산 표현을 저장한다.\n",
        "        self.word_vecs = W_in\n",
        "\n",
        "    def forward(self, contexts, target):\n",
        "        h0 = self.in_layer0.forward(contexts[:, 0])\n",
        "        h1 = self.in_layer1.forward(contexts[:, 1])\n",
        "        h = (h0 + h1) * 0.5\n",
        "        score = self.out_layer.forward(h)\n",
        "        loss = self.loss_layer.forward(score, target)\n",
        "        return loss\n",
        "\n",
        "    def backward(self, dout=1):\n",
        "        ds = self.loss_layer.backward(dout)\n",
        "        da = self.out_layer.backward(ds)\n",
        "        da *= 0.5\n",
        "        self.in_layer1.backward(da)\n",
        "        self.in_layer0.backward(da)\n",
        "        return None"
      ],
      "execution_count": 35,
      "outputs": []
    },
    {
      "cell_type": "markdown",
      "metadata": {
        "id": "M7Gje98MFqWB"
      },
      "source": [
        "## 3.4.1 학습 코드 구현"
      ]
    },
    {
      "cell_type": "markdown",
      "metadata": {
        "id": "R_X6tyZ4EFEe"
      },
      "source": [
        "-----------------"
      ]
    },
    {
      "cell_type": "markdown",
      "metadata": {
        "id": "_O0jtCe2EF-t"
      },
      "source": [
        "# 3.5 word2vec 보충\n",
        "* 3.5.1 CBOW 모델과 확률\n",
        "* 3.5.2 skip-gram 모델\n",
        "* 3.5.3 통계 기반 vs. 추론 기반\n"
      ]
    },
    {
      "cell_type": "markdown",
      "metadata": {
        "id": "0FxL-P8OFsnL"
      },
      "source": [
        "## 3.5.1 CBOW 모델과 확률\n"
      ]
    },
    {
      "cell_type": "markdown",
      "metadata": {
        "id": "ncIXtQLYFvyC"
      },
      "source": [
        "## 3.5.2 skip-gram 모델\n"
      ]
    },
    {
      "cell_type": "markdown",
      "metadata": {
        "id": "zsNicgbVFw9c"
      },
      "source": [
        "## 3.5.3 통계 기반 vs. 추론 기반"
      ]
    },
    {
      "cell_type": "markdown",
      "metadata": {
        "id": "T2bcAbfhEHay"
      },
      "source": [
        "-----------------"
      ]
    },
    {
      "cell_type": "markdown",
      "metadata": {
        "id": "CGXKXCTOEIu_"
      },
      "source": [
        "# 3.6 정리"
      ]
    },
    {
      "cell_type": "markdown",
      "metadata": {
        "id": "BwPFGbJZAkwj"
      },
      "source": [
        "------------------\n",
        "# 참고문헌\n",
        "* [1] 밑바닥부터 시작하는 딥러닝 2\n",
        "  - https://www.hanbit.co.kr/store/books/look.php?p_code=B8950212853\n",
        "  - github - https://github.com/WegraLee/deep-learning-from-scratch-2"
      ]
    }
  ]
}