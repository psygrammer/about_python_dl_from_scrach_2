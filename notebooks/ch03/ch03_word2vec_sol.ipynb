{
  "nbformat": 4,
  "nbformat_minor": 0,
  "metadata": {
    "colab": {
      "name": "ch03_word2vec.ipynb",
      "provenance": [],
      "authorship_tag": "ABX9TyPOTlfMtJOcfITNvZnwkA9Y",
      "include_colab_link": true
    },
    "kernelspec": {
      "name": "python3",
      "display_name": "Python 3"
    },
    "language_info": {
      "name": "python"
    }
  },
  "cells": [
    {
      "cell_type": "markdown",
      "metadata": {
        "id": "view-in-github",
        "colab_type": "text"
      },
      "source": [
        "<a href=\"https://colab.research.google.com/github/psygrammer/about_python_dl_from_scrach_2/blob/main/notebooks/ch03/ch03_word2vec_sol.ipynb\" target=\"_parent\"><img src=\"https://colab.research.google.com/assets/colab-badge.svg\" alt=\"Open In Colab\"/></a>"
      ]
    },
    {
      "cell_type": "markdown",
      "metadata": {
        "id": "KLef1PM7ujKf"
      },
      "source": [
        "# 3. word2vec (solution)"
      ]
    },
    {
      "cell_type": "markdown",
      "metadata": {
        "id": "1tCj1-a7ARsG"
      },
      "source": [
        "* 싸이그래머 / 어바웃파이썬 : 딥러닝 NLP [1]\n",
        "* 김무성"
      ]
    },
    {
      "cell_type": "markdown",
      "metadata": {
        "id": "KV8K-m63AU9K"
      },
      "source": [
        "# 차례 \n",
        "* 3.1 추론 기반 기법과 신경망\n",
        "  - 3.1.1 통계 기반 기법의 문제점\n",
        "  - 3.1.2 추론 기반 기법 개요\n",
        "  - 3.1.3 신경망에서의 단어 처리\n",
        "* 3.2 단순한 word2vec\n",
        "  - 3.2.1 CBOW 모델의 추론 처리\n",
        "  - 3.2.2 CBOW 모델의 학습\n",
        "  - 3.2.3 word2vec의 가중치와 분산 표현\n",
        "* 3.3 학습 데이터 준비\n",
        "  - 3.3.1 맥락과 타깃\n",
        "  - 3.3.2 원핫 표현으로 변환\n",
        "* 3.4 CBOW 모델 구현\n",
        "  - 3.4.1 학습 코드 구현\n",
        "* 3.5 word2vec 보충\n",
        "  - 3.5.1 CBOW 모델과 확률\n",
        "  - 3.5.2 skip-gram 모델\n",
        "  - 3.5.3 통계 기반 vs. 추론 기반\n",
        "* 3.6 정리"
      ]
    },
    {
      "cell_type": "markdown",
      "metadata": {
        "id": "W6nILPB4FEnW"
      },
      "source": [
        "------------------"
      ]
    },
    {
      "cell_type": "code",
      "metadata": {
        "id": "hRJAFOWUuX4T",
        "outputId": "344fb94e-6d02-49f9-bd7d-ad9a6dfcbf5d",
        "colab": {
          "base_uri": "https://localhost:8080/"
        }
      },
      "source": [
        "!git clone https://github.com/psygrammer/about_python_dl_from_scrach_2.git"
      ],
      "execution_count": 1,
      "outputs": [
        {
          "output_type": "stream",
          "text": [
            "Cloning into 'about_python_dl_from_scrach_2'...\n",
            "remote: Enumerating objects: 104, done.\u001b[K\n",
            "remote: Counting objects: 100% (104/104), done.\u001b[K\n",
            "remote: Compressing objects: 100% (88/88), done.\u001b[K\n",
            "remote: Total 104 (delta 44), reused 33 (delta 5), pack-reused 0\u001b[K\n",
            "Receiving objects: 100% (104/104), 746.54 KiB | 4.50 MiB/s, done.\n",
            "Resolving deltas: 100% (44/44), done.\n"
          ],
          "name": "stdout"
        }
      ]
    },
    {
      "cell_type": "code",
      "metadata": {
        "id": "wyZTlvT5FHkO",
        "outputId": "d3bb4f3d-6a01-4ec2-ed63-96e1b9f5fb94",
        "colab": {
          "base_uri": "https://localhost:8080/"
        }
      },
      "source": [
        "ls"
      ],
      "execution_count": 2,
      "outputs": [
        {
          "output_type": "stream",
          "text": [
            "\u001b[0m\u001b[01;34mabout_python_dl_from_scrach_2\u001b[0m/  \u001b[01;34msample_data\u001b[0m/\n"
          ],
          "name": "stdout"
        }
      ]
    },
    {
      "cell_type": "code",
      "metadata": {
        "id": "KS8mCAfNFMkT"
      },
      "source": [
        "cd /content/about_python_dl_from_scrach_2/notebooks/ch03"
      ],
      "execution_count": null,
      "outputs": []
    },
    {
      "cell_type": "code",
      "metadata": {
        "id": "nVOV8K7_FO1E"
      },
      "source": [
        "ls"
      ],
      "execution_count": null,
      "outputs": []
    },
    {
      "cell_type": "markdown",
      "metadata": {
        "id": "gPsWuMTbAiVa"
      },
      "source": [
        "------------------------"
      ]
    },
    {
      "cell_type": "markdown",
      "metadata": {
        "id": "vb5ofebJD1A6"
      },
      "source": [
        "# 3.1 추론 기반 기법과 신경망\n",
        "* 3.1.1 통계 기반 기법의 문제점\n",
        "* 3.1.2 추론 기반 기법 개요\n",
        "* 3.1.3 신경망에서의 단어 처리"
      ]
    },
    {
      "cell_type": "markdown",
      "metadata": {
        "id": "BDj9LLDQFXm5"
      },
      "source": [
        "## 3.1.1 통계 기반 기법의 문제점\n"
      ]
    },
    {
      "cell_type": "markdown",
      "metadata": {
        "id": "kj6y9fKpFa5b"
      },
      "source": [
        "## 3.1.2 추론 기반 기법 개요\n"
      ]
    },
    {
      "cell_type": "markdown",
      "metadata": {
        "id": "hKcpGcTpFc2i"
      },
      "source": [
        "## 3.1.3 신경망에서의 단어 처리"
      ]
    },
    {
      "cell_type": "code",
      "metadata": {
        "id": "wEfbUvRFF7rn"
      },
      "source": [
        "import numpy as np"
      ],
      "execution_count": null,
      "outputs": []
    },
    {
      "cell_type": "code",
      "metadata": {
        "id": "TMCJ9bMdGQAq"
      },
      "source": [
        "# 입력\n",
        "c = np.array([[1,0,0,0,0,0,0]])\n",
        "c"
      ],
      "execution_count": null,
      "outputs": []
    },
    {
      "cell_type": "code",
      "metadata": {
        "id": "Q59AAp08GUZX"
      },
      "source": [
        "# 가중치\n",
        "# 랜덤 초기화\n",
        "W = np.random.randn(7,3)\n",
        "W"
      ],
      "execution_count": null,
      "outputs": []
    },
    {
      "cell_type": "markdown",
      "metadata": {
        "id": "EyZ5tbYhD37a"
      },
      "source": [
        "-------------"
      ]
    },
    {
      "cell_type": "markdown",
      "metadata": {
        "id": "shW7Dtp7D4zg"
      },
      "source": [
        "# 3.2 단순한 word2vec\n",
        "* 3.2.1 CBOW 모델의 추론 처리\n",
        "* 3.2.2 CBOW 모델의 학습\n",
        "* 3.2.3 word2vec의 가중치와 분산 표현\n"
      ]
    },
    {
      "cell_type": "markdown",
      "metadata": {
        "id": "iIn_mzJOFeZR"
      },
      "source": [
        "## 3.2.1 CBOW 모델의 추론 처리\n"
      ]
    },
    {
      "cell_type": "markdown",
      "metadata": {
        "id": "o30V6eOhFh6n"
      },
      "source": [
        "## 3.2.2 CBOW 모델의 학습\n"
      ]
    },
    {
      "cell_type": "markdown",
      "metadata": {
        "id": "kLgt68HOFjij"
      },
      "source": [
        "## 3.2.3 word2vec의 가중치와 분산 표현"
      ]
    },
    {
      "cell_type": "markdown",
      "metadata": {
        "id": "b0W0O7HFD8Pr"
      },
      "source": [
        "--------------"
      ]
    },
    {
      "cell_type": "markdown",
      "metadata": {
        "id": "KBbdd1XxD9Ko"
      },
      "source": [
        "# 3.3 학습 데이터 준비\n",
        "* 3.3.1 맥락과 타깃\n",
        "* 3.3.2 원핫 표현으로 변환\n"
      ]
    },
    {
      "cell_type": "markdown",
      "metadata": {
        "id": "pwcOlSSdFmcY"
      },
      "source": [
        "## 3.3.1 맥락과 타깃\n"
      ]
    },
    {
      "cell_type": "markdown",
      "metadata": {
        "id": "oK7y-Ou4Fo8A"
      },
      "source": [
        "## 3.3.2 원핫 표현으로 변환"
      ]
    },
    {
      "cell_type": "markdown",
      "metadata": {
        "id": "9JhS4qOnD_jt"
      },
      "source": [
        "--------------"
      ]
    },
    {
      "cell_type": "markdown",
      "metadata": {
        "id": "PPbm3GviEAgL"
      },
      "source": [
        "# 3.4 CBOW 모델 구현\n",
        "* 3.4.1 학습 코드 구현\n"
      ]
    },
    {
      "cell_type": "markdown",
      "metadata": {
        "id": "M7Gje98MFqWB"
      },
      "source": [
        "## 3.4.1 학습 코드 구현"
      ]
    },
    {
      "cell_type": "markdown",
      "metadata": {
        "id": "R_X6tyZ4EFEe"
      },
      "source": [
        "-----------------"
      ]
    },
    {
      "cell_type": "markdown",
      "metadata": {
        "id": "_O0jtCe2EF-t"
      },
      "source": [
        "# 3.5 word2vec 보충\n",
        "* 3.5.1 CBOW 모델과 확률\n",
        "* 3.5.2 skip-gram 모델\n",
        "* 3.5.3 통계 기반 vs. 추론 기반\n"
      ]
    },
    {
      "cell_type": "markdown",
      "metadata": {
        "id": "0FxL-P8OFsnL"
      },
      "source": [
        "## 3.5.1 CBOW 모델과 확률\n"
      ]
    },
    {
      "cell_type": "markdown",
      "metadata": {
        "id": "ncIXtQLYFvyC"
      },
      "source": [
        "## 3.5.2 skip-gram 모델\n"
      ]
    },
    {
      "cell_type": "markdown",
      "metadata": {
        "id": "zsNicgbVFw9c"
      },
      "source": [
        "## 3.5.3 통계 기반 vs. 추론 기반"
      ]
    },
    {
      "cell_type": "markdown",
      "metadata": {
        "id": "T2bcAbfhEHay"
      },
      "source": [
        "-----------------"
      ]
    },
    {
      "cell_type": "markdown",
      "metadata": {
        "id": "CGXKXCTOEIu_"
      },
      "source": [
        "# 3.6 정리"
      ]
    },
    {
      "cell_type": "markdown",
      "metadata": {
        "id": "BwPFGbJZAkwj"
      },
      "source": [
        "------------------\n",
        "# 참고문헌\n",
        "* [1] 밑바닥부터 시작하는 딥러닝 2\n",
        "  - https://www.hanbit.co.kr/store/books/look.php?p_code=B8950212853\n",
        "  - github - https://github.com/WegraLee/deep-learning-from-scratch-2"
      ]
    }
  ]
}