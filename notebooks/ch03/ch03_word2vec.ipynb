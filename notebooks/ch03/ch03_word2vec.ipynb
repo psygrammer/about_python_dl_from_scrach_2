{
  "nbformat": 4,
  "nbformat_minor": 0,
  "metadata": {
    "colab": {
      "name": "ch03_word2vec.ipynb",
      "provenance": [],
      "authorship_tag": "ABX9TyM9x94Zcn0/NprEjRbgdilU",
      "include_colab_link": true
    },
    "kernelspec": {
      "name": "python3",
      "display_name": "Python 3"
    },
    "language_info": {
      "name": "python"
    }
  },
  "cells": [
    {
      "cell_type": "markdown",
      "metadata": {
        "id": "view-in-github",
        "colab_type": "text"
      },
      "source": [
        "<a href=\"https://colab.research.google.com/github/psygrammer/about_python_dl_from_scrach_2/blob/main/notebooks/ch03/ch03_word2vec.ipynb\" target=\"_parent\"><img src=\"https://colab.research.google.com/assets/colab-badge.svg\" alt=\"Open In Colab\"/></a>"
      ]
    },
    {
      "cell_type": "markdown",
      "metadata": {
        "id": "KLef1PM7ujKf"
      },
      "source": [
        "# 3. word2vec "
      ]
    },
    {
      "cell_type": "markdown",
      "metadata": {
        "id": "1tCj1-a7ARsG"
      },
      "source": [
        "* 싸이그래머 / 어바웃파이썬 : 딥러닝 NLP [1]\n",
        "* 김무성"
      ]
    },
    {
      "cell_type": "markdown",
      "metadata": {
        "id": "KV8K-m63AU9K"
      },
      "source": [
        "# 차례 \n",
        "* 3.1 추론 기반 기법과 신경망\n",
        "  - 3.1.1 통계 기반 기법의 문제점\n",
        "  - 3.1.2 추론 기반 기법 개요\n",
        "  - 3.1.3 신경망에서의 단어 처리\n",
        "* 3.2 단순한 word2vec\n",
        "  - 3.2.1 CBOW 모델의 추론 처리\n",
        "  - 3.2.2 CBOW 모델의 학습\n",
        "  - 3.2.3 word2vec의 가중치와 분산 표현\n",
        "* 3.3 학습 데이터 준비\n",
        "  - 3.3.1 맥락과 타깃\n",
        "  - 3.3.2 원핫 표현으로 변환\n",
        "* 3.4 CBOW 모델 구현\n",
        "  - 3.4.1 학습 코드 구현\n",
        "* 3.5 word2vec 보충\n",
        "  - 3.5.1 CBOW 모델과 확률\n",
        "  - 3.5.2 skip-gram 모델\n",
        "  - 3.5.3 통계 기반 vs. 추론 기반\n",
        "* 3.6 정리"
      ]
    },
    {
      "cell_type": "markdown",
      "metadata": {
        "id": "W6nILPB4FEnW"
      },
      "source": [
        "------------------"
      ]
    },
    {
      "cell_type": "code",
      "metadata": {
        "id": "hRJAFOWUuX4T",
        "colab": {
          "base_uri": "https://localhost:8080/"
        },
        "outputId": "f871001a-39f4-4680-d749-fd8f543736c7"
      },
      "source": [
        "!git clone https://github.com/psygrammer/about_python_dl_from_scrach_2.git"
      ],
      "execution_count": null,
      "outputs": [
        {
          "output_type": "stream",
          "text": [
            "Cloning into 'about_python_dl_from_scrach_2'...\n",
            "remote: Enumerating objects: 124, done.\u001b[K\n",
            "remote: Counting objects: 100% (124/124), done.\u001b[K\n",
            "remote: Compressing objects: 100% (108/108), done.\u001b[K\n",
            "remote: Total 124 (delta 52), reused 33 (delta 5), pack-reused 0\u001b[K\n",
            "Receiving objects: 100% (124/124), 753.41 KiB | 11.96 MiB/s, done.\n",
            "Resolving deltas: 100% (52/52), done.\n"
          ],
          "name": "stdout"
        }
      ]
    },
    {
      "cell_type": "code",
      "metadata": {
        "id": "wyZTlvT5FHkO",
        "colab": {
          "base_uri": "https://localhost:8080/"
        },
        "outputId": "a4da0635-0923-4749-b0cf-43d1f6091c96"
      },
      "source": [
        "ls"
      ],
      "execution_count": null,
      "outputs": [
        {
          "output_type": "stream",
          "text": [
            "\u001b[0m\u001b[01;34mabout_python_dl_from_scrach_2\u001b[0m/  \u001b[01;34msample_data\u001b[0m/\n"
          ],
          "name": "stdout"
        }
      ]
    },
    {
      "cell_type": "code",
      "metadata": {
        "id": "KS8mCAfNFMkT",
        "colab": {
          "base_uri": "https://localhost:8080/"
        },
        "outputId": "0e9929ee-ecff-4308-cd81-6df549216386"
      },
      "source": [
        "cd /content/about_python_dl_from_scrach_2/notebooks/ch03"
      ],
      "execution_count": null,
      "outputs": [
        {
          "output_type": "stream",
          "text": [
            "/content/about_python_dl_from_scrach_2/notebooks/ch03\n"
          ],
          "name": "stdout"
        }
      ]
    },
    {
      "cell_type": "code",
      "metadata": {
        "id": "nVOV8K7_FO1E",
        "colab": {
          "base_uri": "https://localhost:8080/"
        },
        "outputId": "5382056b-16a1-4c9d-b560-def69c475ad5"
      },
      "source": [
        "ls"
      ],
      "execution_count": null,
      "outputs": [
        {
          "output_type": "stream",
          "text": [
            "ch03_word2vec.ipynb  ch03_word2vec_sol.ipynb\n"
          ],
          "name": "stdout"
        }
      ]
    },
    {
      "cell_type": "markdown",
      "metadata": {
        "id": "gPsWuMTbAiVa"
      },
      "source": [
        "------------------------"
      ]
    },
    {
      "cell_type": "markdown",
      "metadata": {
        "id": "vb5ofebJD1A6"
      },
      "source": [
        "# 3.1 추론 기반 기법과 신경망\n",
        "* 3.1.1 통계 기반 기법의 문제점\n",
        "* 3.1.2 추론 기반 기법 개요\n",
        "* 3.1.3 신경망에서의 단어 처리"
      ]
    },
    {
      "cell_type": "markdown",
      "metadata": {
        "id": "BDj9LLDQFXm5"
      },
      "source": [
        "## 3.1.1 통계 기반 기법의 문제점\n"
      ]
    },
    {
      "cell_type": "markdown",
      "metadata": {
        "id": "kj6y9fKpFa5b"
      },
      "source": [
        "## 3.1.2 추론 기반 기법 개요\n"
      ]
    },
    {
      "cell_type": "markdown",
      "metadata": {
        "id": "hKcpGcTpFc2i"
      },
      "source": [
        "## 3.1.3 신경망에서의 단어 처리"
      ]
    },
    {
      "cell_type": "code",
      "metadata": {
        "id": "wEfbUvRFF7rn"
      },
      "source": [
        "import numpy as np"
      ],
      "execution_count": null,
      "outputs": []
    },
    {
      "cell_type": "code",
      "metadata": {
        "id": "TMCJ9bMdGQAq",
        "colab": {
          "base_uri": "https://localhost:8080/"
        },
        "outputId": "ff78c618-6961-44ea-e6d5-38107bd2f280"
      },
      "source": [
        "# 입력\n",
        "c = # 실습!!\n",
        "c"
      ],
      "execution_count": null,
      "outputs": [
        {
          "output_type": "execute_result",
          "data": {
            "text/plain": [
              "array([[1, 0, 0, 0, 0, 0, 0]])"
            ]
          },
          "metadata": {
            "tags": []
          },
          "execution_count": 43
        }
      ]
    },
    {
      "cell_type": "code",
      "metadata": {
        "id": "Q59AAp08GUZX",
        "colab": {
          "base_uri": "https://localhost:8080/"
        },
        "outputId": "1ff14ba4-8b0d-443a-d5e7-4e73bf2db3f9"
      },
      "source": [
        "# 가중치\n",
        "# 랜덤 초기화\n",
        "W = # 실습!! \n",
        "W"
      ],
      "execution_count": null,
      "outputs": [
        {
          "output_type": "execute_result",
          "data": {
            "text/plain": [
              "array([[ 1.38848718,  1.02977117, -0.01173942],\n",
              "       [ 0.39039347, -0.0634549 , -0.94920428],\n",
              "       [-0.2838742 ,  0.3173833 , -0.53248075],\n",
              "       [ 0.1392081 , -1.24265043,  0.7037975 ],\n",
              "       [-0.11111663,  1.41382367, -1.92381103],\n",
              "       [-0.47865414,  1.11309089,  0.26471099],\n",
              "       [-0.85366311, -1.41926593,  1.33461487]])"
            ]
          },
          "metadata": {
            "tags": []
          },
          "execution_count": 44
        }
      ]
    },
    {
      "cell_type": "code",
      "metadata": {
        "colab": {
          "base_uri": "https://localhost:8080/"
        },
        "id": "PXFyTIXBHTLh",
        "outputId": "5f5afcca-2157-4dc1-c11d-b3986b0682be"
      },
      "source": [
        "# 중간노드\n",
        "h = # 실습!! \n",
        "h"
      ],
      "execution_count": null,
      "outputs": [
        {
          "output_type": "execute_result",
          "data": {
            "text/plain": [
              "array([[ 1.38848718,  1.02977117, -0.01173942]])"
            ]
          },
          "metadata": {
            "tags": []
          },
          "execution_count": 45
        }
      ]
    },
    {
      "cell_type": "markdown",
      "metadata": {
        "id": "jOMFMAzsHSff"
      },
      "source": [
        "#### 위의 코드는 1장에서 구현한 MaMul 계층으로도 수행할 수 있다. "
      ]
    },
    {
      "cell_type": "code",
      "metadata": {
        "id": "EHjfCuLkHoMs"
      },
      "source": [
        "import sys\n",
        "sys.path.append('..')"
      ],
      "execution_count": null,
      "outputs": []
    },
    {
      "cell_type": "code",
      "metadata": {
        "id": "LupB3CGgH3gk"
      },
      "source": [
        "import numpy as np\n",
        "from common.layers import MatMul"
      ],
      "execution_count": null,
      "outputs": []
    },
    {
      "cell_type": "code",
      "metadata": {
        "colab": {
          "base_uri": "https://localhost:8080/"
        },
        "id": "As_IYYkrH9Rf",
        "outputId": "6ec169ed-0707-412f-fbcd-fc36a5fd5341"
      },
      "source": [
        "# 입력\n",
        "c = # 실습!!\n",
        "c"
      ],
      "execution_count": null,
      "outputs": [
        {
          "output_type": "execute_result",
          "data": {
            "text/plain": [
              "array([[1, 0, 0, 0, 0, 0, 0]])"
            ]
          },
          "metadata": {
            "tags": []
          },
          "execution_count": 48
        }
      ]
    },
    {
      "cell_type": "code",
      "metadata": {
        "colab": {
          "base_uri": "https://localhost:8080/"
        },
        "id": "PwY_P9lEII2F",
        "outputId": "28562699-57c6-4304-9b35-d53aba96707a"
      },
      "source": [
        "# 가중치\n",
        "# 랜덤 초기화\n",
        "W = # 실습!! \n",
        "W"
      ],
      "execution_count": null,
      "outputs": [
        {
          "output_type": "execute_result",
          "data": {
            "text/plain": [
              "array([[ 0.19688758, -0.68811692,  1.34827054],\n",
              "       [ 0.78890834, -2.05212962, -0.29231739],\n",
              "       [-0.22079616, -0.20491852, -0.2980139 ],\n",
              "       [-1.19158304, -1.18083527,  0.25957179],\n",
              "       [-0.30870123, -0.02558021,  1.1031296 ],\n",
              "       [-0.24175497, -1.91114093,  0.87107904],\n",
              "       [-0.41132639, -0.84450841, -0.61423326]])"
            ]
          },
          "metadata": {
            "tags": []
          },
          "execution_count": 49
        }
      ]
    },
    {
      "cell_type": "code",
      "metadata": {
        "colab": {
          "base_uri": "https://localhost:8080/"
        },
        "id": "V9Z0gQDpISGo",
        "outputId": "ec1bec9a-9140-4d53-d437-42485f61653b"
      },
      "source": [
        "layer = MatMul(W)\n",
        "layer"
      ],
      "execution_count": null,
      "outputs": [
        {
          "output_type": "execute_result",
          "data": {
            "text/plain": [
              "<common.layers.MatMul at 0x7ff4a2aa2bd0>"
            ]
          },
          "metadata": {
            "tags": []
          },
          "execution_count": 50
        }
      ]
    },
    {
      "cell_type": "code",
      "metadata": {
        "colab": {
          "base_uri": "https://localhost:8080/"
        },
        "id": "EIMzU7CwIWZg",
        "outputId": "eb9bbb5b-dbff-4409-d4c6-b2e7f95674c8"
      },
      "source": [
        "h = layer.forward(c)\n",
        "h"
      ],
      "execution_count": null,
      "outputs": [
        {
          "output_type": "execute_result",
          "data": {
            "text/plain": [
              "array([[ 0.19688758, -0.68811692,  1.34827054]])"
            ]
          },
          "metadata": {
            "tags": []
          },
          "execution_count": 51
        }
      ]
    },
    {
      "cell_type": "markdown",
      "metadata": {
        "id": "EyZ5tbYhD37a"
      },
      "source": [
        "-------------"
      ]
    },
    {
      "cell_type": "markdown",
      "metadata": {
        "id": "shW7Dtp7D4zg"
      },
      "source": [
        "# 3.2 단순한 word2vec\n",
        "* 3.2.1 CBOW 모델의 추론 처리\n",
        "* 3.2.2 CBOW 모델의 학습\n",
        "* 3.2.3 word2vec의 가중치와 분산 표현\n"
      ]
    },
    {
      "cell_type": "markdown",
      "metadata": {
        "id": "iIn_mzJOFeZR"
      },
      "source": [
        "## 3.2.1 CBOW 모델의 추론 처리\n"
      ]
    },
    {
      "cell_type": "code",
      "metadata": {
        "id": "BZeahziXIwgl"
      },
      "source": [
        "# coding: utf-8\n",
        "import sys\n",
        "sys.path.append('..')\n",
        "import numpy as np\n",
        "from common.layers import MatMul"
      ],
      "execution_count": null,
      "outputs": []
    },
    {
      "cell_type": "code",
      "metadata": {
        "id": "I3REWK3DIzvh"
      },
      "source": [
        "# 샘플 맥락 데이터\n",
        "c0 = # 실습!!\n",
        "c1 = # 실습!!"
      ],
      "execution_count": null,
      "outputs": []
    },
    {
      "cell_type": "code",
      "metadata": {
        "id": "k0jxva2HI4Vk"
      },
      "source": [
        "# 가중치 초기화\n",
        "W_in = # 실습!!\n",
        "W_out = # 실습!!"
      ],
      "execution_count": null,
      "outputs": []
    },
    {
      "cell_type": "code",
      "metadata": {
        "id": "iX1CdJCvI6XP"
      },
      "source": [
        "# 계층 생성\n",
        "in_layer0 = # 실습!!\n",
        "in_layer1 = # 실습!!\n",
        "out_layer = # 실습!!"
      ],
      "execution_count": null,
      "outputs": []
    },
    {
      "cell_type": "code",
      "metadata": {
        "colab": {
          "base_uri": "https://localhost:8080/"
        },
        "id": "8vGOq36pI7-0",
        "outputId": "cfcebdfa-743e-4d4c-c3a2-9e8a440d5723"
      },
      "source": [
        "# 순전파\n",
        "h0 = # 실습!!\n",
        "h1 = # 실습!!\n",
        "h = # 실습!!\n",
        "s = # 실습!!\n",
        "print(s)"
      ],
      "execution_count": null,
      "outputs": [
        {
          "output_type": "stream",
          "text": [
            "[[ 0.73383946  1.11200106  0.1880594   0.14714837  0.44823392 -0.19428942\n",
            "   0.63409298]]\n"
          ],
          "name": "stdout"
        }
      ]
    },
    {
      "cell_type": "markdown",
      "metadata": {
        "id": "o30V6eOhFh6n"
      },
      "source": [
        "## 3.2.2 CBOW 모델의 학습\n"
      ]
    },
    {
      "cell_type": "markdown",
      "metadata": {
        "id": "kLgt68HOFjij"
      },
      "source": [
        "## 3.2.3 word2vec의 가중치와 분산 표현"
      ]
    },
    {
      "cell_type": "markdown",
      "metadata": {
        "id": "b0W0O7HFD8Pr"
      },
      "source": [
        "--------------"
      ]
    },
    {
      "cell_type": "markdown",
      "metadata": {
        "id": "KBbdd1XxD9Ko"
      },
      "source": [
        "# 3.3 학습 데이터 준비\n",
        "* 3.3.1 맥락과 타깃\n",
        "* 3.3.2 원핫 표현으로 변환\n"
      ]
    },
    {
      "cell_type": "markdown",
      "metadata": {
        "id": "pwcOlSSdFmcY"
      },
      "source": [
        "## 3.3.1 맥락과 타깃\n"
      ]
    },
    {
      "cell_type": "code",
      "metadata": {
        "id": "Ch8ioDtIJmac"
      },
      "source": [
        "import sys\n",
        "sys.path.append('..')  # 부모 디렉터리의 파일을 가져올 수 있도록 설정"
      ],
      "execution_count": null,
      "outputs": []
    },
    {
      "cell_type": "code",
      "metadata": {
        "id": "zhgXQaL7Jzvu"
      },
      "source": [
        "from common.util import preprocess"
      ],
      "execution_count": null,
      "outputs": []
    },
    {
      "cell_type": "code",
      "metadata": {
        "id": "cV9dtLA_J6oA"
      },
      "source": [
        "text = 'You say goodbye and I say hello.'\n",
        "corpus, word_to_id, id_to_word = preprocess(text)"
      ],
      "execution_count": null,
      "outputs": []
    },
    {
      "cell_type": "code",
      "metadata": {
        "colab": {
          "base_uri": "https://localhost:8080/"
        },
        "id": "5bIwiql5J_Lt",
        "outputId": "714e78e2-521e-42f4-bb17-941462624e93"
      },
      "source": [
        "corpus"
      ],
      "execution_count": null,
      "outputs": [
        {
          "output_type": "execute_result",
          "data": {
            "text/plain": [
              "array([0, 1, 2, 3, 4, 1, 5, 6])"
            ]
          },
          "metadata": {
            "tags": []
          },
          "execution_count": 60
        }
      ]
    },
    {
      "cell_type": "code",
      "metadata": {
        "colab": {
          "base_uri": "https://localhost:8080/"
        },
        "id": "baYtQjOiKAsz",
        "outputId": "fe4d97e7-2f22-4345-fb1e-bcbcd27c725a"
      },
      "source": [
        "word_to_id"
      ],
      "execution_count": null,
      "outputs": [
        {
          "output_type": "execute_result",
          "data": {
            "text/plain": [
              "{'.': 6, 'and': 3, 'goodbye': 2, 'hello': 5, 'i': 4, 'say': 1, 'you': 0}"
            ]
          },
          "metadata": {
            "tags": []
          },
          "execution_count": 61
        }
      ]
    },
    {
      "cell_type": "code",
      "metadata": {
        "colab": {
          "base_uri": "https://localhost:8080/"
        },
        "id": "4LC9dYtgKD1v",
        "outputId": "347edbab-7c11-4667-fd74-7075ed6c7c50"
      },
      "source": [
        "id_to_word"
      ],
      "execution_count": null,
      "outputs": [
        {
          "output_type": "execute_result",
          "data": {
            "text/plain": [
              "{0: 'you', 1: 'say', 2: 'goodbye', 3: 'and', 4: 'i', 5: 'hello', 6: '.'}"
            ]
          },
          "metadata": {
            "tags": []
          },
          "execution_count": 62
        }
      ]
    },
    {
      "cell_type": "code",
      "metadata": {
        "id": "vQ6UJJ-HKW2I"
      },
      "source": [
        "def create_contexts_target(corpus, window_size=1):\n",
        "    '''맥락과 타깃 생성\n",
        "    :param corpus: 말뭉치(단어 ID 목록)\n",
        "    :param window_size: 윈도우 크기(윈도우 크기가 1이면 타깃 단어 좌우 한 단어씩이 맥락에 포함)\n",
        "    :return:\n",
        "    '''\n",
        "    # 실습!!"
      ],
      "execution_count": null,
      "outputs": []
    },
    {
      "cell_type": "code",
      "metadata": {
        "id": "ej0XFsBxKhlQ"
      },
      "source": [
        "context, target = create_contexts_target(corpus, window_size=1)"
      ],
      "execution_count": null,
      "outputs": []
    },
    {
      "cell_type": "code",
      "metadata": {
        "colab": {
          "base_uri": "https://localhost:8080/"
        },
        "id": "SR6QfihBKsDF",
        "outputId": "01a51e85-53fe-4a93-a231-7e7f7b37637d"
      },
      "source": [
        "context"
      ],
      "execution_count": null,
      "outputs": [
        {
          "output_type": "execute_result",
          "data": {
            "text/plain": [
              "array([[0, 2],\n",
              "       [1, 3],\n",
              "       [2, 4],\n",
              "       [3, 1],\n",
              "       [4, 5],\n",
              "       [1, 6]])"
            ]
          },
          "metadata": {
            "tags": []
          },
          "execution_count": 65
        }
      ]
    },
    {
      "cell_type": "code",
      "metadata": {
        "colab": {
          "base_uri": "https://localhost:8080/"
        },
        "id": "apiGoFAYKtIt",
        "outputId": "8ca5a402-aac8-4cc3-d36f-8eb92368b86b"
      },
      "source": [
        "target"
      ],
      "execution_count": null,
      "outputs": [
        {
          "output_type": "execute_result",
          "data": {
            "text/plain": [
              "array([1, 2, 3, 4, 1, 5])"
            ]
          },
          "metadata": {
            "tags": []
          },
          "execution_count": 66
        }
      ]
    },
    {
      "cell_type": "markdown",
      "metadata": {
        "id": "oK7y-Ou4Fo8A"
      },
      "source": [
        "## 3.3.2 원핫 표현으로 변환"
      ]
    },
    {
      "cell_type": "code",
      "metadata": {
        "id": "FKMuktGhKxOP"
      },
      "source": [
        "def convert_one_hot(corpus, vocab_size):\n",
        "    '''원핫 표현으로 변환\n",
        "    :param corpus: 단어 ID 목록(1차원 또는 2차원 넘파이 배열)\n",
        "    :param vocab_size: 어휘 수\n",
        "    :return: 원핫 표현(2차원 또는 3차원 넘파이 배열)\n",
        "    '''\n",
        "    # 실습!!"
      ],
      "execution_count": null,
      "outputs": []
    },
    {
      "cell_type": "code",
      "metadata": {
        "colab": {
          "base_uri": "https://localhost:8080/"
        },
        "id": "Q50oLYvqK6i4",
        "outputId": "4966e460-582a-4c24-cfcc-4c38f1844cb7"
      },
      "source": [
        "vocab_size = # 실습!!\n",
        "vocab_size"
      ],
      "execution_count": null,
      "outputs": [
        {
          "output_type": "execute_result",
          "data": {
            "text/plain": [
              "7"
            ]
          },
          "metadata": {
            "tags": []
          },
          "execution_count": 68
        }
      ]
    },
    {
      "cell_type": "code",
      "metadata": {
        "colab": {
          "base_uri": "https://localhost:8080/"
        },
        "id": "m9Vzm114LBkm",
        "outputId": "4a9473e8-5166-473e-9bff-df62c64bc389"
      },
      "source": [
        "target = convert_one_hot(target, vocab_size)\n",
        "target"
      ],
      "execution_count": null,
      "outputs": [
        {
          "output_type": "execute_result",
          "data": {
            "text/plain": [
              "array([[0, 1, 0, 0, 0, 0, 0],\n",
              "       [0, 0, 1, 0, 0, 0, 0],\n",
              "       [0, 0, 0, 1, 0, 0, 0],\n",
              "       [0, 0, 0, 0, 1, 0, 0],\n",
              "       [0, 1, 0, 0, 0, 0, 0],\n",
              "       [0, 0, 0, 0, 0, 1, 0]], dtype=int32)"
            ]
          },
          "metadata": {
            "tags": []
          },
          "execution_count": 69
        }
      ]
    },
    {
      "cell_type": "code",
      "metadata": {
        "colab": {
          "base_uri": "https://localhost:8080/"
        },
        "id": "t1agKqf4LH_m",
        "outputId": "ccdf3fd2-c669-46d5-fc93-2b21865f9072"
      },
      "source": [
        "context = convert_one_hot(context, vocab_size)\n",
        "context"
      ],
      "execution_count": null,
      "outputs": [
        {
          "output_type": "execute_result",
          "data": {
            "text/plain": [
              "array([[[1, 0, 0, 0, 0, 0, 0],\n",
              "        [0, 0, 1, 0, 0, 0, 0]],\n",
              "\n",
              "       [[0, 1, 0, 0, 0, 0, 0],\n",
              "        [0, 0, 0, 1, 0, 0, 0]],\n",
              "\n",
              "       [[0, 0, 1, 0, 0, 0, 0],\n",
              "        [0, 0, 0, 0, 1, 0, 0]],\n",
              "\n",
              "       [[0, 0, 0, 1, 0, 0, 0],\n",
              "        [0, 1, 0, 0, 0, 0, 0]],\n",
              "\n",
              "       [[0, 0, 0, 0, 1, 0, 0],\n",
              "        [0, 0, 0, 0, 0, 1, 0]],\n",
              "\n",
              "       [[0, 1, 0, 0, 0, 0, 0],\n",
              "        [0, 0, 0, 0, 0, 0, 1]]], dtype=int32)"
            ]
          },
          "metadata": {
            "tags": []
          },
          "execution_count": 70
        }
      ]
    },
    {
      "cell_type": "markdown",
      "metadata": {
        "id": "9JhS4qOnD_jt"
      },
      "source": [
        "--------------"
      ]
    },
    {
      "cell_type": "markdown",
      "metadata": {
        "id": "PPbm3GviEAgL"
      },
      "source": [
        "# 3.4 CBOW 모델 구현\n",
        "* 3.4.1 학습 코드 구현\n"
      ]
    },
    {
      "cell_type": "code",
      "metadata": {
        "id": "kAuhZ2G8vUME"
      },
      "source": [
        "import sys\n",
        "sys.path.append('..')\n",
        "import numpy as np\n",
        "from common.layers import MatMul, SoftmaxWithLoss\n"
      ],
      "execution_count": null,
      "outputs": []
    },
    {
      "cell_type": "code",
      "metadata": {
        "id": "S7DqukPpva1P"
      },
      "source": [
        "class SimpleCBOW:\n",
        "    def __init__(self, vocab_size, hidden_size):\n",
        "        \n",
        "\n",
        "        # 가중치 초기화\n",
        "\n",
        "        # 계층 생성\n",
        "        \n",
        "        # 모든 가중치와 기울기를 리스트에 모은다.\n",
        "\n",
        "        # 인스턴스 변수에 단어의 분산 표현을 저장한다.\n",
        "\n",
        "    def forward(self, contexts, target):\n",
        "        \n",
        "        # 실습!!\n",
        "\n",
        "    def backward(self, dout=1):\n",
        "        \n",
        "        # 실습!!"
      ],
      "execution_count": null,
      "outputs": []
    },
    {
      "cell_type": "markdown",
      "metadata": {
        "id": "M7Gje98MFqWB"
      },
      "source": [
        "## 3.4.1 학습 코드 구현"
      ]
    },
    {
      "cell_type": "code",
      "metadata": {
        "id": "dDvGOQNvBH1V"
      },
      "source": [
        "import sys\n",
        "sys.path.append('..')  # 부모 디렉터리의 파일을 가져올 수 있도록 설정\n",
        "from common.trainer import Trainer\n",
        "from common.optimizer import Adam\n",
        "#from simple_cbow import SimpleCBOW\n",
        "from common.util import preprocess, create_contexts_target, convert_one_hot"
      ],
      "execution_count": null,
      "outputs": []
    },
    {
      "cell_type": "code",
      "metadata": {
        "id": "iu5vg3nFBfKq"
      },
      "source": [
        "window_size = 1\n",
        "hidden_size = 5\n",
        "batch_size = 3\n",
        "max_epoch = 1000"
      ],
      "execution_count": null,
      "outputs": []
    },
    {
      "cell_type": "code",
      "metadata": {
        "id": "TAmtvFqUBl8X"
      },
      "source": [
        "text = 'You say goodbye and I say hello.'\n",
        "corpus, word_to_id, id_to_word = preprocess(text)"
      ],
      "execution_count": null,
      "outputs": []
    },
    {
      "cell_type": "code",
      "metadata": {
        "id": "f9KWlpyCBoL4"
      },
      "source": [
        "vocab_size = len(word_to_id)\n",
        "contexts, target = create_contexts_target(corpus, window_size)\n",
        "target = convert_one_hot(target, vocab_size)\n",
        "contexts = convert_one_hot(contexts, vocab_size)"
      ],
      "execution_count": null,
      "outputs": []
    },
    {
      "cell_type": "code",
      "metadata": {
        "id": "0GFFaRRTBtAn"
      },
      "source": [
        "model = SimpleCBOW(vocab_size, hidden_size)\n",
        "optimizer = Adam()\n",
        "trainer = Trainer(model, optimizer)"
      ],
      "execution_count": null,
      "outputs": []
    },
    {
      "cell_type": "code",
      "metadata": {
        "colab": {
          "base_uri": "https://localhost:8080/",
          "height": 1000
        },
        "id": "_zhN1II1Bvf9",
        "outputId": "97be1793-4465-4f7c-90f5-d9346f5c8546"
      },
      "source": [
        "trainer.fit(contexts, target, max_epoch, batch_size)\n",
        "trainer.plot()"
      ],
      "execution_count": null,
      "outputs": [
        {
          "output_type": "stream",
          "text": [
            "| 에폭 1 |  반복 1 / 2 | 시간 0[s] | 손실 1.95\n",
            "| 에폭 2 |  반복 1 / 2 | 시간 0[s] | 손실 1.95\n",
            "| 에폭 3 |  반복 1 / 2 | 시간 0[s] | 손실 1.95\n",
            "| 에폭 4 |  반복 1 / 2 | 시간 0[s] | 손실 1.95\n",
            "| 에폭 5 |  반복 1 / 2 | 시간 0[s] | 손실 1.95\n",
            "| 에폭 6 |  반복 1 / 2 | 시간 0[s] | 손실 1.95\n",
            "| 에폭 7 |  반복 1 / 2 | 시간 0[s] | 손실 1.95\n",
            "| 에폭 8 |  반복 1 / 2 | 시간 0[s] | 손실 1.95\n",
            "| 에폭 9 |  반복 1 / 2 | 시간 0[s] | 손실 1.95\n",
            "| 에폭 10 |  반복 1 / 2 | 시간 0[s] | 손실 1.95\n",
            "| 에폭 11 |  반복 1 / 2 | 시간 0[s] | 손실 1.95\n",
            "| 에폭 12 |  반복 1 / 2 | 시간 0[s] | 손실 1.94\n",
            "| 에폭 13 |  반복 1 / 2 | 시간 0[s] | 손실 1.94\n",
            "| 에폭 14 |  반복 1 / 2 | 시간 0[s] | 손실 1.94\n",
            "| 에폭 15 |  반복 1 / 2 | 시간 0[s] | 손실 1.94\n",
            "| 에폭 16 |  반복 1 / 2 | 시간 0[s] | 손실 1.94\n",
            "| 에폭 17 |  반복 1 / 2 | 시간 0[s] | 손실 1.94\n",
            "| 에폭 18 |  반복 1 / 2 | 시간 0[s] | 손실 1.94\n",
            "| 에폭 19 |  반복 1 / 2 | 시간 0[s] | 손실 1.94\n",
            "| 에폭 20 |  반복 1 / 2 | 시간 0[s] | 손실 1.94\n",
            "| 에폭 21 |  반복 1 / 2 | 시간 0[s] | 손실 1.94\n",
            "| 에폭 22 |  반복 1 / 2 | 시간 0[s] | 손실 1.94\n",
            "| 에폭 23 |  반복 1 / 2 | 시간 0[s] | 손실 1.94\n",
            "| 에폭 24 |  반복 1 / 2 | 시간 0[s] | 손실 1.94\n",
            "| 에폭 25 |  반복 1 / 2 | 시간 0[s] | 손실 1.94\n",
            "| 에폭 26 |  반복 1 / 2 | 시간 0[s] | 손실 1.94\n",
            "| 에폭 27 |  반복 1 / 2 | 시간 0[s] | 손실 1.94\n",
            "| 에폭 28 |  반복 1 / 2 | 시간 0[s] | 손실 1.94\n",
            "| 에폭 29 |  반복 1 / 2 | 시간 0[s] | 손실 1.94\n",
            "| 에폭 30 |  반복 1 / 2 | 시간 0[s] | 손실 1.94\n",
            "| 에폭 31 |  반복 1 / 2 | 시간 0[s] | 손실 1.94\n",
            "| 에폭 32 |  반복 1 / 2 | 시간 0[s] | 손실 1.94\n",
            "| 에폭 33 |  반복 1 / 2 | 시간 0[s] | 손실 1.93\n",
            "| 에폭 34 |  반복 1 / 2 | 시간 0[s] | 손실 1.93\n",
            "| 에폭 35 |  반복 1 / 2 | 시간 0[s] | 손실 1.93\n",
            "| 에폭 36 |  반복 1 / 2 | 시간 0[s] | 손실 1.93\n",
            "| 에폭 37 |  반복 1 / 2 | 시간 0[s] | 손실 1.93\n",
            "| 에폭 38 |  반복 1 / 2 | 시간 0[s] | 손실 1.93\n",
            "| 에폭 39 |  반복 1 / 2 | 시간 0[s] | 손실 1.93\n",
            "| 에폭 40 |  반복 1 / 2 | 시간 0[s] | 손실 1.93\n",
            "| 에폭 41 |  반복 1 / 2 | 시간 0[s] | 손실 1.92\n",
            "| 에폭 42 |  반복 1 / 2 | 시간 0[s] | 손실 1.93\n",
            "| 에폭 43 |  반복 1 / 2 | 시간 0[s] | 손실 1.92\n",
            "| 에폭 44 |  반복 1 / 2 | 시간 0[s] | 손실 1.92\n",
            "| 에폭 45 |  반복 1 / 2 | 시간 0[s] | 손실 1.92\n",
            "| 에폭 46 |  반복 1 / 2 | 시간 0[s] | 손실 1.92\n",
            "| 에폭 47 |  반복 1 / 2 | 시간 0[s] | 손실 1.92\n",
            "| 에폭 48 |  반복 1 / 2 | 시간 0[s] | 손실 1.91\n",
            "| 에폭 49 |  반복 1 / 2 | 시간 0[s] | 손실 1.92\n",
            "| 에폭 50 |  반복 1 / 2 | 시간 0[s] | 손실 1.91\n",
            "| 에폭 51 |  반복 1 / 2 | 시간 0[s] | 손실 1.92\n",
            "| 에폭 52 |  반복 1 / 2 | 시간 0[s] | 손실 1.91\n",
            "| 에폭 53 |  반복 1 / 2 | 시간 0[s] | 손실 1.91\n",
            "| 에폭 54 |  반복 1 / 2 | 시간 0[s] | 손실 1.91\n",
            "| 에폭 55 |  반복 1 / 2 | 시간 0[s] | 손실 1.91\n",
            "| 에폭 56 |  반복 1 / 2 | 시간 0[s] | 손실 1.90\n",
            "| 에폭 57 |  반복 1 / 2 | 시간 0[s] | 손실 1.90\n",
            "| 에폭 58 |  반복 1 / 2 | 시간 0[s] | 손실 1.89\n",
            "| 에폭 59 |  반복 1 / 2 | 시간 0[s] | 손실 1.90\n",
            "| 에폭 60 |  반복 1 / 2 | 시간 0[s] | 손실 1.90\n",
            "| 에폭 61 |  반복 1 / 2 | 시간 0[s] | 손실 1.89\n",
            "| 에폭 62 |  반복 1 / 2 | 시간 0[s] | 손실 1.89\n",
            "| 에폭 63 |  반복 1 / 2 | 시간 0[s] | 손실 1.89\n",
            "| 에폭 64 |  반복 1 / 2 | 시간 0[s] | 손실 1.89\n",
            "| 에폭 65 |  반복 1 / 2 | 시간 0[s] | 손실 1.88\n",
            "| 에폭 66 |  반복 1 / 2 | 시간 0[s] | 손실 1.88\n",
            "| 에폭 67 |  반복 1 / 2 | 시간 0[s] | 손실 1.88\n",
            "| 에폭 68 |  반복 1 / 2 | 시간 0[s] | 손실 1.87\n",
            "| 에폭 69 |  반복 1 / 2 | 시간 0[s] | 손실 1.87\n",
            "| 에폭 70 |  반복 1 / 2 | 시간 0[s] | 손실 1.88\n",
            "| 에폭 71 |  반복 1 / 2 | 시간 0[s] | 손실 1.86\n",
            "| 에폭 72 |  반복 1 / 2 | 시간 0[s] | 손실 1.87\n",
            "| 에폭 73 |  반복 1 / 2 | 시간 0[s] | 손실 1.87\n",
            "| 에폭 74 |  반복 1 / 2 | 시간 0[s] | 손실 1.85\n",
            "| 에폭 75 |  반복 1 / 2 | 시간 0[s] | 손실 1.86\n",
            "| 에폭 76 |  반복 1 / 2 | 시간 0[s] | 손실 1.85\n",
            "| 에폭 77 |  반복 1 / 2 | 시간 0[s] | 손실 1.85\n",
            "| 에폭 78 |  반복 1 / 2 | 시간 0[s] | 손실 1.84\n",
            "| 에폭 79 |  반복 1 / 2 | 시간 0[s] | 손실 1.84\n",
            "| 에폭 80 |  반복 1 / 2 | 시간 0[s] | 손실 1.85\n",
            "| 에폭 81 |  반복 1 / 2 | 시간 0[s] | 손실 1.83\n",
            "| 에폭 82 |  반복 1 / 2 | 시간 0[s] | 손실 1.85\n",
            "| 에폭 83 |  반복 1 / 2 | 시간 0[s] | 손실 1.83\n",
            "| 에폭 84 |  반복 1 / 2 | 시간 0[s] | 손실 1.83\n",
            "| 에폭 85 |  반복 1 / 2 | 시간 0[s] | 손실 1.83\n",
            "| 에폭 86 |  반복 1 / 2 | 시간 0[s] | 손실 1.82\n",
            "| 에폭 87 |  반복 1 / 2 | 시간 0[s] | 손실 1.83\n",
            "| 에폭 88 |  반복 1 / 2 | 시간 0[s] | 손실 1.80\n",
            "| 에폭 89 |  반복 1 / 2 | 시간 0[s] | 손실 1.82\n",
            "| 에폭 90 |  반복 1 / 2 | 시간 0[s] | 손실 1.78\n",
            "| 에폭 91 |  반복 1 / 2 | 시간 0[s] | 손실 1.81\n",
            "| 에폭 92 |  반복 1 / 2 | 시간 0[s] | 손실 1.83\n",
            "| 에폭 93 |  반복 1 / 2 | 시간 0[s] | 손실 1.79\n",
            "| 에폭 94 |  반복 1 / 2 | 시간 0[s] | 손실 1.79\n",
            "| 에폭 95 |  반복 1 / 2 | 시간 0[s] | 손실 1.79\n",
            "| 에폭 96 |  반복 1 / 2 | 시간 0[s] | 손실 1.77\n",
            "| 에폭 97 |  반복 1 / 2 | 시간 0[s] | 손실 1.79\n",
            "| 에폭 98 |  반복 1 / 2 | 시간 0[s] | 손실 1.80\n",
            "| 에폭 99 |  반복 1 / 2 | 시간 0[s] | 손실 1.78\n",
            "| 에폭 100 |  반복 1 / 2 | 시간 0[s] | 손실 1.76\n",
            "| 에폭 101 |  반복 1 / 2 | 시간 0[s] | 손실 1.76\n",
            "| 에폭 102 |  반복 1 / 2 | 시간 0[s] | 손실 1.78\n",
            "| 에폭 103 |  반복 1 / 2 | 시간 0[s] | 손실 1.75\n",
            "| 에폭 104 |  반복 1 / 2 | 시간 0[s] | 손실 1.76\n",
            "| 에폭 105 |  반복 1 / 2 | 시간 0[s] | 손실 1.74\n",
            "| 에폭 106 |  반복 1 / 2 | 시간 0[s] | 손실 1.75\n",
            "| 에폭 107 |  반복 1 / 2 | 시간 0[s] | 손실 1.74\n",
            "| 에폭 108 |  반복 1 / 2 | 시간 0[s] | 손실 1.74\n",
            "| 에폭 109 |  반복 1 / 2 | 시간 0[s] | 손실 1.77\n",
            "| 에폭 110 |  반복 1 / 2 | 시간 0[s] | 손실 1.71\n",
            "| 에폭 111 |  반복 1 / 2 | 시간 0[s] | 손실 1.73\n",
            "| 에폭 112 |  반복 1 / 2 | 시간 0[s] | 손실 1.72\n",
            "| 에폭 113 |  반복 1 / 2 | 시간 0[s] | 손실 1.74\n",
            "| 에폭 114 |  반복 1 / 2 | 시간 0[s] | 손실 1.69\n",
            "| 에폭 115 |  반복 1 / 2 | 시간 0[s] | 손실 1.73\n",
            "| 에폭 116 |  반복 1 / 2 | 시간 0[s] | 손실 1.68\n",
            "| 에폭 117 |  반복 1 / 2 | 시간 0[s] | 손실 1.69\n",
            "| 에폭 118 |  반복 1 / 2 | 시간 0[s] | 손실 1.71\n",
            "| 에폭 119 |  반복 1 / 2 | 시간 0[s] | 손실 1.71\n",
            "| 에폭 120 |  반복 1 / 2 | 시간 0[s] | 손실 1.68\n",
            "| 에폭 121 |  반복 1 / 2 | 시간 0[s] | 손실 1.67\n",
            "| 에폭 122 |  반복 1 / 2 | 시간 0[s] | 손실 1.67\n",
            "| 에폭 123 |  반복 1 / 2 | 시간 0[s] | 손실 1.68\n",
            "| 에폭 124 |  반복 1 / 2 | 시간 0[s] | 손실 1.66\n",
            "| 에폭 125 |  반복 1 / 2 | 시간 0[s] | 손실 1.69\n",
            "| 에폭 126 |  반복 1 / 2 | 시간 0[s] | 손실 1.62\n",
            "| 에폭 127 |  반복 1 / 2 | 시간 0[s] | 손실 1.66\n",
            "| 에폭 128 |  반복 1 / 2 | 시간 0[s] | 손실 1.66\n",
            "| 에폭 129 |  반복 1 / 2 | 시간 0[s] | 손실 1.63\n",
            "| 에폭 130 |  반복 1 / 2 | 시간 0[s] | 손실 1.63\n",
            "| 에폭 131 |  반복 1 / 2 | 시간 0[s] | 손실 1.64\n",
            "| 에폭 132 |  반복 1 / 2 | 시간 0[s] | 손실 1.65\n",
            "| 에폭 133 |  반복 1 / 2 | 시간 0[s] | 손실 1.59\n",
            "| 에폭 134 |  반복 1 / 2 | 시간 0[s] | 손실 1.62\n",
            "| 에폭 135 |  반복 1 / 2 | 시간 0[s] | 손실 1.67\n",
            "| 에폭 136 |  반복 1 / 2 | 시간 0[s] | 손실 1.61\n",
            "| 에폭 137 |  반복 1 / 2 | 시간 0[s] | 손실 1.54\n",
            "| 에폭 138 |  반복 1 / 2 | 시간 0[s] | 손실 1.67\n",
            "| 에폭 139 |  반복 1 / 2 | 시간 0[s] | 손실 1.57\n",
            "| 에폭 140 |  반복 1 / 2 | 시간 0[s] | 손실 1.60\n",
            "| 에폭 141 |  반복 1 / 2 | 시간 0[s] | 손실 1.57\n",
            "| 에폭 142 |  반복 1 / 2 | 시간 0[s] | 손실 1.57\n",
            "| 에폭 143 |  반복 1 / 2 | 시간 0[s] | 손실 1.59\n",
            "| 에폭 144 |  반복 1 / 2 | 시간 0[s] | 손실 1.55\n",
            "| 에폭 145 |  반복 1 / 2 | 시간 0[s] | 손실 1.54\n",
            "| 에폭 146 |  반복 1 / 2 | 시간 0[s] | 손실 1.62\n",
            "| 에폭 147 |  반복 1 / 2 | 시간 0[s] | 손실 1.57\n",
            "| 에폭 148 |  반복 1 / 2 | 시간 0[s] | 손실 1.50\n",
            "| 에폭 149 |  반복 1 / 2 | 시간 0[s] | 손실 1.57\n",
            "| 에폭 150 |  반복 1 / 2 | 시간 0[s] | 손실 1.49\n",
            "| 에폭 151 |  반복 1 / 2 | 시간 0[s] | 손실 1.56\n",
            "| 에폭 152 |  반복 1 / 2 | 시간 0[s] | 손실 1.57\n",
            "| 에폭 153 |  반복 1 / 2 | 시간 0[s] | 손실 1.50\n",
            "| 에폭 154 |  반복 1 / 2 | 시간 0[s] | 손실 1.50\n",
            "| 에폭 155 |  반복 1 / 2 | 시간 0[s] | 손실 1.51\n",
            "| 에폭 156 |  반복 1 / 2 | 시간 0[s] | 손실 1.52\n",
            "| 에폭 157 |  반복 1 / 2 | 시간 0[s] | 손실 1.50\n",
            "| 에폭 158 |  반복 1 / 2 | 시간 0[s] | 손실 1.54\n",
            "| 에폭 159 |  반복 1 / 2 | 시간 0[s] | 손실 1.46\n",
            "| 에폭 160 |  반복 1 / 2 | 시간 0[s] | 손실 1.52\n",
            "| 에폭 161 |  반복 1 / 2 | 시간 0[s] | 손실 1.43\n",
            "| 에폭 162 |  반복 1 / 2 | 시간 0[s] | 손실 1.53\n",
            "| 에폭 163 |  반복 1 / 2 | 시간 0[s] | 손실 1.47\n",
            "| 에폭 164 |  반복 1 / 2 | 시간 0[s] | 손실 1.46\n",
            "| 에폭 165 |  반복 1 / 2 | 시간 0[s] | 손실 1.43\n",
            "| 에폭 166 |  반복 1 / 2 | 시간 0[s] | 손실 1.45\n",
            "| 에폭 167 |  반복 1 / 2 | 시간 0[s] | 손실 1.45\n",
            "| 에폭 168 |  반복 1 / 2 | 시간 0[s] | 손실 1.50\n",
            "| 에폭 169 |  반복 1 / 2 | 시간 0[s] | 손실 1.39\n",
            "| 에폭 170 |  반복 1 / 2 | 시간 0[s] | 손실 1.45\n",
            "| 에폭 171 |  반복 1 / 2 | 시간 0[s] | 손실 1.46\n",
            "| 에폭 172 |  반복 1 / 2 | 시간 0[s] | 손실 1.40\n",
            "| 에폭 173 |  반복 1 / 2 | 시간 0[s] | 손실 1.41\n",
            "| 에폭 174 |  반복 1 / 2 | 시간 0[s] | 손실 1.46\n",
            "| 에폭 175 |  반복 1 / 2 | 시간 0[s] | 손실 1.31\n",
            "| 에폭 176 |  반복 1 / 2 | 시간 0[s] | 손실 1.47\n",
            "| 에폭 177 |  반복 1 / 2 | 시간 0[s] | 손실 1.38\n",
            "| 에폭 178 |  반복 1 / 2 | 시간 0[s] | 손실 1.46\n",
            "| 에폭 179 |  반복 1 / 2 | 시간 0[s] | 손실 1.34\n",
            "| 에폭 180 |  반복 1 / 2 | 시간 0[s] | 손실 1.38\n",
            "| 에폭 181 |  반복 1 / 2 | 시간 0[s] | 손실 1.37\n",
            "| 에폭 182 |  반복 1 / 2 | 시간 0[s] | 손실 1.40\n",
            "| 에폭 183 |  반복 1 / 2 | 시간 0[s] | 손실 1.35\n",
            "| 에폭 184 |  반복 1 / 2 | 시간 0[s] | 손실 1.37\n",
            "| 에폭 185 |  반복 1 / 2 | 시간 0[s] | 손실 1.37\n",
            "| 에폭 186 |  반복 1 / 2 | 시간 0[s] | 손실 1.34\n",
            "| 에폭 187 |  반복 1 / 2 | 시간 0[s] | 손실 1.36\n",
            "| 에폭 188 |  반복 1 / 2 | 시간 0[s] | 손실 1.41\n",
            "| 에폭 189 |  반복 1 / 2 | 시간 0[s] | 손실 1.29\n",
            "| 에폭 190 |  반복 1 / 2 | 시간 0[s] | 손실 1.37\n",
            "| 에폭 191 |  반복 1 / 2 | 시간 0[s] | 손실 1.30\n",
            "| 에폭 192 |  반복 1 / 2 | 시간 0[s] | 손실 1.30\n",
            "| 에폭 193 |  반복 1 / 2 | 시간 0[s] | 손실 1.34\n",
            "| 에폭 194 |  반복 1 / 2 | 시간 0[s] | 손실 1.35\n",
            "| 에폭 195 |  반복 1 / 2 | 시간 0[s] | 손실 1.25\n",
            "| 에폭 196 |  반복 1 / 2 | 시간 0[s] | 손실 1.32\n",
            "| 에폭 197 |  반복 1 / 2 | 시간 0[s] | 손실 1.36\n",
            "| 에폭 198 |  반복 1 / 2 | 시간 0[s] | 손실 1.24\n",
            "| 에폭 199 |  반복 1 / 2 | 시간 0[s] | 손실 1.28\n",
            "| 에폭 200 |  반복 1 / 2 | 시간 0[s] | 손실 1.28\n",
            "| 에폭 201 |  반복 1 / 2 | 시간 0[s] | 손실 1.24\n",
            "| 에폭 202 |  반복 1 / 2 | 시간 0[s] | 손실 1.33\n",
            "| 에폭 203 |  반복 1 / 2 | 시간 0[s] | 손실 1.25\n",
            "| 에폭 204 |  반복 1 / 2 | 시간 0[s] | 손실 1.32\n",
            "| 에폭 205 |  반복 1 / 2 | 시간 0[s] | 손실 1.21\n",
            "| 에폭 206 |  반복 1 / 2 | 시간 0[s] | 손실 1.25\n",
            "| 에폭 207 |  반복 1 / 2 | 시간 0[s] | 손실 1.25\n",
            "| 에폭 208 |  반복 1 / 2 | 시간 0[s] | 손실 1.20\n",
            "| 에폭 209 |  반복 1 / 2 | 시간 0[s] | 손실 1.34\n",
            "| 에폭 210 |  반복 1 / 2 | 시간 0[s] | 손실 1.19\n",
            "| 에폭 211 |  반복 1 / 2 | 시간 0[s] | 손실 1.22\n",
            "| 에폭 212 |  반복 1 / 2 | 시간 0[s] | 손실 1.30\n",
            "| 에폭 213 |  반복 1 / 2 | 시간 0[s] | 손실 1.16\n",
            "| 에폭 214 |  반복 1 / 2 | 시간 0[s] | 손실 1.21\n",
            "| 에폭 215 |  반복 1 / 2 | 시간 0[s] | 손실 1.17\n",
            "| 에폭 216 |  반복 1 / 2 | 시간 0[s] | 손실 1.21\n",
            "| 에폭 217 |  반복 1 / 2 | 시간 0[s] | 손실 1.26\n",
            "| 에폭 218 |  반복 1 / 2 | 시간 0[s] | 손실 1.19\n",
            "| 에폭 219 |  반복 1 / 2 | 시간 0[s] | 손실 1.20\n",
            "| 에폭 220 |  반복 1 / 2 | 시간 0[s] | 손실 1.18\n",
            "| 에폭 221 |  반복 1 / 2 | 시간 0[s] | 손실 1.20\n",
            "| 에폭 222 |  반복 1 / 2 | 시간 0[s] | 손실 1.23\n",
            "| 에폭 223 |  반복 1 / 2 | 시간 0[s] | 손실 1.13\n",
            "| 에폭 224 |  반복 1 / 2 | 시간 0[s] | 손실 1.23\n",
            "| 에폭 225 |  반복 1 / 2 | 시간 0[s] | 손실 1.12\n",
            "| 에폭 226 |  반복 1 / 2 | 시간 0[s] | 손실 1.15\n",
            "| 에폭 227 |  반복 1 / 2 | 시간 0[s] | 손실 1.10\n",
            "| 에폭 228 |  반복 1 / 2 | 시간 0[s] | 손실 1.23\n",
            "| 에폭 229 |  반복 1 / 2 | 시간 0[s] | 손실 1.14\n",
            "| 에폭 230 |  반복 1 / 2 | 시간 0[s] | 손실 1.14\n",
            "| 에폭 231 |  반복 1 / 2 | 시간 0[s] | 손실 1.20\n",
            "| 에폭 232 |  반복 1 / 2 | 시간 0[s] | 손실 1.08\n",
            "| 에폭 233 |  반복 1 / 2 | 시간 0[s] | 손실 1.08\n",
            "| 에폭 234 |  반복 1 / 2 | 시간 0[s] | 손실 1.19\n",
            "| 에폭 235 |  반복 1 / 2 | 시간 0[s] | 손실 1.12\n",
            "| 에폭 236 |  반복 1 / 2 | 시간 0[s] | 손실 1.12\n",
            "| 에폭 237 |  반복 1 / 2 | 시간 0[s] | 손실 1.18\n",
            "| 에폭 238 |  반복 1 / 2 | 시간 0[s] | 손실 1.05\n",
            "| 에폭 239 |  반복 1 / 2 | 시간 0[s] | 손실 1.05\n",
            "| 에폭 240 |  반복 1 / 2 | 시간 0[s] | 손실 1.10\n",
            "| 에폭 241 |  반복 1 / 2 | 시간 0[s] | 손실 1.10\n",
            "| 에폭 242 |  반복 1 / 2 | 시간 0[s] | 손실 1.17\n",
            "| 에폭 243 |  반복 1 / 2 | 시간 0[s] | 손실 1.09\n",
            "| 에폭 244 |  반복 1 / 2 | 시간 0[s] | 손실 1.03\n",
            "| 에폭 245 |  반복 1 / 2 | 시간 0[s] | 손실 1.21\n",
            "| 에폭 246 |  반복 1 / 2 | 시간 0[s] | 손실 0.96\n",
            "| 에폭 247 |  반복 1 / 2 | 시간 0[s] | 손실 1.07\n",
            "| 에폭 248 |  반복 1 / 2 | 시간 0[s] | 손실 1.14\n",
            "| 에폭 249 |  반복 1 / 2 | 시간 0[s] | 손실 1.07\n",
            "| 에폭 250 |  반복 1 / 2 | 시간 0[s] | 손실 1.01\n",
            "| 에폭 251 |  반복 1 / 2 | 시간 0[s] | 손실 1.06\n",
            "| 에폭 252 |  반복 1 / 2 | 시간 0[s] | 손실 1.05\n",
            "| 에폭 253 |  반복 1 / 2 | 시간 0[s] | 손실 1.05\n",
            "| 에폭 254 |  반복 1 / 2 | 시간 0[s] | 손실 1.12\n",
            "| 에폭 255 |  반복 1 / 2 | 시간 0[s] | 손실 0.99\n",
            "| 에폭 256 |  반복 1 / 2 | 시간 0[s] | 손실 1.11\n",
            "| 에폭 257 |  반복 1 / 2 | 시간 0[s] | 손실 1.09\n",
            "| 에폭 258 |  반복 1 / 2 | 시간 0[s] | 손실 0.98\n",
            "| 에폭 259 |  반복 1 / 2 | 시간 0[s] | 손실 1.03\n",
            "| 에폭 260 |  반복 1 / 2 | 시간 0[s] | 손실 1.03\n",
            "| 에폭 261 |  반복 1 / 2 | 시간 0[s] | 손실 1.02\n",
            "| 에폭 262 |  반복 1 / 2 | 시간 0[s] | 손실 1.02\n",
            "| 에폭 263 |  반복 1 / 2 | 시간 0[s] | 손실 1.01\n",
            "| 에폭 264 |  반복 1 / 2 | 시간 0[s] | 손실 1.02\n",
            "| 에폭 265 |  반복 1 / 2 | 시간 0[s] | 손실 0.95\n",
            "| 에폭 266 |  반복 1 / 2 | 시간 0[s] | 손실 1.12\n",
            "| 에폭 267 |  반복 1 / 2 | 시간 0[s] | 손실 0.94\n",
            "| 에폭 268 |  반복 1 / 2 | 시간 0[s] | 손실 0.92\n",
            "| 에폭 269 |  반복 1 / 2 | 시간 0[s] | 손실 1.14\n",
            "| 에폭 270 |  반복 1 / 2 | 시간 0[s] | 손실 0.92\n",
            "| 에폭 271 |  반복 1 / 2 | 시간 0[s] | 손실 1.00\n",
            "| 에폭 272 |  반복 1 / 2 | 시간 0[s] | 손실 0.99\n",
            "| 에폭 273 |  반복 1 / 2 | 시간 0[s] | 손실 0.90\n",
            "| 에폭 274 |  반복 1 / 2 | 시간 0[s] | 손실 0.96\n",
            "| 에폭 275 |  반복 1 / 2 | 시간 0[s] | 손실 1.14\n",
            "| 에폭 276 |  반복 1 / 2 | 시간 0[s] | 손실 0.81\n",
            "| 에폭 277 |  반복 1 / 2 | 시간 0[s] | 손실 0.99\n",
            "| 에폭 278 |  반복 1 / 2 | 시간 0[s] | 손실 1.01\n",
            "| 에폭 279 |  반복 1 / 2 | 시간 0[s] | 손실 0.97\n",
            "| 에폭 280 |  반복 1 / 2 | 시간 0[s] | 손실 0.91\n",
            "| 에폭 281 |  반복 1 / 2 | 시간 0[s] | 손실 0.95\n",
            "| 에폭 282 |  반복 1 / 2 | 시간 0[s] | 손실 1.08\n",
            "| 에폭 283 |  반복 1 / 2 | 시간 0[s] | 손실 0.82\n",
            "| 에폭 284 |  반복 1 / 2 | 시간 0[s] | 손실 0.94\n",
            "| 에폭 285 |  반복 1 / 2 | 시간 0[s] | 손실 0.99\n",
            "| 에폭 286 |  반복 1 / 2 | 시간 0[s] | 손실 0.96\n",
            "| 에폭 287 |  반복 1 / 2 | 시간 0[s] | 손실 0.91\n",
            "| 에폭 288 |  반복 1 / 2 | 시간 0[s] | 손실 0.96\n",
            "| 에폭 289 |  반복 1 / 2 | 시간 0[s] | 손실 0.98\n",
            "| 에폭 290 |  반복 1 / 2 | 시간 0[s] | 손실 0.96\n",
            "| 에폭 291 |  반복 1 / 2 | 시간 0[s] | 손실 0.82\n",
            "| 에폭 292 |  반복 1 / 2 | 시간 0[s] | 손실 1.02\n",
            "| 에폭 293 |  반복 1 / 2 | 시간 0[s] | 손실 0.84\n",
            "| 에폭 294 |  반복 1 / 2 | 시간 0[s] | 손실 0.91\n",
            "| 에폭 295 |  반복 1 / 2 | 시간 0[s] | 손실 0.84\n",
            "| 에폭 296 |  반복 1 / 2 | 시간 0[s] | 손실 0.99\n",
            "| 에폭 297 |  반복 1 / 2 | 시간 0[s] | 손실 0.87\n",
            "| 에폭 298 |  반복 1 / 2 | 시간 0[s] | 손실 0.98\n",
            "| 에폭 299 |  반복 1 / 2 | 시간 0[s] | 손실 0.90\n",
            "| 에폭 300 |  반복 1 / 2 | 시간 0[s] | 손실 0.89\n",
            "| 에폭 301 |  반복 1 / 2 | 시간 0[s] | 손실 0.85\n",
            "| 에폭 302 |  반복 1 / 2 | 시간 0[s] | 손실 0.78\n",
            "| 에폭 303 |  반복 1 / 2 | 시간 0[s] | 손실 1.04\n",
            "| 에폭 304 |  반복 1 / 2 | 시간 0[s] | 손실 0.85\n",
            "| 에폭 305 |  반복 1 / 2 | 시간 0[s] | 손실 0.80\n",
            "| 에폭 306 |  반복 1 / 2 | 시간 0[s] | 손실 0.88\n",
            "| 에폭 307 |  반복 1 / 2 | 시간 0[s] | 손실 0.95\n",
            "| 에폭 308 |  반복 1 / 2 | 시간 0[s] | 손실 0.80\n",
            "| 에폭 309 |  반복 1 / 2 | 시간 0[s] | 손실 0.95\n",
            "| 에폭 310 |  반복 1 / 2 | 시간 0[s] | 손실 0.86\n",
            "| 에폭 311 |  반복 1 / 2 | 시간 0[s] | 손실 0.91\n",
            "| 에폭 312 |  반복 1 / 2 | 시간 0[s] | 손실 0.74\n",
            "| 에폭 313 |  반복 1 / 2 | 시간 0[s] | 손실 0.98\n",
            "| 에폭 314 |  반복 1 / 2 | 시간 0[s] | 손실 0.74\n",
            "| 에폭 315 |  반복 1 / 2 | 시간 0[s] | 손실 0.89\n",
            "| 에폭 316 |  반복 1 / 2 | 시간 0[s] | 손실 0.89\n",
            "| 에폭 317 |  반복 1 / 2 | 시간 0[s] | 손실 0.77\n",
            "| 에폭 318 |  반복 1 / 2 | 시간 0[s] | 손실 0.85\n",
            "| 에폭 319 |  반복 1 / 2 | 시간 0[s] | 손실 0.88\n",
            "| 에폭 320 |  반복 1 / 2 | 시간 0[s] | 손실 0.92\n",
            "| 에폭 321 |  반복 1 / 2 | 시간 0[s] | 손실 0.76\n",
            "| 에폭 322 |  반복 1 / 2 | 시간 0[s] | 손실 0.88\n",
            "| 에폭 323 |  반복 1 / 2 | 시간 0[s] | 손실 0.79\n",
            "| 에폭 324 |  반복 1 / 2 | 시간 0[s] | 손실 0.91\n",
            "| 에폭 325 |  반복 1 / 2 | 시간 0[s] | 손실 0.82\n",
            "| 에폭 326 |  반복 1 / 2 | 시간 0[s] | 손실 0.75\n",
            "| 에폭 327 |  반복 1 / 2 | 시간 0[s] | 손실 0.79\n",
            "| 에폭 328 |  반복 1 / 2 | 시간 0[s] | 손실 0.77\n",
            "| 에폭 329 |  반복 1 / 2 | 시간 0[s] | 손실 0.82\n",
            "| 에폭 330 |  반복 1 / 2 | 시간 0[s] | 손실 0.89\n",
            "| 에폭 331 |  반복 1 / 2 | 시간 0[s] | 손실 0.86\n",
            "| 에폭 332 |  반복 1 / 2 | 시간 0[s] | 손실 0.73\n",
            "| 에폭 333 |  반복 1 / 2 | 시간 0[s] | 손실 0.89\n",
            "| 에폭 334 |  반복 1 / 2 | 시간 0[s] | 손실 0.72\n",
            "| 에폭 335 |  반복 1 / 2 | 시간 0[s] | 손실 0.83\n",
            "| 에폭 336 |  반복 1 / 2 | 시간 0[s] | 손실 0.85\n",
            "| 에폭 337 |  반복 1 / 2 | 시간 0[s] | 손실 0.80\n",
            "| 에폭 338 |  반복 1 / 2 | 시간 0[s] | 손실 0.74\n",
            "| 에폭 339 |  반복 1 / 2 | 시간 0[s] | 손실 0.84\n",
            "| 에폭 340 |  반복 1 / 2 | 시간 0[s] | 손실 0.79\n",
            "| 에폭 341 |  반복 1 / 2 | 시간 0[s] | 손실 0.79\n",
            "| 에폭 342 |  반복 1 / 2 | 시간 0[s] | 손실 0.73\n",
            "| 에폭 343 |  반복 1 / 2 | 시간 0[s] | 손실 0.83\n",
            "| 에폭 344 |  반복 1 / 2 | 시간 0[s] | 손실 0.78\n",
            "| 에폭 345 |  반복 1 / 2 | 시간 0[s] | 손실 0.81\n",
            "| 에폭 346 |  반복 1 / 2 | 시간 0[s] | 손실 0.69\n",
            "| 에폭 347 |  반복 1 / 2 | 시간 0[s] | 손실 0.77\n",
            "| 에폭 348 |  반복 1 / 2 | 시간 0[s] | 손실 0.85\n",
            "| 에폭 349 |  반복 1 / 2 | 시간 0[s] | 손실 0.75\n",
            "| 에폭 350 |  반복 1 / 2 | 시간 0[s] | 손실 0.69\n",
            "| 에폭 351 |  반복 1 / 2 | 시간 0[s] | 손실 0.85\n",
            "| 에폭 352 |  반복 1 / 2 | 시간 0[s] | 손실 0.71\n",
            "| 에폭 353 |  반복 1 / 2 | 시간 0[s] | 손실 0.76\n",
            "| 에폭 354 |  반복 1 / 2 | 시간 0[s] | 손실 0.76\n",
            "| 에폭 355 |  반복 1 / 2 | 시간 0[s] | 손실 0.76\n",
            "| 에폭 356 |  반복 1 / 2 | 시간 0[s] | 손실 0.73\n",
            "| 에폭 357 |  반복 1 / 2 | 시간 0[s] | 손실 0.85\n",
            "| 에폭 358 |  반복 1 / 2 | 시간 0[s] | 손실 0.73\n",
            "| 에폭 359 |  반복 1 / 2 | 시간 0[s] | 손실 0.77\n",
            "| 에폭 360 |  반복 1 / 2 | 시간 0[s] | 손실 0.58\n",
            "| 에폭 361 |  반복 1 / 2 | 시간 0[s] | 손실 0.80\n",
            "| 에폭 362 |  반복 1 / 2 | 시간 0[s] | 손실 0.82\n",
            "| 에폭 363 |  반복 1 / 2 | 시간 0[s] | 손실 0.68\n",
            "| 에폭 364 |  반복 1 / 2 | 시간 0[s] | 손실 0.74\n",
            "| 에폭 365 |  반복 1 / 2 | 시간 0[s] | 손실 0.79\n",
            "| 에폭 366 |  반복 1 / 2 | 시간 0[s] | 손실 0.68\n",
            "| 에폭 367 |  반복 1 / 2 | 시간 0[s] | 손실 0.71\n",
            "| 에폭 368 |  반복 1 / 2 | 시간 0[s] | 손실 0.73\n",
            "| 에폭 369 |  반복 1 / 2 | 시간 0[s] | 손실 0.81\n",
            "| 에폭 370 |  반복 1 / 2 | 시간 0[s] | 손실 0.72\n",
            "| 에폭 371 |  반복 1 / 2 | 시간 0[s] | 손실 0.66\n",
            "| 에폭 372 |  반복 1 / 2 | 시간 0[s] | 손실 0.79\n",
            "| 에폭 373 |  반복 1 / 2 | 시간 0[s] | 손실 0.72\n",
            "| 에폭 374 |  반복 1 / 2 | 시간 0[s] | 손실 0.72\n",
            "| 에폭 375 |  반복 1 / 2 | 시간 0[s] | 손실 0.63\n",
            "| 에폭 376 |  반복 1 / 2 | 시간 0[s] | 손실 0.73\n",
            "| 에폭 377 |  반복 1 / 2 | 시간 0[s] | 손실 0.70\n",
            "| 에폭 378 |  반복 1 / 2 | 시간 0[s] | 손실 0.71\n",
            "| 에폭 379 |  반복 1 / 2 | 시간 0[s] | 손실 0.71\n",
            "| 에폭 380 |  반복 1 / 2 | 시간 0[s] | 손실 0.69\n",
            "| 에폭 381 |  반복 1 / 2 | 시간 0[s] | 손실 0.79\n",
            "| 에폭 382 |  반복 1 / 2 | 시간 0[s] | 손실 0.70\n",
            "| 에폭 383 |  반복 1 / 2 | 시간 0[s] | 손실 0.62\n",
            "| 에폭 384 |  반복 1 / 2 | 시간 0[s] | 손실 0.77\n",
            "| 에폭 385 |  반복 1 / 2 | 시간 0[s] | 손실 0.62\n",
            "| 에폭 386 |  반복 1 / 2 | 시간 0[s] | 손실 0.84\n",
            "| 에폭 387 |  반복 1 / 2 | 시간 0[s] | 손실 0.53\n",
            "| 에폭 388 |  반복 1 / 2 | 시간 0[s] | 손실 0.78\n",
            "| 에폭 389 |  반복 1 / 2 | 시간 0[s] | 손실 0.68\n",
            "| 에폭 390 |  반복 1 / 2 | 시간 0[s] | 손실 0.61\n",
            "| 에폭 391 |  반복 1 / 2 | 시간 0[s] | 손실 0.76\n",
            "| 에폭 392 |  반복 1 / 2 | 시간 0[s] | 손실 0.61\n",
            "| 에폭 393 |  반복 1 / 2 | 시간 0[s] | 손실 0.68\n",
            "| 에폭 394 |  반복 1 / 2 | 시간 0[s] | 손실 0.67\n",
            "| 에폭 395 |  반복 1 / 2 | 시간 0[s] | 손실 0.76\n",
            "| 에폭 396 |  반복 1 / 2 | 시간 0[s] | 손실 0.67\n",
            "| 에폭 397 |  반복 1 / 2 | 시간 0[s] | 손실 0.60\n",
            "| 에폭 398 |  반복 1 / 2 | 시간 0[s] | 손실 0.67\n",
            "| 에폭 399 |  반복 1 / 2 | 시간 0[s] | 손실 0.74\n",
            "| 에폭 400 |  반복 1 / 2 | 시간 0[s] | 손실 0.67\n",
            "| 에폭 401 |  반복 1 / 2 | 시간 0[s] | 손실 0.59\n",
            "| 에폭 402 |  반복 1 / 2 | 시간 0[s] | 손실 0.66\n",
            "| 에폭 403 |  반복 1 / 2 | 시간 0[s] | 손실 0.74\n",
            "| 에폭 404 |  반복 1 / 2 | 시간 0[s] | 손실 0.58\n",
            "| 에폭 405 |  반복 1 / 2 | 시간 0[s] | 손실 0.74\n",
            "| 에폭 406 |  반복 1 / 2 | 시간 0[s] | 손실 0.66\n",
            "| 에폭 407 |  반복 1 / 2 | 시간 0[s] | 손실 0.66\n",
            "| 에폭 408 |  반복 1 / 2 | 시간 0[s] | 손실 0.65\n",
            "| 에폭 409 |  반복 1 / 2 | 시간 0[s] | 손실 0.66\n",
            "| 에폭 410 |  반복 1 / 2 | 시간 0[s] | 손실 0.64\n",
            "| 에폭 411 |  반복 1 / 2 | 시간 0[s] | 손실 0.65\n",
            "| 에폭 412 |  반복 1 / 2 | 시간 0[s] | 손실 0.56\n",
            "| 에폭 413 |  반복 1 / 2 | 시간 0[s] | 손실 0.74\n",
            "| 에폭 414 |  반복 1 / 2 | 시간 0[s] | 손실 0.57\n",
            "| 에폭 415 |  반복 1 / 2 | 시간 0[s] | 손실 0.71\n",
            "| 에폭 416 |  반복 1 / 2 | 시간 0[s] | 손실 0.65\n",
            "| 에폭 417 |  반복 1 / 2 | 시간 0[s] | 손실 0.65\n",
            "| 에폭 418 |  반복 1 / 2 | 시간 0[s] | 손실 0.64\n",
            "| 에폭 419 |  반복 1 / 2 | 시간 0[s] | 손실 0.71\n",
            "| 에폭 420 |  반복 1 / 2 | 시간 0[s] | 손실 0.56\n",
            "| 에폭 421 |  반복 1 / 2 | 시간 0[s] | 손실 0.54\n",
            "| 에폭 422 |  반복 1 / 2 | 시간 0[s] | 손실 0.71\n",
            "| 에폭 423 |  반복 1 / 2 | 시간 0[s] | 손실 0.65\n",
            "| 에폭 424 |  반복 1 / 2 | 시간 0[s] | 손실 0.54\n",
            "| 에폭 425 |  반복 1 / 2 | 시간 0[s] | 손실 0.71\n",
            "| 에폭 426 |  반복 1 / 2 | 시간 0[s] | 손실 0.54\n",
            "| 에폭 427 |  반복 1 / 2 | 시간 0[s] | 손실 0.71\n",
            "| 에폭 428 |  반복 1 / 2 | 시간 0[s] | 손실 0.53\n",
            "| 에폭 429 |  반복 1 / 2 | 시간 0[s] | 손실 0.63\n",
            "| 에폭 430 |  반복 1 / 2 | 시간 0[s] | 손실 0.78\n",
            "| 에폭 431 |  반복 1 / 2 | 시간 0[s] | 손실 0.46\n",
            "| 에폭 432 |  반복 1 / 2 | 시간 0[s] | 손실 0.70\n",
            "| 에폭 433 |  반복 1 / 2 | 시간 0[s] | 손실 0.60\n",
            "| 에폭 434 |  반복 1 / 2 | 시간 0[s] | 손실 0.62\n",
            "| 에폭 435 |  반복 1 / 2 | 시간 0[s] | 손실 0.61\n",
            "| 에폭 436 |  반복 1 / 2 | 시간 0[s] | 손실 0.61\n",
            "| 에폭 437 |  반복 1 / 2 | 시간 0[s] | 손실 0.54\n",
            "| 에폭 438 |  반복 1 / 2 | 시간 0[s] | 손실 0.59\n",
            "| 에폭 439 |  반복 1 / 2 | 시간 0[s] | 손실 0.69\n",
            "| 에폭 440 |  반복 1 / 2 | 시간 0[s] | 손실 0.62\n",
            "| 에폭 441 |  반복 1 / 2 | 시간 0[s] | 손실 0.59\n",
            "| 에폭 442 |  반복 1 / 2 | 시간 0[s] | 손실 0.60\n",
            "| 에폭 443 |  반복 1 / 2 | 시간 0[s] | 손실 0.51\n",
            "| 에폭 444 |  반복 1 / 2 | 시간 0[s] | 손실 0.62\n",
            "| 에폭 445 |  반복 1 / 2 | 시간 0[s] | 손실 0.67\n",
            "| 에폭 446 |  반복 1 / 2 | 시간 0[s] | 손실 0.53\n",
            "| 에폭 447 |  반복 1 / 2 | 시간 0[s] | 손실 0.66\n",
            "| 에폭 448 |  반복 1 / 2 | 시간 0[s] | 손실 0.61\n",
            "| 에폭 449 |  반복 1 / 2 | 시간 0[s] | 손실 0.49\n",
            "| 에폭 450 |  반복 1 / 2 | 시간 0[s] | 손실 0.61\n",
            "| 에폭 451 |  반복 1 / 2 | 시간 0[s] | 손실 0.65\n",
            "| 에폭 452 |  반복 1 / 2 | 시간 0[s] | 손실 0.50\n",
            "| 에폭 453 |  반복 1 / 2 | 시간 0[s] | 손실 0.60\n",
            "| 에폭 454 |  반복 1 / 2 | 시간 0[s] | 손실 0.65\n",
            "| 에폭 455 |  반복 1 / 2 | 시간 0[s] | 손실 0.60\n",
            "| 에폭 456 |  반복 1 / 2 | 시간 0[s] | 손실 0.58\n",
            "| 에폭 457 |  반복 1 / 2 | 시간 0[s] | 손실 0.50\n",
            "| 에폭 458 |  반복 1 / 2 | 시간 0[s] | 손실 0.58\n",
            "| 에폭 459 |  반복 1 / 2 | 시간 0[s] | 손실 0.49\n",
            "| 에폭 460 |  반복 1 / 2 | 시간 0[s] | 손실 0.74\n",
            "| 에폭 461 |  반복 1 / 2 | 시간 0[s] | 손실 0.49\n",
            "| 에폭 462 |  반복 1 / 2 | 시간 0[s] | 손실 0.67\n",
            "| 에폭 463 |  반복 1 / 2 | 시간 0[s] | 손실 0.59\n",
            "| 에폭 464 |  반복 1 / 2 | 시간 0[s] | 손실 0.48\n",
            "| 에폭 465 |  반복 1 / 2 | 시간 0[s] | 손실 0.64\n",
            "| 에폭 466 |  반복 1 / 2 | 시간 0[s] | 손실 0.48\n",
            "| 에폭 467 |  반복 1 / 2 | 시간 0[s] | 손실 0.66\n",
            "| 에폭 468 |  반복 1 / 2 | 시간 0[s] | 손실 0.59\n",
            "| 에폭 469 |  반복 1 / 2 | 시간 0[s] | 손실 0.56\n",
            "| 에폭 470 |  반복 1 / 2 | 시간 0[s] | 손실 0.57\n",
            "| 에폭 471 |  반복 1 / 2 | 시간 0[s] | 손실 0.54\n",
            "| 에폭 472 |  반복 1 / 2 | 시간 0[s] | 손실 0.47\n",
            "| 에폭 473 |  반복 1 / 2 | 시간 0[s] | 손실 0.50\n",
            "| 에폭 474 |  반복 1 / 2 | 시간 0[s] | 손실 0.72\n",
            "| 에폭 475 |  반복 1 / 2 | 시간 0[s] | 손실 0.49\n",
            "| 에폭 476 |  반복 1 / 2 | 시간 0[s] | 손실 0.53\n",
            "| 에폭 477 |  반복 1 / 2 | 시간 0[s] | 손실 0.55\n",
            "| 에폭 478 |  반복 1 / 2 | 시간 0[s] | 손실 0.58\n",
            "| 에폭 479 |  반복 1 / 2 | 시간 0[s] | 손실 0.54\n",
            "| 에폭 480 |  반복 1 / 2 | 시간 0[s] | 손실 0.63\n",
            "| 에폭 481 |  반복 1 / 2 | 시간 0[s] | 손실 0.56\n",
            "| 에폭 482 |  반복 1 / 2 | 시간 0[s] | 손실 0.48\n",
            "| 에폭 483 |  반복 1 / 2 | 시간 0[s] | 손실 0.65\n",
            "| 에폭 484 |  반복 1 / 2 | 시간 0[s] | 손실 0.45\n",
            "| 에폭 485 |  반복 1 / 2 | 시간 0[s] | 손실 0.53\n",
            "| 에폭 486 |  반복 1 / 2 | 시간 0[s] | 손실 0.57\n",
            "| 에폭 487 |  반복 1 / 2 | 시간 0[s] | 손실 0.54\n",
            "| 에폭 488 |  반복 1 / 2 | 시간 0[s] | 손실 0.53\n",
            "| 에폭 489 |  반복 1 / 2 | 시간 0[s] | 손실 0.62\n",
            "| 에폭 490 |  반복 1 / 2 | 시간 0[s] | 손실 0.58\n",
            "| 에폭 491 |  반복 1 / 2 | 시간 0[s] | 손실 0.45\n",
            "| 에폭 492 |  반복 1 / 2 | 시간 0[s] | 손실 0.60\n",
            "| 에폭 493 |  반복 1 / 2 | 시간 0[s] | 손실 0.44\n",
            "| 에폭 494 |  반복 1 / 2 | 시간 0[s] | 손실 0.63\n",
            "| 에폭 495 |  반복 1 / 2 | 시간 0[s] | 손실 0.56\n",
            "| 에폭 496 |  반복 1 / 2 | 시간 0[s] | 손실 0.52\n",
            "| 에폭 497 |  반복 1 / 2 | 시간 0[s] | 손실 0.44\n",
            "| 에폭 498 |  반복 1 / 2 | 시간 0[s] | 손실 0.62\n",
            "| 에폭 499 |  반복 1 / 2 | 시간 0[s] | 손실 0.54\n",
            "| 에폭 500 |  반복 1 / 2 | 시간 0[s] | 손실 0.62\n",
            "| 에폭 501 |  반복 1 / 2 | 시간 0[s] | 손실 0.35\n",
            "| 에폭 502 |  반복 1 / 2 | 시간 0[s] | 손실 0.55\n",
            "| 에폭 503 |  반복 1 / 2 | 시간 0[s] | 손실 0.59\n",
            "| 에폭 504 |  반복 1 / 2 | 시간 0[s] | 손실 0.45\n",
            "| 에폭 505 |  반복 1 / 2 | 시간 0[s] | 손실 0.53\n",
            "| 에폭 506 |  반복 1 / 2 | 시간 0[s] | 손실 0.55\n",
            "| 에폭 507 |  반복 1 / 2 | 시간 0[s] | 손실 0.49\n",
            "| 에폭 508 |  반복 1 / 2 | 시간 0[s] | 손실 0.65\n",
            "| 에폭 509 |  반복 1 / 2 | 시간 0[s] | 손실 0.42\n",
            "| 에폭 510 |  반복 1 / 2 | 시간 0[s] | 손실 0.58\n",
            "| 에폭 511 |  반복 1 / 2 | 시간 0[s] | 손실 0.46\n",
            "| 에폭 512 |  반복 1 / 2 | 시간 0[s] | 손실 0.53\n",
            "| 에폭 513 |  반복 1 / 2 | 시간 0[s] | 손실 0.52\n",
            "| 에폭 514 |  반복 1 / 2 | 시간 0[s] | 손실 0.42\n",
            "| 에폭 515 |  반복 1 / 2 | 시간 0[s] | 손실 0.66\n",
            "| 에폭 516 |  반복 1 / 2 | 시간 0[s] | 손실 0.53\n",
            "| 에폭 517 |  반복 1 / 2 | 시간 0[s] | 손실 0.50\n",
            "| 에폭 518 |  반복 1 / 2 | 시간 0[s] | 손실 0.47\n",
            "| 에폭 519 |  반복 1 / 2 | 시간 0[s] | 손실 0.47\n",
            "| 에폭 520 |  반복 1 / 2 | 시간 0[s] | 손실 0.60\n",
            "| 에폭 521 |  반복 1 / 2 | 시간 0[s] | 손실 0.52\n",
            "| 에폭 522 |  반복 1 / 2 | 시간 0[s] | 손실 0.53\n",
            "| 에폭 523 |  반복 1 / 2 | 시간 0[s] | 손실 0.48\n",
            "| 에폭 524 |  반복 1 / 2 | 시간 0[s] | 손실 0.54\n",
            "| 에폭 525 |  반복 1 / 2 | 시간 0[s] | 손실 0.40\n",
            "| 에폭 526 |  반복 1 / 2 | 시간 0[s] | 손실 0.61\n",
            "| 에폭 527 |  반복 1 / 2 | 시간 0[s] | 손실 0.46\n",
            "| 에폭 528 |  반복 1 / 2 | 시간 0[s] | 손실 0.55\n",
            "| 에폭 529 |  반복 1 / 2 | 시간 0[s] | 손실 0.41\n",
            "| 에폭 530 |  반복 1 / 2 | 시간 0[s] | 손실 0.49\n",
            "| 에폭 531 |  반복 1 / 2 | 시간 0[s] | 손실 0.55\n",
            "| 에폭 532 |  반복 1 / 2 | 시간 0[s] | 손실 0.51\n",
            "| 에폭 533 |  반복 1 / 2 | 시간 0[s] | 손실 0.39\n",
            "| 에폭 534 |  반복 1 / 2 | 시간 0[s] | 손실 0.60\n",
            "| 에폭 535 |  반복 1 / 2 | 시간 0[s] | 손실 0.44\n",
            "| 에폭 536 |  반복 1 / 2 | 시간 0[s] | 손실 0.57\n",
            "| 에폭 537 |  반복 1 / 2 | 시간 0[s] | 손실 0.40\n",
            "| 에폭 538 |  반복 1 / 2 | 시간 0[s] | 손실 0.40\n",
            "| 에폭 539 |  반복 1 / 2 | 시간 0[s] | 손실 0.65\n",
            "| 에폭 540 |  반복 1 / 2 | 시간 0[s] | 손실 0.43\n",
            "| 에폭 541 |  반복 1 / 2 | 시간 0[s] | 손실 0.55\n",
            "| 에폭 542 |  반복 1 / 2 | 시간 0[s] | 손실 0.44\n",
            "| 에폭 543 |  반복 1 / 2 | 시간 0[s] | 손실 0.39\n",
            "| 에폭 544 |  반복 1 / 2 | 시간 0[s] | 손실 0.73\n",
            "| 에폭 545 |  반복 1 / 2 | 시간 0[s] | 손실 0.29\n",
            "| 에폭 546 |  반복 1 / 2 | 시간 0[s] | 손실 0.58\n",
            "| 에폭 547 |  반복 1 / 2 | 시간 0[s] | 손실 0.50\n",
            "| 에폭 548 |  반복 1 / 2 | 시간 0[s] | 손실 0.42\n",
            "| 에폭 549 |  반복 1 / 2 | 시간 0[s] | 손실 0.50\n",
            "| 에폭 550 |  반복 1 / 2 | 시간 0[s] | 손실 0.52\n",
            "| 에폭 551 |  반복 1 / 2 | 시간 0[s] | 손실 0.34\n",
            "| 에폭 552 |  반복 1 / 2 | 시간 0[s] | 손실 0.68\n",
            "| 에폭 553 |  반복 1 / 2 | 시간 0[s] | 손실 0.53\n",
            "| 에폭 554 |  반복 1 / 2 | 시간 0[s] | 손실 0.23\n",
            "| 에폭 555 |  반복 1 / 2 | 시간 0[s] | 손실 0.63\n",
            "| 에폭 556 |  반복 1 / 2 | 시간 0[s] | 손실 0.51\n",
            "| 에폭 557 |  반복 1 / 2 | 시간 0[s] | 손실 0.45\n",
            "| 에폭 558 |  반복 1 / 2 | 시간 0[s] | 손실 0.41\n",
            "| 에폭 559 |  반복 1 / 2 | 시간 0[s] | 손실 0.49\n",
            "| 에폭 560 |  반복 1 / 2 | 시간 0[s] | 손실 0.52\n",
            "| 에폭 561 |  반복 1 / 2 | 시간 0[s] | 손실 0.42\n",
            "| 에폭 562 |  반복 1 / 2 | 시간 0[s] | 손실 0.52\n",
            "| 에폭 563 |  반복 1 / 2 | 시간 0[s] | 손실 0.47\n",
            "| 에폭 564 |  반복 1 / 2 | 시간 0[s] | 손실 0.32\n",
            "| 에폭 565 |  반복 1 / 2 | 시간 0[s] | 손실 0.57\n",
            "| 에폭 566 |  반복 1 / 2 | 시간 0[s] | 손실 0.55\n",
            "| 에폭 567 |  반복 1 / 2 | 시간 0[s] | 손실 0.28\n",
            "| 에폭 568 |  반복 1 / 2 | 시간 0[s] | 손실 0.71\n",
            "| 에폭 569 |  반복 1 / 2 | 시간 0[s] | 손실 0.41\n",
            "| 에폭 570 |  반복 1 / 2 | 시간 0[s] | 손실 0.47\n",
            "| 에폭 571 |  반복 1 / 2 | 시간 0[s] | 손실 0.28\n",
            "| 에폭 572 |  반복 1 / 2 | 시간 0[s] | 손실 0.52\n",
            "| 에폭 573 |  반복 1 / 2 | 시간 0[s] | 손실 0.56\n",
            "| 에폭 574 |  반복 1 / 2 | 시간 0[s] | 손실 0.36\n",
            "| 에폭 575 |  반복 1 / 2 | 시간 0[s] | 손실 0.51\n",
            "| 에폭 576 |  반복 1 / 2 | 시간 0[s] | 손실 0.46\n",
            "| 에폭 577 |  반복 1 / 2 | 시간 0[s] | 손실 0.47\n",
            "| 에폭 578 |  반복 1 / 2 | 시간 0[s] | 손실 0.35\n",
            "| 에폭 579 |  반복 1 / 2 | 시간 0[s] | 손실 0.55\n",
            "| 에폭 580 |  반복 1 / 2 | 시간 0[s] | 손실 0.47\n",
            "| 에폭 581 |  반복 1 / 2 | 시간 0[s] | 손실 0.40\n",
            "| 에폭 582 |  반복 1 / 2 | 시간 0[s] | 손실 0.41\n",
            "| 에폭 583 |  반복 1 / 2 | 시간 0[s] | 손실 0.61\n",
            "| 에폭 584 |  반복 1 / 2 | 시간 0[s] | 손실 0.40\n",
            "| 에폭 585 |  반복 1 / 2 | 시간 0[s] | 손실 0.46\n",
            "| 에폭 586 |  반복 1 / 2 | 시간 0[s] | 손실 0.41\n",
            "| 에폭 587 |  반복 1 / 2 | 시간 0[s] | 손실 0.56\n",
            "| 에폭 588 |  반복 1 / 2 | 시간 0[s] | 손실 0.50\n",
            "| 에폭 589 |  반복 1 / 2 | 시간 0[s] | 손실 0.34\n",
            "| 에폭 590 |  반복 1 / 2 | 시간 0[s] | 손실 0.40\n",
            "| 에폭 591 |  반복 1 / 2 | 시간 0[s] | 손실 0.56\n",
            "| 에폭 592 |  반복 1 / 2 | 시간 0[s] | 손실 0.45\n",
            "| 에폭 593 |  반복 1 / 2 | 시간 0[s] | 손실 0.43\n",
            "| 에폭 594 |  반복 1 / 2 | 시간 0[s] | 손실 0.40\n",
            "| 에폭 595 |  반복 1 / 2 | 시간 0[s] | 손실 0.50\n",
            "| 에폭 596 |  반복 1 / 2 | 시간 0[s] | 손실 0.39\n",
            "| 에폭 597 |  반복 1 / 2 | 시간 0[s] | 손실 0.44\n",
            "| 에폭 598 |  반복 1 / 2 | 시간 0[s] | 손실 0.44\n",
            "| 에폭 599 |  반복 1 / 2 | 시간 0[s] | 손실 0.44\n",
            "| 에폭 600 |  반복 1 / 2 | 시간 0[s] | 손실 0.46\n",
            "| 에폭 601 |  반복 1 / 2 | 시간 0[s] | 손실 0.34\n",
            "| 에폭 602 |  반복 1 / 2 | 시간 0[s] | 손실 0.54\n",
            "| 에폭 603 |  반복 1 / 2 | 시간 0[s] | 손실 0.48\n",
            "| 에폭 604 |  반복 1 / 2 | 시간 0[s] | 손실 0.41\n",
            "| 에폭 605 |  반복 1 / 2 | 시간 0[s] | 손실 0.48\n",
            "| 에폭 606 |  반복 1 / 2 | 시간 0[s] | 손실 0.43\n",
            "| 에폭 607 |  반복 1 / 2 | 시간 0[s] | 손실 0.44\n",
            "| 에폭 608 |  반복 1 / 2 | 시간 0[s] | 손실 0.40\n",
            "| 에폭 609 |  반복 1 / 2 | 시간 0[s] | 손실 0.55\n",
            "| 에폭 610 |  반복 1 / 2 | 시간 0[s] | 손실 0.23\n",
            "| 에폭 611 |  반복 1 / 2 | 시간 0[s] | 손실 0.57\n",
            "| 에폭 612 |  반복 1 / 2 | 시간 0[s] | 손실 0.45\n",
            "| 에폭 613 |  반복 1 / 2 | 시간 0[s] | 손실 0.42\n",
            "| 에폭 614 |  반복 1 / 2 | 시간 0[s] | 손실 0.30\n",
            "| 에폭 615 |  반복 1 / 2 | 시간 0[s] | 손실 0.54\n",
            "| 에폭 616 |  반복 1 / 2 | 시간 0[s] | 손실 0.46\n",
            "| 에폭 617 |  반복 1 / 2 | 시간 0[s] | 손실 0.30\n",
            "| 에폭 618 |  반복 1 / 2 | 시간 0[s] | 손실 0.53\n",
            "| 에폭 619 |  반복 1 / 2 | 시간 0[s] | 손실 0.48\n",
            "| 에폭 620 |  반복 1 / 2 | 시간 0[s] | 손실 0.49\n",
            "| 에폭 621 |  반복 1 / 2 | 시간 0[s] | 손실 0.33\n",
            "| 에폭 622 |  반복 1 / 2 | 시간 0[s] | 손실 0.36\n",
            "| 에폭 623 |  반복 1 / 2 | 시간 0[s] | 손실 0.48\n",
            "| 에폭 624 |  반복 1 / 2 | 시간 0[s] | 손실 0.37\n",
            "| 에폭 625 |  반복 1 / 2 | 시간 0[s] | 손실 0.53\n",
            "| 에폭 626 |  반복 1 / 2 | 시간 0[s] | 손실 0.37\n",
            "| 에폭 627 |  반복 1 / 2 | 시간 0[s] | 손실 0.53\n",
            "| 에폭 628 |  반복 1 / 2 | 시간 0[s] | 손실 0.32\n",
            "| 에폭 629 |  반복 1 / 2 | 시간 0[s] | 손실 0.47\n",
            "| 에폭 630 |  반복 1 / 2 | 시간 0[s] | 손실 0.41\n",
            "| 에폭 631 |  반복 1 / 2 | 시간 0[s] | 손실 0.49\n",
            "| 에폭 632 |  반복 1 / 2 | 시간 0[s] | 손실 0.42\n",
            "| 에폭 633 |  반복 1 / 2 | 시간 0[s] | 손실 0.46\n",
            "| 에폭 634 |  반복 1 / 2 | 시간 0[s] | 손실 0.22\n",
            "| 에폭 635 |  반복 1 / 2 | 시간 0[s] | 손실 0.59\n",
            "| 에폭 636 |  반복 1 / 2 | 시간 0[s] | 손실 0.31\n",
            "| 에폭 637 |  반복 1 / 2 | 시간 0[s] | 손실 0.53\n",
            "| 에폭 638 |  반복 1 / 2 | 시간 0[s] | 손실 0.31\n",
            "| 에폭 639 |  반복 1 / 2 | 시간 0[s] | 손실 0.46\n",
            "| 에폭 640 |  반복 1 / 2 | 시간 0[s] | 손실 0.32\n",
            "| 에폭 641 |  반복 1 / 2 | 시간 0[s] | 손실 0.48\n",
            "| 에폭 642 |  반복 1 / 2 | 시간 0[s] | 손실 0.36\n",
            "| 에폭 643 |  반복 1 / 2 | 시간 0[s] | 손실 0.51\n",
            "| 에폭 644 |  반복 1 / 2 | 시간 0[s] | 손실 0.43\n",
            "| 에폭 645 |  반복 1 / 2 | 시간 0[s] | 손실 0.42\n",
            "| 에폭 646 |  반복 1 / 2 | 시간 0[s] | 손실 0.41\n",
            "| 에폭 647 |  반복 1 / 2 | 시간 0[s] | 손실 0.40\n",
            "| 에폭 648 |  반복 1 / 2 | 시간 0[s] | 손실 0.41\n",
            "| 에폭 649 |  반복 1 / 2 | 시간 0[s] | 손실 0.38\n",
            "| 에폭 650 |  반복 1 / 2 | 시간 0[s] | 손실 0.36\n",
            "| 에폭 651 |  반복 1 / 2 | 시간 0[s] | 손실 0.40\n",
            "| 에폭 652 |  반복 1 / 2 | 시간 0[s] | 손실 0.58\n",
            "| 에폭 653 |  반복 1 / 2 | 시간 0[s] | 손실 0.35\n",
            "| 에폭 654 |  반복 1 / 2 | 시간 0[s] | 손실 0.30\n",
            "| 에폭 655 |  반복 1 / 2 | 시간 0[s] | 손실 0.52\n",
            "| 에폭 656 |  반복 1 / 2 | 시간 0[s] | 손실 0.37\n",
            "| 에폭 657 |  반복 1 / 2 | 시간 0[s] | 손실 0.44\n",
            "| 에폭 658 |  반복 1 / 2 | 시간 0[s] | 손실 0.47\n",
            "| 에폭 659 |  반복 1 / 2 | 시간 0[s] | 손실 0.23\n",
            "| 에폭 660 |  반복 1 / 2 | 시간 0[s] | 손실 0.52\n",
            "| 에폭 661 |  반복 1 / 2 | 시간 0[s] | 손실 0.37\n",
            "| 에폭 662 |  반복 1 / 2 | 시간 0[s] | 손실 0.49\n",
            "| 에폭 663 |  반복 1 / 2 | 시간 0[s] | 손실 0.32\n",
            "| 에폭 664 |  반복 1 / 2 | 시간 0[s] | 손실 0.50\n",
            "| 에폭 665 |  반복 1 / 2 | 시간 0[s] | 손실 0.19\n",
            "| 에폭 666 |  반복 1 / 2 | 시간 0[s] | 손실 0.44\n",
            "| 에폭 667 |  반복 1 / 2 | 시간 0[s] | 손실 0.48\n",
            "| 에폭 668 |  반복 1 / 2 | 시간 0[s] | 손실 0.43\n",
            "| 에폭 669 |  반복 1 / 2 | 시간 0[s] | 손실 0.35\n",
            "| 에폭 670 |  반복 1 / 2 | 시간 0[s] | 손실 0.51\n",
            "| 에폭 671 |  반복 1 / 2 | 시간 0[s] | 손실 0.24\n",
            "| 에폭 672 |  반복 1 / 2 | 시간 0[s] | 손실 0.46\n",
            "| 에폭 673 |  반복 1 / 2 | 시간 0[s] | 손실 0.39\n",
            "| 에폭 674 |  반복 1 / 2 | 시간 0[s] | 손실 0.40\n",
            "| 에폭 675 |  반복 1 / 2 | 시간 0[s] | 손실 0.41\n",
            "| 에폭 676 |  반복 1 / 2 | 시간 0[s] | 손실 0.48\n",
            "| 에폭 677 |  반복 1 / 2 | 시간 0[s] | 손실 0.41\n",
            "| 에폭 678 |  반복 1 / 2 | 시간 0[s] | 손실 0.28\n",
            "| 에폭 679 |  반복 1 / 2 | 시간 0[s] | 손실 0.30\n",
            "| 에폭 680 |  반복 1 / 2 | 시간 0[s] | 손실 0.59\n",
            "| 에폭 681 |  반복 1 / 2 | 시간 0[s] | 손실 0.34\n",
            "| 에폭 682 |  반복 1 / 2 | 시간 0[s] | 손실 0.35\n",
            "| 에폭 683 |  반복 1 / 2 | 시간 0[s] | 손실 0.41\n",
            "| 에폭 684 |  반복 1 / 2 | 시간 0[s] | 손실 0.39\n",
            "| 에폭 685 |  반복 1 / 2 | 시간 0[s] | 손실 0.52\n",
            "| 에폭 686 |  반복 1 / 2 | 시간 0[s] | 손실 0.36\n",
            "| 에폭 687 |  반복 1 / 2 | 시간 0[s] | 손실 0.31\n",
            "| 에폭 688 |  반복 1 / 2 | 시간 0[s] | 손실 0.29\n",
            "| 에폭 689 |  반복 1 / 2 | 시간 0[s] | 손실 0.56\n",
            "| 에폭 690 |  반복 1 / 2 | 시간 0[s] | 손실 0.22\n",
            "| 에폭 691 |  반복 1 / 2 | 시간 0[s] | 손실 0.50\n",
            "| 에폭 692 |  반복 1 / 2 | 시간 0[s] | 손실 0.35\n",
            "| 에폭 693 |  반복 1 / 2 | 시간 0[s] | 손실 0.53\n",
            "| 에폭 694 |  반복 1 / 2 | 시간 0[s] | 손실 0.18\n",
            "| 에폭 695 |  반복 1 / 2 | 시간 0[s] | 손실 0.36\n",
            "| 에폭 696 |  반복 1 / 2 | 시간 0[s] | 손실 0.53\n",
            "| 에폭 697 |  반복 1 / 2 | 시간 0[s] | 손실 0.24\n",
            "| 에폭 698 |  반복 1 / 2 | 시간 0[s] | 손실 0.60\n",
            "| 에폭 699 |  반복 1 / 2 | 시간 0[s] | 손실 0.30\n",
            "| 에폭 700 |  반복 1 / 2 | 시간 0[s] | 손실 0.35\n",
            "| 에폭 701 |  반복 1 / 2 | 시간 0[s] | 손실 0.49\n",
            "| 에폭 702 |  반복 1 / 2 | 시간 0[s] | 손실 0.28\n",
            "| 에폭 703 |  반복 1 / 2 | 시간 0[s] | 손실 0.38\n",
            "| 에폭 704 |  반복 1 / 2 | 시간 0[s] | 손실 0.48\n",
            "| 에폭 705 |  반복 1 / 2 | 시간 0[s] | 손실 0.28\n",
            "| 에폭 706 |  반복 1 / 2 | 시간 0[s] | 손실 0.37\n",
            "| 에폭 707 |  반복 1 / 2 | 시간 0[s] | 손실 0.41\n",
            "| 에폭 708 |  반복 1 / 2 | 시간 0[s] | 손실 0.35\n",
            "| 에폭 709 |  반복 1 / 2 | 시간 0[s] | 손실 0.42\n",
            "| 에폭 710 |  반복 1 / 2 | 시간 0[s] | 손실 0.48\n",
            "| 에폭 711 |  반복 1 / 2 | 시간 0[s] | 손실 0.28\n",
            "| 에폭 712 |  반복 1 / 2 | 시간 0[s] | 손실 0.27\n",
            "| 에폭 713 |  반복 1 / 2 | 시간 0[s] | 손실 0.39\n",
            "| 에폭 714 |  반복 1 / 2 | 시간 0[s] | 손실 0.44\n",
            "| 에폭 715 |  반복 1 / 2 | 시간 0[s] | 손실 0.31\n",
            "| 에폭 716 |  반복 1 / 2 | 시간 0[s] | 손실 0.46\n",
            "| 에폭 717 |  반복 1 / 2 | 시간 0[s] | 손실 0.46\n",
            "| 에폭 718 |  반복 1 / 2 | 시간 0[s] | 손실 0.30\n",
            "| 에폭 719 |  반복 1 / 2 | 시간 0[s] | 손실 0.39\n",
            "| 에폭 720 |  반복 1 / 2 | 시간 0[s] | 손실 0.37\n",
            "| 에폭 721 |  반복 1 / 2 | 시간 0[s] | 손실 0.37\n",
            "| 에폭 722 |  반복 1 / 2 | 시간 0[s] | 손실 0.45\n",
            "| 에폭 723 |  반복 1 / 2 | 시간 0[s] | 손실 0.27\n",
            "| 에폭 724 |  반복 1 / 2 | 시간 0[s] | 손실 0.36\n",
            "| 에폭 725 |  반복 1 / 2 | 시간 0[s] | 손실 0.51\n",
            "| 에폭 726 |  반복 1 / 2 | 시간 0[s] | 손실 0.23\n",
            "| 에폭 727 |  반복 1 / 2 | 시간 0[s] | 손실 0.30\n",
            "| 에폭 728 |  반복 1 / 2 | 시간 0[s] | 손실 0.46\n",
            "| 에폭 729 |  반복 1 / 2 | 시간 0[s] | 손실 0.40\n",
            "| 에폭 730 |  반복 1 / 2 | 시간 0[s] | 손실 0.47\n",
            "| 에폭 731 |  반복 1 / 2 | 시간 0[s] | 손실 0.26\n",
            "| 에폭 732 |  반복 1 / 2 | 시간 0[s] | 손실 0.35\n",
            "| 에폭 733 |  반복 1 / 2 | 시간 0[s] | 손실 0.39\n",
            "| 에폭 734 |  반복 1 / 2 | 시간 0[s] | 손실 0.38\n",
            "| 에폭 735 |  반복 1 / 2 | 시간 0[s] | 손실 0.44\n",
            "| 에폭 736 |  반복 1 / 2 | 시간 0[s] | 손실 0.37\n",
            "| 에폭 737 |  반복 1 / 2 | 시간 0[s] | 손실 0.25\n",
            "| 에폭 738 |  반복 1 / 2 | 시간 0[s] | 손실 0.41\n",
            "| 에폭 739 |  반복 1 / 2 | 시간 0[s] | 손실 0.37\n",
            "| 에폭 740 |  반복 1 / 2 | 시간 0[s] | 손실 0.37\n",
            "| 에폭 741 |  반복 1 / 2 | 시간 0[s] | 손실 0.25\n",
            "| 에폭 742 |  반복 1 / 2 | 시간 0[s] | 손실 0.45\n",
            "| 에폭 743 |  반복 1 / 2 | 시간 0[s] | 손실 0.35\n",
            "| 에폭 744 |  반복 1 / 2 | 시간 0[s] | 손실 0.39\n",
            "| 에폭 745 |  반복 1 / 2 | 시간 0[s] | 손실 0.38\n",
            "| 에폭 746 |  반복 1 / 2 | 시간 0[s] | 손실 0.35\n",
            "| 에폭 747 |  반복 1 / 2 | 시간 0[s] | 손실 0.37\n",
            "| 에폭 748 |  반복 1 / 2 | 시간 0[s] | 손실 0.23\n",
            "| 에폭 749 |  반복 1 / 2 | 시간 0[s] | 손실 0.40\n",
            "| 에폭 750 |  반복 1 / 2 | 시간 0[s] | 손실 0.43\n",
            "| 에폭 751 |  반복 1 / 2 | 시간 0[s] | 손실 0.40\n",
            "| 에폭 752 |  반복 1 / 2 | 시간 0[s] | 손실 0.22\n",
            "| 에폭 753 |  반복 1 / 2 | 시간 0[s] | 손실 0.50\n",
            "| 에폭 754 |  반복 1 / 2 | 시간 0[s] | 손실 0.46\n",
            "| 에폭 755 |  반복 1 / 2 | 시간 0[s] | 손실 0.26\n",
            "| 에폭 756 |  반복 1 / 2 | 시간 0[s] | 손실 0.32\n",
            "| 에폭 757 |  반복 1 / 2 | 시간 0[s] | 손실 0.50\n",
            "| 에폭 758 |  반복 1 / 2 | 시간 0[s] | 손실 0.15\n",
            "| 에폭 759 |  반복 1 / 2 | 시간 0[s] | 손실 0.55\n",
            "| 에폭 760 |  반복 1 / 2 | 시간 0[s] | 손실 0.25\n",
            "| 에폭 761 |  반복 1 / 2 | 시간 0[s] | 손실 0.46\n",
            "| 에폭 762 |  반복 1 / 2 | 시간 0[s] | 손실 0.29\n",
            "| 에폭 763 |  반복 1 / 2 | 시간 0[s] | 손실 0.35\n",
            "| 에폭 764 |  반복 1 / 2 | 시간 0[s] | 손실 0.37\n",
            "| 에폭 765 |  반복 1 / 2 | 시간 0[s] | 손실 0.36\n",
            "| 에폭 766 |  반복 1 / 2 | 시간 0[s] | 손실 0.46\n",
            "| 에폭 767 |  반복 1 / 2 | 시간 0[s] | 손실 0.15\n",
            "| 에폭 768 |  반복 1 / 2 | 시간 0[s] | 손실 0.52\n",
            "| 에폭 769 |  반복 1 / 2 | 시간 0[s] | 손실 0.18\n",
            "| 에폭 770 |  반복 1 / 2 | 시간 0[s] | 손실 0.43\n",
            "| 에폭 771 |  반복 1 / 2 | 시간 0[s] | 손실 0.38\n",
            "| 에폭 772 |  반복 1 / 2 | 시간 0[s] | 손실 0.34\n",
            "| 에폭 773 |  반복 1 / 2 | 시간 0[s] | 손실 0.38\n",
            "| 에폭 774 |  반복 1 / 2 | 시간 0[s] | 손실 0.34\n",
            "| 에폭 775 |  반복 1 / 2 | 시간 0[s] | 손실 0.33\n",
            "| 에폭 776 |  반복 1 / 2 | 시간 0[s] | 손실 0.38\n",
            "| 에폭 777 |  반복 1 / 2 | 시간 0[s] | 손실 0.34\n",
            "| 에폭 778 |  반복 1 / 2 | 시간 0[s] | 손실 0.26\n",
            "| 에폭 779 |  반복 1 / 2 | 시간 0[s] | 손실 0.46\n",
            "| 에폭 780 |  반복 1 / 2 | 시간 0[s] | 손실 0.43\n",
            "| 에폭 781 |  반복 1 / 2 | 시간 0[s] | 손실 0.26\n",
            "| 에폭 782 |  반복 1 / 2 | 시간 0[s] | 손실 0.43\n",
            "| 에폭 783 |  반복 1 / 2 | 시간 0[s] | 손실 0.25\n",
            "| 에폭 784 |  반복 1 / 2 | 시간 0[s] | 손실 0.37\n",
            "| 에폭 785 |  반복 1 / 2 | 시간 0[s] | 손실 0.44\n",
            "| 에폭 786 |  반복 1 / 2 | 시간 0[s] | 손실 0.37\n",
            "| 에폭 787 |  반복 1 / 2 | 시간 0[s] | 손실 0.14\n",
            "| 에폭 788 |  반복 1 / 2 | 시간 0[s] | 손실 0.45\n",
            "| 에폭 789 |  반복 1 / 2 | 시간 0[s] | 손실 0.33\n",
            "| 에폭 790 |  반복 1 / 2 | 시간 0[s] | 손실 0.27\n",
            "| 에폭 791 |  반복 1 / 2 | 시간 0[s] | 손실 0.45\n",
            "| 에폭 792 |  반복 1 / 2 | 시간 0[s] | 손실 0.31\n",
            "| 에폭 793 |  반복 1 / 2 | 시간 0[s] | 손실 0.27\n",
            "| 에폭 794 |  반복 1 / 2 | 시간 0[s] | 손실 0.54\n",
            "| 에폭 795 |  반복 1 / 2 | 시간 0[s] | 손실 0.26\n",
            "| 에폭 796 |  반복 1 / 2 | 시간 0[s] | 손실 0.42\n",
            "| 에폭 797 |  반복 1 / 2 | 시간 0[s] | 손실 0.16\n",
            "| 에폭 798 |  반복 1 / 2 | 시간 0[s] | 손실 0.43\n",
            "| 에폭 799 |  반복 1 / 2 | 시간 0[s] | 손실 0.37\n",
            "| 에폭 800 |  반복 1 / 2 | 시간 0[s] | 손실 0.33\n",
            "| 에폭 801 |  반복 1 / 2 | 시간 0[s] | 손실 0.37\n",
            "| 에폭 802 |  반복 1 / 2 | 시간 0[s] | 손실 0.34\n",
            "| 에폭 803 |  반복 1 / 2 | 시간 0[s] | 손실 0.33\n",
            "| 에폭 804 |  반복 1 / 2 | 시간 0[s] | 손실 0.22\n",
            "| 에폭 805 |  반복 1 / 2 | 시간 0[s] | 손실 0.48\n",
            "| 에폭 806 |  반복 1 / 2 | 시간 0[s] | 손실 0.31\n",
            "| 에폭 807 |  반복 1 / 2 | 시간 0[s] | 손실 0.35\n",
            "| 에폭 808 |  반복 1 / 2 | 시간 0[s] | 손실 0.44\n",
            "| 에폭 809 |  반복 1 / 2 | 시간 0[s] | 손실 0.27\n",
            "| 에폭 810 |  반복 1 / 2 | 시간 0[s] | 손실 0.31\n",
            "| 에폭 811 |  반복 1 / 2 | 시간 0[s] | 손실 0.26\n",
            "| 에폭 812 |  반복 1 / 2 | 시간 0[s] | 손실 0.44\n",
            "| 에폭 813 |  반복 1 / 2 | 시간 0[s] | 손실 0.32\n",
            "| 에폭 814 |  반복 1 / 2 | 시간 0[s] | 손실 0.36\n",
            "| 에폭 815 |  반복 1 / 2 | 시간 0[s] | 손실 0.35\n",
            "| 에폭 816 |  반복 1 / 2 | 시간 0[s] | 손실 0.24\n",
            "| 에폭 817 |  반복 1 / 2 | 시간 0[s] | 손실 0.33\n",
            "| 에폭 818 |  반복 1 / 2 | 시간 0[s] | 손실 0.44\n",
            "| 에폭 819 |  반복 1 / 2 | 시간 0[s] | 손실 0.21\n",
            "| 에폭 820 |  반복 1 / 2 | 시간 0[s] | 손실 0.47\n",
            "| 에폭 821 |  반복 1 / 2 | 시간 0[s] | 손실 0.31\n",
            "| 에폭 822 |  반복 1 / 2 | 시간 0[s] | 손실 0.44\n",
            "| 에폭 823 |  반복 1 / 2 | 시간 0[s] | 손실 0.35\n",
            "| 에폭 824 |  반복 1 / 2 | 시간 0[s] | 손실 0.24\n",
            "| 에폭 825 |  반복 1 / 2 | 시간 0[s] | 손실 0.43\n",
            "| 에폭 826 |  반복 1 / 2 | 시간 0[s] | 손실 0.14\n",
            "| 에폭 827 |  반복 1 / 2 | 시간 0[s] | 손실 0.52\n",
            "| 에폭 828 |  반복 1 / 2 | 시간 0[s] | 손실 0.23\n",
            "| 에폭 829 |  반복 1 / 2 | 시간 0[s] | 손실 0.25\n",
            "| 에폭 830 |  반복 1 / 2 | 시간 0[s] | 손실 0.33\n",
            "| 에폭 831 |  반복 1 / 2 | 시간 0[s] | 손실 0.53\n",
            "| 에폭 832 |  반복 1 / 2 | 시간 0[s] | 손실 0.14\n",
            "| 에폭 833 |  반복 1 / 2 | 시간 0[s] | 손실 0.52\n",
            "| 에폭 834 |  반복 1 / 2 | 시간 0[s] | 손실 0.26\n",
            "| 에폭 835 |  반복 1 / 2 | 시간 0[s] | 손실 0.31\n",
            "| 에폭 836 |  반복 1 / 2 | 시간 0[s] | 손실 0.45\n",
            "| 에폭 837 |  반복 1 / 2 | 시간 0[s] | 손실 0.25\n",
            "| 에폭 838 |  반복 1 / 2 | 시간 0[s] | 손실 0.31\n",
            "| 에폭 839 |  반복 1 / 2 | 시간 0[s] | 손실 0.46\n",
            "| 에폭 840 |  반복 1 / 2 | 시간 0[s] | 손실 0.11\n",
            "| 에폭 841 |  반복 1 / 2 | 시간 0[s] | 손실 0.31\n",
            "| 에폭 842 |  반복 1 / 2 | 시간 0[s] | 손실 0.46\n",
            "| 에폭 843 |  반복 1 / 2 | 시간 0[s] | 손실 0.30\n",
            "| 에폭 844 |  반복 1 / 2 | 시간 0[s] | 손실 0.25\n",
            "| 에폭 845 |  반복 1 / 2 | 시간 0[s] | 손실 0.41\n",
            "| 에폭 846 |  반복 1 / 2 | 시간 0[s] | 손실 0.44\n",
            "| 에폭 847 |  반복 1 / 2 | 시간 0[s] | 손실 0.23\n",
            "| 에폭 848 |  반복 1 / 2 | 시간 0[s] | 손실 0.31\n",
            "| 에폭 849 |  반복 1 / 2 | 시간 0[s] | 손실 0.36\n",
            "| 에폭 850 |  반복 1 / 2 | 시간 0[s] | 손실 0.41\n",
            "| 에폭 851 |  반복 1 / 2 | 시간 0[s] | 손실 0.33\n",
            "| 에폭 852 |  반복 1 / 2 | 시간 0[s] | 손실 0.14\n",
            "| 에폭 853 |  반복 1 / 2 | 시간 0[s] | 손실 0.41\n",
            "| 에폭 854 |  반복 1 / 2 | 시간 0[s] | 손실 0.35\n",
            "| 에폭 855 |  반복 1 / 2 | 시간 0[s] | 손실 0.41\n",
            "| 에폭 856 |  반복 1 / 2 | 시간 0[s] | 손실 0.23\n",
            "| 에폭 857 |  반복 1 / 2 | 시간 0[s] | 손실 0.23\n",
            "| 에폭 858 |  반복 1 / 2 | 시간 0[s] | 손실 0.44\n",
            "| 에폭 859 |  반복 1 / 2 | 시간 0[s] | 손실 0.22\n",
            "| 에폭 860 |  반복 1 / 2 | 시간 0[s] | 손실 0.33\n",
            "| 에폭 861 |  반복 1 / 2 | 시간 0[s] | 손실 0.40\n",
            "| 에폭 862 |  반복 1 / 2 | 시간 0[s] | 손실 0.33\n",
            "| 에폭 863 |  반복 1 / 2 | 시간 0[s] | 손실 0.35\n",
            "| 에폭 864 |  반복 1 / 2 | 시간 0[s] | 손실 0.41\n",
            "| 에폭 865 |  반복 1 / 2 | 시간 0[s] | 손실 0.23\n",
            "| 에폭 866 |  반복 1 / 2 | 시간 0[s] | 손실 0.31\n",
            "| 에폭 867 |  반복 1 / 2 | 시간 0[s] | 손실 0.35\n",
            "| 에폭 868 |  반복 1 / 2 | 시간 0[s] | 손실 0.30\n",
            "| 에폭 869 |  반복 1 / 2 | 시간 0[s] | 손실 0.46\n",
            "| 에폭 870 |  반복 1 / 2 | 시간 0[s] | 손실 0.22\n",
            "| 에폭 871 |  반복 1 / 2 | 시간 0[s] | 손실 0.22\n",
            "| 에폭 872 |  반복 1 / 2 | 시간 0[s] | 손실 0.40\n",
            "| 에폭 873 |  반복 1 / 2 | 시간 0[s] | 손실 0.23\n",
            "| 에폭 874 |  반복 1 / 2 | 시간 0[s] | 손실 0.52\n",
            "| 에폭 875 |  반복 1 / 2 | 시간 0[s] | 손실 0.22\n",
            "| 에폭 876 |  반복 1 / 2 | 시간 0[s] | 손실 0.33\n",
            "| 에폭 877 |  반복 1 / 2 | 시간 0[s] | 손실 0.30\n",
            "| 에폭 878 |  반복 1 / 2 | 시간 0[s] | 손실 0.35\n",
            "| 에폭 879 |  반복 1 / 2 | 시간 0[s] | 손실 0.31\n",
            "| 에폭 880 |  반복 1 / 2 | 시간 0[s] | 손실 0.42\n",
            "| 에폭 881 |  반복 1 / 2 | 시간 0[s] | 손실 0.23\n",
            "| 에폭 882 |  반복 1 / 2 | 시간 0[s] | 손실 0.21\n",
            "| 에폭 883 |  반복 1 / 2 | 시간 0[s] | 손실 0.43\n",
            "| 에폭 884 |  반복 1 / 2 | 시간 0[s] | 손실 0.30\n",
            "| 에폭 885 |  반복 1 / 2 | 시간 0[s] | 손실 0.34\n",
            "| 에폭 886 |  반복 1 / 2 | 시간 0[s] | 손실 0.31\n",
            "| 에폭 887 |  반복 1 / 2 | 시간 0[s] | 손실 0.32\n",
            "| 에폭 888 |  반복 1 / 2 | 시간 0[s] | 손실 0.44\n",
            "| 에폭 889 |  반복 1 / 2 | 시간 0[s] | 손실 0.20\n",
            "| 에폭 890 |  반복 1 / 2 | 시간 0[s] | 손실 0.21\n",
            "| 에폭 891 |  반복 1 / 2 | 시간 0[s] | 손실 0.52\n",
            "| 에폭 892 |  반복 1 / 2 | 시간 0[s] | 손실 0.22\n",
            "| 에폭 893 |  반복 1 / 2 | 시간 0[s] | 손실 0.31\n",
            "| 에폭 894 |  반복 1 / 2 | 시간 0[s] | 손실 0.33\n",
            "| 에폭 895 |  반복 1 / 2 | 시간 0[s] | 손실 0.29\n",
            "| 에폭 896 |  반복 1 / 2 | 시간 0[s] | 손실 0.32\n",
            "| 에폭 897 |  반복 1 / 2 | 시간 0[s] | 손실 0.34\n",
            "| 에폭 898 |  반복 1 / 2 | 시간 0[s] | 손실 0.29\n",
            "| 에폭 899 |  반복 1 / 2 | 시간 0[s] | 손실 0.43\n",
            "| 에폭 900 |  반복 1 / 2 | 시간 0[s] | 손실 0.09\n",
            "| 에폭 901 |  반복 1 / 2 | 시간 0[s] | 손실 0.54\n",
            "| 에폭 902 |  반복 1 / 2 | 시간 0[s] | 손실 0.22\n",
            "| 에폭 903 |  반복 1 / 2 | 시간 0[s] | 손실 0.18\n",
            "| 에폭 904 |  반복 1 / 2 | 시간 0[s] | 손실 0.53\n",
            "| 에폭 905 |  반복 1 / 2 | 시간 0[s] | 손실 0.21\n",
            "| 에폭 906 |  반복 1 / 2 | 시간 0[s] | 손실 0.31\n",
            "| 에폭 907 |  반복 1 / 2 | 시간 0[s] | 손실 0.33\n",
            "| 에폭 908 |  반복 1 / 2 | 시간 0[s] | 손실 0.31\n",
            "| 에폭 909 |  반복 1 / 2 | 시간 0[s] | 손실 0.31\n",
            "| 에폭 910 |  반복 1 / 2 | 시간 0[s] | 손실 0.32\n",
            "| 에폭 911 |  반복 1 / 2 | 시간 0[s] | 손실 0.32\n",
            "| 에폭 912 |  반복 1 / 2 | 시간 0[s] | 손실 0.20\n",
            "| 에폭 913 |  반복 1 / 2 | 시간 0[s] | 손실 0.53\n",
            "| 에폭 914 |  반복 1 / 2 | 시간 0[s] | 손실 0.18\n",
            "| 에폭 915 |  반복 1 / 2 | 시간 0[s] | 손실 0.33\n",
            "| 에폭 916 |  반복 1 / 2 | 시간 0[s] | 손실 0.21\n",
            "| 에폭 917 |  반복 1 / 2 | 시간 0[s] | 손실 0.42\n",
            "| 에폭 918 |  반복 1 / 2 | 시간 1[s] | 손실 0.31\n",
            "| 에폭 919 |  반복 1 / 2 | 시간 1[s] | 손실 0.18\n",
            "| 에폭 920 |  반복 1 / 2 | 시간 1[s] | 손실 0.44\n",
            "| 에폭 921 |  반복 1 / 2 | 시간 1[s] | 손실 0.20\n",
            "| 에폭 922 |  반복 1 / 2 | 시간 1[s] | 손실 0.52\n",
            "| 에폭 923 |  반복 1 / 2 | 시간 1[s] | 손실 0.20\n",
            "| 에폭 924 |  반복 1 / 2 | 시간 1[s] | 손실 0.31\n",
            "| 에폭 925 |  반복 1 / 2 | 시간 1[s] | 손실 0.31\n",
            "| 에폭 926 |  반복 1 / 2 | 시간 1[s] | 손실 0.30\n",
            "| 에폭 927 |  반복 1 / 2 | 시간 1[s] | 손실 0.32\n",
            "| 에폭 928 |  반복 1 / 2 | 시간 1[s] | 손실 0.22\n",
            "| 에폭 929 |  반복 1 / 2 | 시간 1[s] | 손실 0.50\n",
            "| 에폭 930 |  반복 1 / 2 | 시간 1[s] | 손실 0.22\n",
            "| 에폭 931 |  반복 1 / 2 | 시간 1[s] | 손실 0.40\n",
            "| 에폭 932 |  반복 1 / 2 | 시간 1[s] | 손실 0.11\n",
            "| 에폭 933 |  반복 1 / 2 | 시간 1[s] | 손실 0.41\n",
            "| 에폭 934 |  반복 1 / 2 | 시간 1[s] | 손실 0.21\n",
            "| 에폭 935 |  반복 1 / 2 | 시간 1[s] | 손실 0.29\n",
            "| 에폭 936 |  반복 1 / 2 | 시간 1[s] | 손실 0.42\n",
            "| 에폭 937 |  반복 1 / 2 | 시간 1[s] | 손실 0.22\n",
            "| 에폭 938 |  반복 1 / 2 | 시간 1[s] | 손실 0.40\n",
            "| 에폭 939 |  반복 1 / 2 | 시간 1[s] | 손실 0.41\n",
            "| 에폭 940 |  반복 1 / 2 | 시간 1[s] | 손실 0.21\n",
            "| 에폭 941 |  반복 1 / 2 | 시간 1[s] | 손실 0.20\n",
            "| 에폭 942 |  반복 1 / 2 | 시간 1[s] | 손실 0.31\n",
            "| 에폭 943 |  반복 1 / 2 | 시간 1[s] | 손실 0.40\n",
            "| 에폭 944 |  반복 1 / 2 | 시간 1[s] | 손실 0.31\n",
            "| 에폭 945 |  반복 1 / 2 | 시간 1[s] | 손실 0.41\n",
            "| 에폭 946 |  반복 1 / 2 | 시간 1[s] | 손실 0.08\n",
            "| 에폭 947 |  반복 1 / 2 | 시간 1[s] | 손실 0.31\n",
            "| 에폭 948 |  반복 1 / 2 | 시간 1[s] | 손실 0.41\n",
            "| 에폭 949 |  반복 1 / 2 | 시간 1[s] | 손실 0.33\n",
            "| 에폭 950 |  반복 1 / 2 | 시간 1[s] | 손실 0.19\n",
            "| 에폭 951 |  반복 1 / 2 | 시간 1[s] | 손실 0.53\n",
            "| 에폭 952 |  반복 1 / 2 | 시간 1[s] | 손실 0.18\n",
            "| 에폭 953 |  반복 1 / 2 | 시간 1[s] | 손실 0.42\n",
            "| 에폭 954 |  반복 1 / 2 | 시간 1[s] | 손실 0.20\n",
            "| 에폭 955 |  반복 1 / 2 | 시간 1[s] | 손실 0.31\n",
            "| 에폭 956 |  반복 1 / 2 | 시간 1[s] | 손실 0.31\n",
            "| 에폭 957 |  반복 1 / 2 | 시간 1[s] | 손실 0.19\n",
            "| 에폭 958 |  반복 1 / 2 | 시간 1[s] | 손실 0.42\n",
            "| 에폭 959 |  반복 1 / 2 | 시간 1[s] | 손실 0.30\n",
            "| 에폭 960 |  반복 1 / 2 | 시간 1[s] | 손실 0.30\n",
            "| 에폭 961 |  반복 1 / 2 | 시간 1[s] | 손실 0.19\n",
            "| 에폭 962 |  반복 1 / 2 | 시간 1[s] | 손실 0.40\n",
            "| 에폭 963 |  반복 1 / 2 | 시간 1[s] | 손실 0.42\n",
            "| 에폭 964 |  반복 1 / 2 | 시간 1[s] | 손실 0.19\n",
            "| 에폭 965 |  반복 1 / 2 | 시간 1[s] | 손실 0.30\n",
            "| 에폭 966 |  반복 1 / 2 | 시간 1[s] | 손실 0.30\n",
            "| 에폭 967 |  반복 1 / 2 | 시간 1[s] | 손실 0.19\n",
            "| 에폭 968 |  반복 1 / 2 | 시간 1[s] | 손실 0.42\n",
            "| 에폭 969 |  반복 1 / 2 | 시간 1[s] | 손실 0.31\n",
            "| 에폭 970 |  반복 1 / 2 | 시간 1[s] | 손실 0.29\n",
            "| 에폭 971 |  반복 1 / 2 | 시간 1[s] | 손실 0.41\n",
            "| 에폭 972 |  반복 1 / 2 | 시간 1[s] | 손실 0.21\n",
            "| 에폭 973 |  반복 1 / 2 | 시간 1[s] | 손실 0.29\n",
            "| 에폭 974 |  반복 1 / 2 | 시간 1[s] | 손실 0.19\n",
            "| 에폭 975 |  반복 1 / 2 | 시간 1[s] | 손실 0.30\n",
            "| 에폭 976 |  반복 1 / 2 | 시간 1[s] | 손실 0.41\n",
            "| 에폭 977 |  반복 1 / 2 | 시간 1[s] | 손실 0.17\n",
            "| 에폭 978 |  반복 1 / 2 | 시간 1[s] | 손실 0.41\n",
            "| 에폭 979 |  반복 1 / 2 | 시간 1[s] | 손실 0.40\n",
            "| 에폭 980 |  반복 1 / 2 | 시간 1[s] | 손실 0.20\n",
            "| 에폭 981 |  반복 1 / 2 | 시간 1[s] | 손실 0.40\n",
            "| 에폭 982 |  반복 1 / 2 | 시간 1[s] | 손실 0.18\n",
            "| 에폭 983 |  반복 1 / 2 | 시간 1[s] | 손실 0.32\n",
            "| 에폭 984 |  반복 1 / 2 | 시간 1[s] | 손실 0.30\n",
            "| 에폭 985 |  반복 1 / 2 | 시간 1[s] | 손실 0.28\n",
            "| 에폭 986 |  반복 1 / 2 | 시간 1[s] | 손실 0.32\n",
            "| 에폭 987 |  반복 1 / 2 | 시간 1[s] | 손실 0.28\n",
            "| 에폭 988 |  반복 1 / 2 | 시간 1[s] | 손실 0.31\n",
            "| 에폭 989 |  반복 1 / 2 | 시간 1[s] | 손실 0.30\n",
            "| 에폭 990 |  반복 1 / 2 | 시간 1[s] | 손실 0.41\n",
            "| 에폭 991 |  반복 1 / 2 | 시간 1[s] | 손실 0.18\n",
            "| 에폭 992 |  반복 1 / 2 | 시간 1[s] | 손실 0.31\n",
            "| 에폭 993 |  반복 1 / 2 | 시간 1[s] | 손실 0.39\n",
            "| 에폭 994 |  반복 1 / 2 | 시간 1[s] | 손실 0.18\n",
            "| 에폭 995 |  반복 1 / 2 | 시간 1[s] | 손실 0.31\n",
            "| 에폭 996 |  반복 1 / 2 | 시간 1[s] | 손실 0.30\n",
            "| 에폭 997 |  반복 1 / 2 | 시간 1[s] | 손실 0.28\n",
            "| 에폭 998 |  반복 1 / 2 | 시간 1[s] | 손실 0.42\n",
            "| 에폭 999 |  반복 1 / 2 | 시간 1[s] | 손실 0.18\n",
            "| 에폭 1000 |  반복 1 / 2 | 시간 1[s] | 손실 0.19\n"
          ],
          "name": "stdout"
        },
        {
          "output_type": "stream",
          "text": [
            "/usr/local/lib/python3.7/dist-packages/matplotlib/backends/backend_agg.py:214: RuntimeWarning: Glyph 48152 missing from current font.\n",
            "  font.set_text(s, 0.0, flags=flags)\n",
            "/usr/local/lib/python3.7/dist-packages/matplotlib/backends/backend_agg.py:214: RuntimeWarning: Glyph 48373 missing from current font.\n",
            "  font.set_text(s, 0.0, flags=flags)\n",
            "/usr/local/lib/python3.7/dist-packages/matplotlib/backends/backend_agg.py:214: RuntimeWarning: Glyph 49552 missing from current font.\n",
            "  font.set_text(s, 0.0, flags=flags)\n",
            "/usr/local/lib/python3.7/dist-packages/matplotlib/backends/backend_agg.py:214: RuntimeWarning: Glyph 49892 missing from current font.\n",
            "  font.set_text(s, 0.0, flags=flags)\n",
            "/usr/local/lib/python3.7/dist-packages/matplotlib/backends/backend_agg.py:183: RuntimeWarning: Glyph 48152 missing from current font.\n",
            "  font.set_text(s, 0, flags=flags)\n",
            "/usr/local/lib/python3.7/dist-packages/matplotlib/backends/backend_agg.py:183: RuntimeWarning: Glyph 48373 missing from current font.\n",
            "  font.set_text(s, 0, flags=flags)\n",
            "/usr/local/lib/python3.7/dist-packages/matplotlib/backends/backend_agg.py:183: RuntimeWarning: Glyph 49552 missing from current font.\n",
            "  font.set_text(s, 0, flags=flags)\n",
            "/usr/local/lib/python3.7/dist-packages/matplotlib/backends/backend_agg.py:183: RuntimeWarning: Glyph 49892 missing from current font.\n",
            "  font.set_text(s, 0, flags=flags)\n"
          ],
          "name": "stderr"
        },
        {
          "output_type": "display_data",
          "data": {
            "image/png": "[encoded data removed]",
            "text/plain": [
              "<Figure size 432x288 with 1 Axes>"
            ]
          },
          "metadata": {
            "tags": [],
            "needs_background": "light"
          }
        }
      ]
    },
    {
      "cell_type": "code",
      "metadata": {
        "colab": {
          "base_uri": "https://localhost:8080/"
        },
        "id": "iIkFlMiMBy8B",
        "outputId": "7931c9e3-7cdb-44c7-fd38-22074beee57d"
      },
      "source": [
        "word_vecs = model.word_vecs\n",
        "for word_id, word in id_to_word.items():\n",
        "    print(word, word_vecs[word_id])"
      ],
      "execution_count": null,
      "outputs": [
        {
          "output_type": "stream",
          "text": [
            "you [-1.813446   1.0368304  1.0390493 -1.1982752 -1.0703808]\n",
            "say [-1.1796665  -0.423677   -1.3903732   0.31663936  0.23360215]\n",
            "goodbye [ 1.0854391   0.93754166  1.0346782  -0.6988972  -0.8536838 ]\n",
            "and [-0.962589   1.3902006 -1.314319   1.53017   -1.39173  ]\n",
            "i [ 1.0876441   0.91210103  1.0085852  -0.70796233 -0.8525058 ]\n",
            "hello [-1.8057525  1.0363913  1.0548234 -1.1895499 -1.0574046]\n",
            ". [-1.0714399 -1.2355824 -0.9821766 -1.3005836  1.2556689]\n"
          ],
          "name": "stdout"
        }
      ]
    },
    {
      "cell_type": "markdown",
      "metadata": {
        "id": "R_X6tyZ4EFEe"
      },
      "source": [
        "-----------------"
      ]
    },
    {
      "cell_type": "markdown",
      "metadata": {
        "id": "_O0jtCe2EF-t"
      },
      "source": [
        "# 3.5 word2vec 보충\n",
        "* 3.5.1 CBOW 모델과 확률\n",
        "* 3.5.2 skip-gram 모델\n",
        "* 3.5.3 통계 기반 vs. 추론 기반\n"
      ]
    },
    {
      "cell_type": "markdown",
      "metadata": {
        "id": "0FxL-P8OFsnL"
      },
      "source": [
        "## 3.5.1 CBOW 모델과 확률\n"
      ]
    },
    {
      "cell_type": "markdown",
      "metadata": {
        "id": "ncIXtQLYFvyC"
      },
      "source": [
        "## 3.5.2 skip-gram 모델\n"
      ]
    },
    {
      "cell_type": "markdown",
      "metadata": {
        "id": "zsNicgbVFw9c"
      },
      "source": [
        "## 3.5.3 통계 기반 vs. 추론 기반"
      ]
    },
    {
      "cell_type": "markdown",
      "metadata": {
        "id": "T2bcAbfhEHay"
      },
      "source": [
        "-----------------"
      ]
    },
    {
      "cell_type": "markdown",
      "metadata": {
        "id": "CGXKXCTOEIu_"
      },
      "source": [
        "# 3.6 정리"
      ]
    },
    {
      "cell_type": "markdown",
      "metadata": {
        "id": "BwPFGbJZAkwj"
      },
      "source": [
        "------------------\n",
        "# 참고문헌\n",
        "* [1] 밑바닥부터 시작하는 딥러닝 2\n",
        "  - https://www.hanbit.co.kr/store/books/look.php?p_code=B8950212853\n",
        "  - github - https://github.com/WegraLee/deep-learning-from-scratch-2"
      ]
    }
  ]
}