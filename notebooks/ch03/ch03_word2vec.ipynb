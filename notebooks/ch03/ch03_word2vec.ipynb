{
  "nbformat": 4,
  "nbformat_minor": 0,
  "metadata": {
    "colab": {
      "name": "ch03_word2vec.ipynb",
      "provenance": [],
      "authorship_tag": "ABX9TyORymogCH7WUDl9ErUUr2SY",
      "include_colab_link": true
    },
    "kernelspec": {
      "name": "python3",
      "display_name": "Python 3"
    },
    "language_info": {
      "name": "python"
    }
  },
  "cells": [
    {
      "cell_type": "markdown",
      "metadata": {
        "id": "view-in-github",
        "colab_type": "text"
      },
      "source": [
        "<a href=\"https://colab.research.google.com/github/psygrammer/about_python_dl_from_scrach_2/blob/main/notebooks/ch03/ch03_word2vec.ipynb\" target=\"_parent\"><img src=\"https://colab.research.google.com/assets/colab-badge.svg\" alt=\"Open In Colab\"/></a>"
      ]
    },
    {
      "cell_type": "markdown",
      "metadata": {
        "id": "KLef1PM7ujKf"
      },
      "source": [
        "# 3. word2vec"
      ]
    },
    {
      "cell_type": "markdown",
      "metadata": {
        "id": "1tCj1-a7ARsG"
      },
      "source": [
        "* 싸이그래머 / 어바웃파이썬 : 딥러닝 NLP [1]\n",
        "* 김무성"
      ]
    },
    {
      "cell_type": "markdown",
      "metadata": {
        "id": "KV8K-m63AU9K"
      },
      "source": [
        "# 차례 \n",
        "* 3.1 추론 기반 기법과 신경망\n",
        "  - 3.1.1 통계 기반 기법의 문제점\n",
        "  - 3.1.2 추론 기반 기법 개요\n",
        "  - 3.1.3 신경망에서의 단어 처리\n",
        "* 3.2 단순한 word2vec\n",
        "  - 3.2.1 CBOW 모델의 추론 처리\n",
        "  - 3.2.2 CBOW 모델의 학습\n",
        "  - 3.2.3 word2vec의 가중치와 분산 표현\n",
        "* 3.3 학습 데이터 준비\n",
        "  - 3.3.1 맥락과 타깃\n",
        "  - 3.3.2 원핫 표현으로 변환\n",
        "* 3.4 CBOW 모델 구현\n",
        "  - 3.4.1 학습 코드 구현\n",
        "* 3.5 word2vec 보충\n",
        "  - 3.5.1 CBOW 모델과 확률\n",
        "  - 3.5.2 skip-gram 모델\n",
        "  - 3.5.3 통계 기반 vs. 추론 기반\n",
        "* 3.6 정리"
      ]
    },
    {
      "cell_type": "markdown",
      "metadata": {
        "id": "W6nILPB4FEnW"
      },
      "source": [
        "------------------"
      ]
    },
    {
      "cell_type": "code",
      "metadata": {
        "id": "hRJAFOWUuX4T",
        "colab": {
          "base_uri": "https://localhost:8080/"
        },
        "outputId": "344fb94e-6d02-49f9-bd7d-ad9a6dfcbf5d"
      },
      "source": [
        "!git clone https://github.com/psygrammer/about_python_dl_from_scrach_2.git"
      ],
      "execution_count": null,
      "outputs": [
        {
          "output_type": "stream",
          "text": [
            "Cloning into 'about_python_dl_from_scrach_2'...\n",
            "remote: Enumerating objects: 104, done.\u001b[K\n",
            "remote: Counting objects: 100% (104/104), done.\u001b[K\n",
            "remote: Compressing objects: 100% (88/88), done.\u001b[K\n",
            "remote: Total 104 (delta 44), reused 33 (delta 5), pack-reused 0\u001b[K\n",
            "Receiving objects: 100% (104/104), 746.54 KiB | 4.50 MiB/s, done.\n",
            "Resolving deltas: 100% (44/44), done.\n"
          ],
          "name": "stdout"
        }
      ]
    },
    {
      "cell_type": "code",
      "metadata": {
        "id": "wyZTlvT5FHkO",
        "colab": {
          "base_uri": "https://localhost:8080/"
        },
        "outputId": "9f21a368-7ab4-4880-c3f5-4dfdfe2176d1"
      },
      "source": [
        "ls"
      ],
      "execution_count": null,
      "outputs": [
        {
          "output_type": "stream",
          "text": [
            "\u001b[0m\u001b[01;34mabout_python_dl_from_scrach_2\u001b[0m/  \u001b[01;34msample_data\u001b[0m/\n"
          ],
          "name": "stdout"
        }
      ]
    },
    {
      "cell_type": "code",
      "metadata": {
        "id": "KS8mCAfNFMkT",
        "colab": {
          "base_uri": "https://localhost:8080/"
        },
        "outputId": "34b17443-8009-4114-f27e-4cec0f6c1b20"
      },
      "source": [
        "cd /content/about_python_dl_from_scrach_2/notebooks/ch03"
      ],
      "execution_count": null,
      "outputs": [
        {
          "output_type": "stream",
          "text": [
            "/content/about_python_dl_from_scrach_2/notebooks/ch03\n"
          ],
          "name": "stdout"
        }
      ]
    },
    {
      "cell_type": "code",
      "metadata": {
        "id": "nVOV8K7_FO1E",
        "colab": {
          "base_uri": "https://localhost:8080/"
        },
        "outputId": "e743acc0-ce56-4790-9686-c8dc0571c45c"
      },
      "source": [
        "ls"
      ],
      "execution_count": null,
      "outputs": [
        {
          "output_type": "stream",
          "text": [
            "ch03_word2vec_sol.ipynb\n"
          ],
          "name": "stdout"
        }
      ]
    },
    {
      "cell_type": "markdown",
      "metadata": {
        "id": "gPsWuMTbAiVa"
      },
      "source": [
        "------------------------"
      ]
    },
    {
      "cell_type": "markdown",
      "metadata": {
        "id": "vb5ofebJD1A6"
      },
      "source": [
        "# 3.1 추론 기반 기법과 신경망\n",
        "* 3.1.1 통계 기반 기법의 문제점\n",
        "* 3.1.2 추론 기반 기법 개요\n",
        "* 3.1.3 신경망에서의 단어 처리"
      ]
    },
    {
      "cell_type": "markdown",
      "metadata": {
        "id": "BDj9LLDQFXm5"
      },
      "source": [
        "## 3.1.1 통계 기반 기법의 문제점\n"
      ]
    },
    {
      "cell_type": "markdown",
      "metadata": {
        "id": "kj6y9fKpFa5b"
      },
      "source": [
        "## 3.1.2 추론 기반 기법 개요\n"
      ]
    },
    {
      "cell_type": "markdown",
      "metadata": {
        "id": "hKcpGcTpFc2i"
      },
      "source": [
        "## 3.1.3 신경망에서의 단어 처리"
      ]
    },
    {
      "cell_type": "code",
      "metadata": {
        "id": "wEfbUvRFF7rn"
      },
      "source": [
        "import numpy as np"
      ],
      "execution_count": null,
      "outputs": []
    },
    {
      "cell_type": "code",
      "metadata": {
        "id": "TMCJ9bMdGQAq",
        "colab": {
          "base_uri": "https://localhost:8080/"
        },
        "outputId": "647dd944-afe9-4f27-8286-b8d12f77fc6c"
      },
      "source": [
        "# 입력\n",
        "c = # 실습 !!\n",
        "c"
      ],
      "execution_count": null,
      "outputs": [
        {
          "output_type": "execute_result",
          "data": {
            "text/plain": [
              "array([[1, 0, 0, 0, 0, 0, 0]])"
            ]
          },
          "metadata": {
            "tags": []
          },
          "execution_count": 7
        }
      ]
    },
    {
      "cell_type": "code",
      "metadata": {
        "id": "Q59AAp08GUZX",
        "colab": {
          "base_uri": "https://localhost:8080/"
        },
        "outputId": "1bc3e282-17bd-4cbb-f164-904ceaf0e21a"
      },
      "source": [
        "# 가중치\n",
        "# 랜덤 초기화\n",
        "W = # 실습 !!\n",
        "W"
      ],
      "execution_count": null,
      "outputs": [
        {
          "output_type": "execute_result",
          "data": {
            "text/plain": [
              "array([[-0.01408087, -1.70087336,  0.97747598],\n",
              "       [ 0.62588852,  0.29016156,  1.20329955],\n",
              "       [ 1.62648654,  0.48388702, -0.84231368],\n",
              "       [-1.19646301, -0.24558409, -0.51263625],\n",
              "       [-0.20585163,  0.0286256 ,  0.22099289],\n",
              "       [-0.79984444,  1.04855367,  1.25478784],\n",
              "       [ 0.24926519, -0.31154451,  1.38341062]])"
            ]
          },
          "metadata": {
            "tags": []
          },
          "execution_count": 8
        }
      ]
    },
    {
      "cell_type": "code",
      "metadata": {
        "colab": {
          "base_uri": "https://localhost:8080/"
        },
        "id": "PXFyTIXBHTLh",
        "outputId": "c00bb285-11d5-4a6f-b904-16482a03819e"
      },
      "source": [
        "# 중간노드\n",
        "h = # 실습 !! \n",
        "h"
      ],
      "execution_count": null,
      "outputs": [
        {
          "output_type": "execute_result",
          "data": {
            "text/plain": [
              "array([[-0.01408087, -1.70087336,  0.97747598]])"
            ]
          },
          "metadata": {
            "tags": []
          },
          "execution_count": 9
        }
      ]
    },
    {
      "cell_type": "markdown",
      "metadata": {
        "id": "jOMFMAzsHSff"
      },
      "source": [
        "#### 위의 코드는 1장에서 구현한 MaMul 계층으로도 수행할 수 있다. "
      ]
    },
    {
      "cell_type": "code",
      "metadata": {
        "id": "EHjfCuLkHoMs"
      },
      "source": [
        "import sys\n",
        "sys.path.append('..')"
      ],
      "execution_count": null,
      "outputs": []
    },
    {
      "cell_type": "code",
      "metadata": {
        "id": "LupB3CGgH3gk"
      },
      "source": [
        "import numpy as np\n",
        "from common.layers import MatMul"
      ],
      "execution_count": null,
      "outputs": []
    },
    {
      "cell_type": "code",
      "metadata": {
        "colab": {
          "base_uri": "https://localhost:8080/"
        },
        "id": "As_IYYkrH9Rf",
        "outputId": "62f6c359-3df9-4eac-b8bf-8f82d5ff7c97"
      },
      "source": [
        "# 입력\n",
        "c = # 실습 !!\n",
        "c"
      ],
      "execution_count": null,
      "outputs": [
        {
          "output_type": "execute_result",
          "data": {
            "text/plain": [
              "array([[1, 0, 0, 0, 0, 0, 0]])"
            ]
          },
          "metadata": {
            "tags": []
          },
          "execution_count": 12
        }
      ]
    },
    {
      "cell_type": "code",
      "metadata": {
        "colab": {
          "base_uri": "https://localhost:8080/"
        },
        "id": "PwY_P9lEII2F",
        "outputId": "6d64675c-b73d-401d-a5f5-be1c8d4e744f"
      },
      "source": [
        "# 가중치\n",
        "# 랜덤 초기화\n",
        "W = # 실습 !!\n",
        "W"
      ],
      "execution_count": null,
      "outputs": [
        {
          "output_type": "execute_result",
          "data": {
            "text/plain": [
              "array([[ 1.29373618,  0.07850321,  1.23219806],\n",
              "       [-0.83077307,  1.43327969,  0.77527253],\n",
              "       [-0.32122274, -0.6751306 , -1.40619308],\n",
              "       [-0.18549382, -2.15863886,  1.13753216],\n",
              "       [-0.23515995,  0.76372041, -0.23065273],\n",
              "       [-0.82121156, -0.18724179, -0.45392134],\n",
              "       [-0.33732292, -0.85531403,  1.96969153]])"
            ]
          },
          "metadata": {
            "tags": []
          },
          "execution_count": 13
        }
      ]
    },
    {
      "cell_type": "code",
      "metadata": {
        "colab": {
          "base_uri": "https://localhost:8080/"
        },
        "id": "V9Z0gQDpISGo",
        "outputId": "71f048f0-e276-4d75-e078-bf4c49861ece"
      },
      "source": [
        "layer = # 실습 !!\n",
        "layer"
      ],
      "execution_count": null,
      "outputs": [
        {
          "output_type": "execute_result",
          "data": {
            "text/plain": [
              "<common.layers.MatMul at 0x7f8e43a45f90>"
            ]
          },
          "metadata": {
            "tags": []
          },
          "execution_count": 14
        }
      ]
    },
    {
      "cell_type": "code",
      "metadata": {
        "colab": {
          "base_uri": "https://localhost:8080/"
        },
        "id": "EIMzU7CwIWZg",
        "outputId": "83f85f96-221b-4bf8-cfcc-960a39b4d6fa"
      },
      "source": [
        "h = # 실습 !!\n",
        "h"
      ],
      "execution_count": null,
      "outputs": [
        {
          "output_type": "execute_result",
          "data": {
            "text/plain": [
              "array([[1.29373618, 0.07850321, 1.23219806]])"
            ]
          },
          "metadata": {
            "tags": []
          },
          "execution_count": 15
        }
      ]
    },
    {
      "cell_type": "markdown",
      "metadata": {
        "id": "EyZ5tbYhD37a"
      },
      "source": [
        "-------------"
      ]
    },
    {
      "cell_type": "markdown",
      "metadata": {
        "id": "shW7Dtp7D4zg"
      },
      "source": [
        "# 3.2 단순한 word2vec\n",
        "* 3.2.1 CBOW 모델의 추론 처리\n",
        "* 3.2.2 CBOW 모델의 학습\n",
        "* 3.2.3 word2vec의 가중치와 분산 표현\n"
      ]
    },
    {
      "cell_type": "markdown",
      "metadata": {
        "id": "iIn_mzJOFeZR"
      },
      "source": [
        "## 3.2.1 CBOW 모델의 추론 처리\n"
      ]
    },
    {
      "cell_type": "code",
      "metadata": {
        "id": "BZeahziXIwgl"
      },
      "source": [
        "# coding: utf-8\n",
        "import sys\n",
        "sys.path.append('..')\n",
        "import numpy as np\n",
        "from common.layers import MatMul"
      ],
      "execution_count": null,
      "outputs": []
    },
    {
      "cell_type": "code",
      "metadata": {
        "id": "I3REWK3DIzvh"
      },
      "source": [
        "# 샘플 맥락 데이터\n",
        "c0 = # 실습 !!\n",
        "c1 = # 실습 !!"
      ],
      "execution_count": null,
      "outputs": []
    },
    {
      "cell_type": "code",
      "metadata": {
        "id": "k0jxva2HI4Vk"
      },
      "source": [
        "# 가중치 초기화\n",
        "W_in = # 실습 !!\n",
        "W_out = # 실습 !!"
      ],
      "execution_count": null,
      "outputs": []
    },
    {
      "cell_type": "code",
      "metadata": {
        "id": "iX1CdJCvI6XP"
      },
      "source": [
        "# 계층 생성\n",
        "in_layer0 = # 실습 !!\n",
        "in_layer1 = # 실습 !!\n",
        "out_layer = # 실습 !!"
      ],
      "execution_count": null,
      "outputs": []
    },
    {
      "cell_type": "code",
      "metadata": {
        "colab": {
          "base_uri": "https://localhost:8080/"
        },
        "id": "8vGOq36pI7-0",
        "outputId": "0052cdb5-1312-4d3c-bcb4-13fd2d955546"
      },
      "source": [
        "# 순전파\n",
        "h0 = # 실습 !!\n",
        "h1 = # 실습 !!\n",
        "h = # 실습 !!\n",
        "s = # 실습 !!\n",
        "print(s)"
      ],
      "execution_count": null,
      "outputs": [
        {
          "output_type": "stream",
          "text": [
            "[[-0.28504955  1.62074068  1.43591948 -1.71722792 -0.61956681 -0.09237032\n",
            "   1.34068562]]\n"
          ],
          "name": "stdout"
        }
      ]
    },
    {
      "cell_type": "markdown",
      "metadata": {
        "id": "o30V6eOhFh6n"
      },
      "source": [
        "## 3.2.2 CBOW 모델의 학습\n"
      ]
    },
    {
      "cell_type": "markdown",
      "metadata": {
        "id": "kLgt68HOFjij"
      },
      "source": [
        "## 3.2.3 word2vec의 가중치와 분산 표현"
      ]
    },
    {
      "cell_type": "markdown",
      "metadata": {
        "id": "b0W0O7HFD8Pr"
      },
      "source": [
        "--------------"
      ]
    },
    {
      "cell_type": "markdown",
      "metadata": {
        "id": "KBbdd1XxD9Ko"
      },
      "source": [
        "# 3.3 학습 데이터 준비\n",
        "* 3.3.1 맥락과 타깃\n",
        "* 3.3.2 원핫 표현으로 변환\n"
      ]
    },
    {
      "cell_type": "markdown",
      "metadata": {
        "id": "pwcOlSSdFmcY"
      },
      "source": [
        "## 3.3.1 맥락과 타깃\n"
      ]
    },
    {
      "cell_type": "code",
      "metadata": {
        "id": "Ch8ioDtIJmac"
      },
      "source": [
        "import sys\n",
        "sys.path.append('..')  # 부모 디렉터리의 파일을 가져올 수 있도록 설정"
      ],
      "execution_count": null,
      "outputs": []
    },
    {
      "cell_type": "code",
      "metadata": {
        "id": "zhgXQaL7Jzvu"
      },
      "source": [
        "from common.util import preprocess"
      ],
      "execution_count": null,
      "outputs": []
    },
    {
      "cell_type": "code",
      "metadata": {
        "id": "cV9dtLA_J6oA"
      },
      "source": [
        "text = 'You say goodbye and I say hello.'\n",
        "corpus, word_to_id, id_to_word = preprocess(text)"
      ],
      "execution_count": null,
      "outputs": []
    },
    {
      "cell_type": "code",
      "metadata": {
        "colab": {
          "base_uri": "https://localhost:8080/"
        },
        "id": "5bIwiql5J_Lt",
        "outputId": "5337bdce-3fdb-477f-c4a4-47d4e8d42196"
      },
      "source": [
        "corpus"
      ],
      "execution_count": null,
      "outputs": [
        {
          "output_type": "execute_result",
          "data": {
            "text/plain": [
              "array([0, 1, 2, 3, 4, 1, 5, 6])"
            ]
          },
          "metadata": {
            "tags": []
          },
          "execution_count": 25
        }
      ]
    },
    {
      "cell_type": "code",
      "metadata": {
        "colab": {
          "base_uri": "https://localhost:8080/"
        },
        "id": "baYtQjOiKAsz",
        "outputId": "b0785b04-a639-4d98-ffaa-92487edbd1df"
      },
      "source": [
        "word_to_id"
      ],
      "execution_count": null,
      "outputs": [
        {
          "output_type": "execute_result",
          "data": {
            "text/plain": [
              "{'.': 6, 'and': 3, 'goodbye': 2, 'hello': 5, 'i': 4, 'say': 1, 'you': 0}"
            ]
          },
          "metadata": {
            "tags": []
          },
          "execution_count": 26
        }
      ]
    },
    {
      "cell_type": "code",
      "metadata": {
        "colab": {
          "base_uri": "https://localhost:8080/"
        },
        "id": "4LC9dYtgKD1v",
        "outputId": "4eadb638-172a-4d4c-fc36-e85614622a04"
      },
      "source": [
        "id_to_word"
      ],
      "execution_count": null,
      "outputs": [
        {
          "output_type": "execute_result",
          "data": {
            "text/plain": [
              "{0: 'you', 1: 'say', 2: 'goodbye', 3: 'and', 4: 'i', 5: 'hello', 6: '.'}"
            ]
          },
          "metadata": {
            "tags": []
          },
          "execution_count": 27
        }
      ]
    },
    {
      "cell_type": "code",
      "metadata": {
        "id": "vQ6UJJ-HKW2I"
      },
      "source": [
        "def create_contexts_target(corpus, window_size=1):\n",
        "    '''맥락과 타깃 생성\n",
        "    :param corpus: 말뭉치(단어 ID 목록)\n",
        "    :param window_size: 윈도우 크기(윈도우 크기가 1이면 타깃 단어 좌우 한 단어씩이 맥락에 포함)\n",
        "    :return:\n",
        "    '''\n",
        "    target = corpus[window_size:-window_size]\n",
        "    contexts = []\n",
        "\n",
        "    for idx in range(window_size, len(corpus)-window_size):\n",
        "        cs = []\n",
        "        for t in range(-window_size, window_size + 1):\n",
        "            if t == 0:\n",
        "                continue\n",
        "            cs.append(corpus[idx + t])\n",
        "        contexts.append(cs)\n",
        "\n",
        "    return np.array(contexts), np.array(target)"
      ],
      "execution_count": null,
      "outputs": []
    },
    {
      "cell_type": "code",
      "metadata": {
        "id": "ej0XFsBxKhlQ"
      },
      "source": [
        "context, target = create_contexts_target(corpus, window_size=1)"
      ],
      "execution_count": null,
      "outputs": []
    },
    {
      "cell_type": "code",
      "metadata": {
        "colab": {
          "base_uri": "https://localhost:8080/"
        },
        "id": "SR6QfihBKsDF",
        "outputId": "8eef0030-e5ac-4d6f-ba34-abdbef1070ce"
      },
      "source": [
        "context"
      ],
      "execution_count": null,
      "outputs": [
        {
          "output_type": "execute_result",
          "data": {
            "text/plain": [
              "array([[0, 2],\n",
              "       [1, 3],\n",
              "       [2, 4],\n",
              "       [3, 1],\n",
              "       [4, 5],\n",
              "       [1, 6]])"
            ]
          },
          "metadata": {
            "tags": []
          },
          "execution_count": 31
        }
      ]
    },
    {
      "cell_type": "code",
      "metadata": {
        "colab": {
          "base_uri": "https://localhost:8080/"
        },
        "id": "apiGoFAYKtIt",
        "outputId": "54ed2047-d05b-4208-ef21-3be7a1e6a297"
      },
      "source": [
        "target"
      ],
      "execution_count": null,
      "outputs": [
        {
          "output_type": "execute_result",
          "data": {
            "text/plain": [
              "array([1, 2, 3, 4, 1, 5])"
            ]
          },
          "metadata": {
            "tags": []
          },
          "execution_count": 32
        }
      ]
    },
    {
      "cell_type": "markdown",
      "metadata": {
        "id": "oK7y-Ou4Fo8A"
      },
      "source": [
        "## 3.3.2 원핫 표현으로 변환"
      ]
    },
    {
      "cell_type": "code",
      "metadata": {
        "id": "FKMuktGhKxOP"
      },
      "source": [
        "def convert_one_hot(corpus, vocab_size):\n",
        "    '''원핫 표현으로 변환\n",
        "    :param corpus: 단어 ID 목록(1차원 또는 2차원 넘파이 배열)\n",
        "    :param vocab_size: 어휘 수\n",
        "    :return: 원핫 표현(2차원 또는 3차원 넘파이 배열)\n",
        "    '''\n",
        "    N = corpus.shape[0]\n",
        "\n",
        "    if corpus.ndim == 1:\n",
        "        one_hot = np.zeros((N, vocab_size), dtype=np.int32)\n",
        "        for idx, word_id in enumerate(corpus):\n",
        "            one_hot[idx, word_id] = 1\n",
        "\n",
        "    elif corpus.ndim == 2:\n",
        "        C = corpus.shape[1]\n",
        "        one_hot = np.zeros((N, C, vocab_size), dtype=np.int32)\n",
        "        for idx_0, word_ids in enumerate(corpus):\n",
        "            for idx_1, word_id in enumerate(word_ids):\n",
        "                one_hot[idx_0, idx_1, word_id] = 1\n",
        "\n",
        "    return one_hot"
      ],
      "execution_count": null,
      "outputs": []
    },
    {
      "cell_type": "code",
      "metadata": {
        "colab": {
          "base_uri": "https://localhost:8080/"
        },
        "id": "Q50oLYvqK6i4",
        "outputId": "76b29bb4-f953-452e-bb61-45c2c29bdd8f"
      },
      "source": [
        "vocab_size = len(word_to_id)\n",
        "vocab_size"
      ],
      "execution_count": null,
      "outputs": [
        {
          "output_type": "execute_result",
          "data": {
            "text/plain": [
              "7"
            ]
          },
          "metadata": {
            "tags": []
          },
          "execution_count": 34
        }
      ]
    },
    {
      "cell_type": "code",
      "metadata": {
        "colab": {
          "base_uri": "https://localhost:8080/"
        },
        "id": "m9Vzm114LBkm",
        "outputId": "4401ebaf-e450-4e0a-8a99-87841dade5f8"
      },
      "source": [
        "target = convert_one_hot(target, vocab_size)\n",
        "target"
      ],
      "execution_count": null,
      "outputs": [
        {
          "output_type": "execute_result",
          "data": {
            "text/plain": [
              "array([[[0, 1, 0, 0, 0, 0, 0],\n",
              "        [1, 0, 0, 0, 0, 0, 0],\n",
              "        [1, 0, 0, 0, 0, 0, 0],\n",
              "        [1, 0, 0, 0, 0, 0, 0],\n",
              "        [1, 0, 0, 0, 0, 0, 0],\n",
              "        [1, 0, 0, 0, 0, 0, 0],\n",
              "        [1, 0, 0, 0, 0, 0, 0]],\n",
              "\n",
              "       [[1, 0, 0, 0, 0, 0, 0],\n",
              "        [0, 1, 0, 0, 0, 0, 0],\n",
              "        [1, 0, 0, 0, 0, 0, 0],\n",
              "        [1, 0, 0, 0, 0, 0, 0],\n",
              "        [1, 0, 0, 0, 0, 0, 0],\n",
              "        [1, 0, 0, 0, 0, 0, 0],\n",
              "        [1, 0, 0, 0, 0, 0, 0]],\n",
              "\n",
              "       [[1, 0, 0, 0, 0, 0, 0],\n",
              "        [1, 0, 0, 0, 0, 0, 0],\n",
              "        [0, 1, 0, 0, 0, 0, 0],\n",
              "        [1, 0, 0, 0, 0, 0, 0],\n",
              "        [1, 0, 0, 0, 0, 0, 0],\n",
              "        [1, 0, 0, 0, 0, 0, 0],\n",
              "        [1, 0, 0, 0, 0, 0, 0]],\n",
              "\n",
              "       [[1, 0, 0, 0, 0, 0, 0],\n",
              "        [1, 0, 0, 0, 0, 0, 0],\n",
              "        [1, 0, 0, 0, 0, 0, 0],\n",
              "        [0, 1, 0, 0, 0, 0, 0],\n",
              "        [1, 0, 0, 0, 0, 0, 0],\n",
              "        [1, 0, 0, 0, 0, 0, 0],\n",
              "        [1, 0, 0, 0, 0, 0, 0]],\n",
              "\n",
              "       [[1, 0, 0, 0, 0, 0, 0],\n",
              "        [1, 0, 0, 0, 0, 0, 0],\n",
              "        [1, 0, 0, 0, 0, 0, 0],\n",
              "        [1, 0, 0, 0, 0, 0, 0],\n",
              "        [0, 1, 0, 0, 0, 0, 0],\n",
              "        [1, 0, 0, 0, 0, 0, 0],\n",
              "        [1, 0, 0, 0, 0, 0, 0]],\n",
              "\n",
              "       [[1, 0, 0, 0, 0, 0, 0],\n",
              "        [0, 1, 0, 0, 0, 0, 0],\n",
              "        [1, 0, 0, 0, 0, 0, 0],\n",
              "        [1, 0, 0, 0, 0, 0, 0],\n",
              "        [1, 0, 0, 0, 0, 0, 0],\n",
              "        [1, 0, 0, 0, 0, 0, 0],\n",
              "        [1, 0, 0, 0, 0, 0, 0]],\n",
              "\n",
              "       [[1, 0, 0, 0, 0, 0, 0],\n",
              "        [1, 0, 0, 0, 0, 0, 0],\n",
              "        [1, 0, 0, 0, 0, 0, 0],\n",
              "        [1, 0, 0, 0, 0, 0, 0],\n",
              "        [1, 0, 0, 0, 0, 0, 0],\n",
              "        [0, 1, 0, 0, 0, 0, 0],\n",
              "        [1, 0, 0, 0, 0, 0, 0]],\n",
              "\n",
              "       [[1, 0, 0, 0, 0, 0, 0],\n",
              "        [1, 0, 0, 0, 0, 0, 0],\n",
              "        [1, 0, 0, 0, 0, 0, 0],\n",
              "        [1, 0, 0, 0, 0, 0, 0],\n",
              "        [1, 0, 0, 0, 0, 0, 0],\n",
              "        [1, 0, 0, 0, 0, 0, 0],\n",
              "        [0, 1, 0, 0, 0, 0, 0]]], dtype=int32)"
            ]
          },
          "metadata": {
            "tags": []
          },
          "execution_count": 36
        }
      ]
    },
    {
      "cell_type": "code",
      "metadata": {
        "colab": {
          "base_uri": "https://localhost:8080/"
        },
        "id": "t1agKqf4LH_m",
        "outputId": "f9dd2fbf-d29a-4bee-b8f6-c48ad979f63b"
      },
      "source": [
        "context = convert_one_hot(context, vocab_size)\n",
        "context"
      ],
      "execution_count": null,
      "outputs": [
        {
          "output_type": "execute_result",
          "data": {
            "text/plain": [
              "array([[[1, 0, 0, 0, 0, 0, 0],\n",
              "        [0, 0, 1, 0, 0, 0, 0]],\n",
              "\n",
              "       [[0, 1, 0, 0, 0, 0, 0],\n",
              "        [0, 0, 0, 1, 0, 0, 0]],\n",
              "\n",
              "       [[0, 0, 1, 0, 0, 0, 0],\n",
              "        [0, 0, 0, 0, 1, 0, 0]],\n",
              "\n",
              "       [[0, 0, 0, 1, 0, 0, 0],\n",
              "        [0, 1, 0, 0, 0, 0, 0]],\n",
              "\n",
              "       [[0, 0, 0, 0, 1, 0, 0],\n",
              "        [0, 0, 0, 0, 0, 1, 0]],\n",
              "\n",
              "       [[0, 1, 0, 0, 0, 0, 0],\n",
              "        [0, 0, 0, 0, 0, 0, 1]]], dtype=int32)"
            ]
          },
          "metadata": {
            "tags": []
          },
          "execution_count": 37
        }
      ]
    },
    {
      "cell_type": "markdown",
      "metadata": {
        "id": "9JhS4qOnD_jt"
      },
      "source": [
        "--------------"
      ]
    },
    {
      "cell_type": "markdown",
      "metadata": {
        "id": "PPbm3GviEAgL"
      },
      "source": [
        "# 3.4 CBOW 모델 구현\n",
        "* 3.4.1 학습 코드 구현\n"
      ]
    },
    {
      "cell_type": "markdown",
      "metadata": {
        "id": "M7Gje98MFqWB"
      },
      "source": [
        "## 3.4.1 학습 코드 구현"
      ]
    },
    {
      "cell_type": "markdown",
      "metadata": {
        "id": "R_X6tyZ4EFEe"
      },
      "source": [
        "-----------------"
      ]
    },
    {
      "cell_type": "markdown",
      "metadata": {
        "id": "_O0jtCe2EF-t"
      },
      "source": [
        "# 3.5 word2vec 보충\n",
        "* 3.5.1 CBOW 모델과 확률\n",
        "* 3.5.2 skip-gram 모델\n",
        "* 3.5.3 통계 기반 vs. 추론 기반\n"
      ]
    },
    {
      "cell_type": "markdown",
      "metadata": {
        "id": "0FxL-P8OFsnL"
      },
      "source": [
        "## 3.5.1 CBOW 모델과 확률\n"
      ]
    },
    {
      "cell_type": "markdown",
      "metadata": {
        "id": "ncIXtQLYFvyC"
      },
      "source": [
        "## 3.5.2 skip-gram 모델\n"
      ]
    },
    {
      "cell_type": "markdown",
      "metadata": {
        "id": "zsNicgbVFw9c"
      },
      "source": [
        "## 3.5.3 통계 기반 vs. 추론 기반"
      ]
    },
    {
      "cell_type": "markdown",
      "metadata": {
        "id": "T2bcAbfhEHay"
      },
      "source": [
        "-----------------"
      ]
    },
    {
      "cell_type": "markdown",
      "metadata": {
        "id": "CGXKXCTOEIu_"
      },
      "source": [
        "# 3.6 정리"
      ]
    },
    {
      "cell_type": "markdown",
      "metadata": {
        "id": "BwPFGbJZAkwj"
      },
      "source": [
        "------------------\n",
        "# 참고문헌\n",
        "* [1] 밑바닥부터 시작하는 딥러닝 2\n",
        "  - https://www.hanbit.co.kr/store/books/look.php?p_code=B8950212853\n",
        "  - github - https://github.com/WegraLee/deep-learning-from-scratch-2"
      ]
    }
  ]
}