{
  "nbformat": 4,
  "nbformat_minor": 0,
  "metadata": {
    "colab": {
      "name": "ch04_word2vec_more.ipynb",
      "provenance": [],
      "authorship_tag": "ABX9TyOiirQfTxT3dF+oo1Mwcx1E",
      "include_colab_link": true
    },
    "kernelspec": {
      "name": "python3",
      "display_name": "Python 3"
    },
    "language_info": {
      "name": "python"
    }
  },
  "cells": [
    {
      "cell_type": "markdown",
      "metadata": {
        "id": "view-in-github",
        "colab_type": "text"
      },
      "source": [
        "<a href=\"https://colab.research.google.com/github/psygrammer/about_python_dl_from_scrach_2/blob/main/notebooks/ch04/ch04_word2vec_more.ipynb\" target=\"_parent\"><img src=\"https://colab.research.google.com/assets/colab-badge.svg\" alt=\"Open In Colab\"/></a>"
      ]
    },
    {
      "cell_type": "markdown",
      "metadata": {
        "id": "yO9NByuFPDZt"
      },
      "source": [
        "# 4 word2vec 속도 개선 "
      ]
    },
    {
      "cell_type": "markdown",
      "metadata": {
        "id": "54bPMaxIPgCV"
      },
      "source": [
        "* 싸이그래머 / 어바웃파이썬 : 딥러닝 NLP [1]\n",
        "* 김무성"
      ]
    },
    {
      "cell_type": "markdown",
      "metadata": {
        "id": "nT7DtE_8Poxy"
      },
      "source": [
        "----------------"
      ]
    },
    {
      "cell_type": "markdown",
      "metadata": {
        "id": "B8n5liHTPuJa"
      },
      "source": [
        "# 차례 \n",
        "* 4.1 word2vec 개선 ①\n",
        "  - 4.1.1 Embedding 계층\n",
        "  - 4.1.2 Embedding 계층 구현\n",
        "* 4.2 word2vec 개선 ②\n",
        "  - 4.2.1 은닉층 이후 계산의 문제점\n",
        "  - 4.2.2 다중 분류에서 이진 분류로\n",
        "  - 4.2.3 시그모이드 함수와 교차 엔트로피 오차\n",
        "  - 4.2.4 다중 분류에서 이진 분류로(구현)\n",
        "  - 4.2.5 네거티브 샘플링\n",
        "  - 4.2.6 네거티브 샘플링의 샘플링 기법\n",
        "  - 4.2.7 네거티브 샘플링 구현\n",
        "* 4.3 개선판 word2vec 학습\n",
        "  - 4.3.1 CBOW 모델 구현\n",
        "  - 4.3.2 CBOW 모델 학습 코드\n",
        "  - 4.3.3 CBOW 모델 평가 \n",
        "* 4.4 word2vec 남은 주제\n",
        "  - 4.4.1 word2vec을 사용한 애플리케이션의 예\n",
        "  - 4.4.2 단어 벡터 평가 방법\n",
        "* 4.5 정리"
      ]
    },
    {
      "cell_type": "markdown",
      "metadata": {
        "id": "1QVaO3mLREkr"
      },
      "source": [
        "-------------------"
      ]
    },
    {
      "cell_type": "code",
      "metadata": {
        "colab": {
          "base_uri": "https://localhost:8080/"
        },
        "id": "uCPg4kyxVsaT",
        "outputId": "af1ef119-dc0c-4023-9b41-f3515571997a"
      },
      "source": [
        "!git clone https://github.com/psygrammer/about_python_dl_from_scrach_2.git"
      ],
      "execution_count": 1,
      "outputs": [
        {
          "output_type": "stream",
          "text": [
            "Cloning into 'about_python_dl_from_scrach_2'...\n",
            "remote: Enumerating objects: 149, done.\u001b[K\n",
            "remote: Counting objects: 100% (149/149), done.\u001b[K\n",
            "remote: Compressing objects: 100% (133/133), done.\u001b[K\n",
            "remote: Total 149 (delta 64), reused 33 (delta 5), pack-reused 0\u001b[K\n",
            "Receiving objects: 100% (149/149), 786.83 KiB | 2.95 MiB/s, done.\n",
            "Resolving deltas: 100% (64/64), done.\n"
          ],
          "name": "stdout"
        }
      ]
    },
    {
      "cell_type": "code",
      "metadata": {
        "colab": {
          "base_uri": "https://localhost:8080/"
        },
        "id": "IBywMMvfVxQT",
        "outputId": "d6c01eac-3c1e-4218-828a-41c3af19957b"
      },
      "source": [
        "ls"
      ],
      "execution_count": 2,
      "outputs": [
        {
          "output_type": "stream",
          "text": [
            "\u001b[0m\u001b[01;34mabout_python_dl_from_scrach_2\u001b[0m/  \u001b[01;34msample_data\u001b[0m/\n"
          ],
          "name": "stdout"
        }
      ]
    },
    {
      "cell_type": "code",
      "metadata": {
        "colab": {
          "base_uri": "https://localhost:8080/"
        },
        "id": "TxBeS7rBV0WF",
        "outputId": "80d159c2-b269-4763-d71c-a0c642481f06"
      },
      "source": [
        "cd /content/about_python_dl_from_scrach_2/notebooks/ch04"
      ],
      "execution_count": 4,
      "outputs": [
        {
          "output_type": "stream",
          "text": [
            "/content/about_python_dl_from_scrach_2/notebooks/ch04\n"
          ],
          "name": "stdout"
        }
      ]
    },
    {
      "cell_type": "code",
      "metadata": {
        "colab": {
          "base_uri": "https://localhost:8080/"
        },
        "id": "D4zto0arV3t_",
        "outputId": "a1d391d3-bb10-4931-da46-afc5d96cd95f"
      },
      "source": [
        "ls"
      ],
      "execution_count": 5,
      "outputs": [
        {
          "output_type": "stream",
          "text": [
            "ch04_word2vec_more_sol.ipynb\n"
          ],
          "name": "stdout"
        }
      ]
    },
    {
      "cell_type": "markdown",
      "metadata": {
        "id": "oulJYqV6RFo5"
      },
      "source": [
        "# 4.1 word2vec 개선 ①\n",
        "  - 4.1.1 Embedding 계층\n",
        "  - 4.1.2 Embedding 계층 구현"
      ]
    },
    {
      "cell_type": "markdown",
      "metadata": {
        "id": "sdgVlnevRrM3"
      },
      "source": [
        "## 4.1.1 Embedding 계층\n"
      ]
    },
    {
      "cell_type": "markdown",
      "metadata": {
        "id": "-cMchEPRRtTC"
      },
      "source": [
        "## 4.1.2 Embedding 계층 구현"
      ]
    },
    {
      "cell_type": "code",
      "metadata": {
        "id": "8nHyuOXsWVuj"
      },
      "source": [
        "import numpy as np"
      ],
      "execution_count": 6,
      "outputs": []
    },
    {
      "cell_type": "code",
      "metadata": {
        "id": "WSnkrCdGWY2b"
      },
      "source": [
        "W = np.arange(21).reshape(7,3)"
      ],
      "execution_count": 7,
      "outputs": []
    },
    {
      "cell_type": "code",
      "metadata": {
        "colab": {
          "base_uri": "https://localhost:8080/"
        },
        "id": "XfrWRkszWdRr",
        "outputId": "13bf510d-9609-47be-ec35-0dc7ed386279"
      },
      "source": [
        "W"
      ],
      "execution_count": 8,
      "outputs": [
        {
          "output_type": "execute_result",
          "data": {
            "text/plain": [
              "array([[ 0,  1,  2],\n",
              "       [ 3,  4,  5],\n",
              "       [ 6,  7,  8],\n",
              "       [ 9, 10, 11],\n",
              "       [12, 13, 14],\n",
              "       [15, 16, 17],\n",
              "       [18, 19, 20]])"
            ]
          },
          "metadata": {
            "tags": []
          },
          "execution_count": 8
        }
      ]
    },
    {
      "cell_type": "code",
      "metadata": {
        "colab": {
          "base_uri": "https://localhost:8080/"
        },
        "id": "Mhlwus-RWeTv",
        "outputId": "7906b819-3e99-4d1b-c5f6-c7b2159036fc"
      },
      "source": [
        "# 실습 !!"
      ],
      "execution_count": 9,
      "outputs": [
        {
          "output_type": "execute_result",
          "data": {
            "text/plain": [
              "array([6, 7, 8])"
            ]
          },
          "metadata": {
            "tags": []
          },
          "execution_count": 9
        }
      ]
    },
    {
      "cell_type": "code",
      "metadata": {
        "colab": {
          "base_uri": "https://localhost:8080/"
        },
        "id": "TqBqML7sWgEC",
        "outputId": "0a93a10d-fa8e-4ef3-de47-81bb5b9320f5"
      },
      "source": [
        "# 실습 !!"
      ],
      "execution_count": 10,
      "outputs": [
        {
          "output_type": "execute_result",
          "data": {
            "text/plain": [
              "array([15, 16, 17])"
            ]
          },
          "metadata": {
            "tags": []
          },
          "execution_count": 10
        }
      ]
    },
    {
      "cell_type": "code",
      "metadata": {
        "colab": {
          "base_uri": "https://localhost:8080/"
        },
        "id": "RW6QFRkkWiV9",
        "outputId": "92c22284-2540-4a4e-df2d-7f279517b759"
      },
      "source": [
        "idx = # 실습 !!\n",
        "W[idx]"
      ],
      "execution_count": 11,
      "outputs": [
        {
          "output_type": "execute_result",
          "data": {
            "text/plain": [
              "array([[ 3,  4,  5],\n",
              "       [ 0,  1,  2],\n",
              "       [ 9, 10, 11],\n",
              "       [ 0,  1,  2]])"
            ]
          },
          "metadata": {
            "tags": []
          },
          "execution_count": 11
        }
      ]
    },
    {
      "cell_type": "code",
      "metadata": {
        "id": "s7AR9PjwWqhG"
      },
      "source": [
        "class Embedding:\n",
        "  def __init__(self, W):\n",
        "    # 실습 !!\n",
        "  \n",
        "  def forward(self, idx):\n",
        "    # 실습 !!"
      ],
      "execution_count": 15,
      "outputs": []
    },
    {
      "cell_type": "code",
      "metadata": {
        "id": "gNpLd_xQW7Lg"
      },
      "source": [
        "emb = Embedding(W)"
      ],
      "execution_count": 16,
      "outputs": []
    },
    {
      "cell_type": "code",
      "metadata": {
        "colab": {
          "base_uri": "https://localhost:8080/"
        },
        "id": "boLkkYFbW_tB",
        "outputId": "7c604cee-f37b-49fd-d139-603a221afdd0"
      },
      "source": [
        "out = emb.forward(idx)\n",
        "out"
      ],
      "execution_count": 17,
      "outputs": [
        {
          "output_type": "execute_result",
          "data": {
            "text/plain": [
              "array([[ 3,  4,  5],\n",
              "       [ 0,  1,  2],\n",
              "       [ 9, 10, 11],\n",
              "       [ 0,  1,  2]])"
            ]
          },
          "metadata": {
            "tags": []
          },
          "execution_count": 17
        }
      ]
    },
    {
      "cell_type": "markdown",
      "metadata": {
        "id": "n0J7e-iHRIdg"
      },
      "source": [
        "------------------"
      ]
    },
    {
      "cell_type": "markdown",
      "metadata": {
        "id": "Jd9eGqTSRJsy"
      },
      "source": [
        "# 4.2 word2vec 개선 ②\n",
        "  - 4.2.1 은닉층 이후 계산의 문제점\n",
        "  - 4.2.2 다중 분류에서 이진 분류로\n",
        "  - 4.2.3 시그모이드 함수와 교차 엔트로피 오차\n",
        "  - 4.2.4 다중 분류에서 이진 분류로(구현)\n",
        "  - 4.2.5 네거티브 샘플링\n",
        "  - 4.2.6 네거티브 샘플링의 샘플링 기법\n",
        "  - 4.2.7 네거티브 샘플링 구현"
      ]
    },
    {
      "cell_type": "markdown",
      "metadata": {
        "id": "5RNp1C1yRvcg"
      },
      "source": [
        "## 4.2.1 은닉층 이후 계산의 문제점\n"
      ]
    },
    {
      "cell_type": "markdown",
      "metadata": {
        "id": "dOB8GbfoR1mg"
      },
      "source": [
        "## 4.2.2 다중 분류에서 이진 분류로\n"
      ]
    },
    {
      "cell_type": "markdown",
      "metadata": {
        "id": "Phrqm0ApR28r"
      },
      "source": [
        "## 4.2.3 시그모이드 함수와 교차 엔트로피 오차\n"
      ]
    },
    {
      "cell_type": "markdown",
      "metadata": {
        "id": "3kotX10oR4Sp"
      },
      "source": [
        "## 4.2.4 다중 분류에서 이진 분류로(구현)\n"
      ]
    },
    {
      "cell_type": "markdown",
      "metadata": {
        "id": "Rcpm8RbcR5gz"
      },
      "source": [
        "## 4.2.5 네거티브 샘플링\n"
      ]
    },
    {
      "cell_type": "markdown",
      "metadata": {
        "id": "x_06rmRZR60Y"
      },
      "source": [
        "## 4.2.6 네거티브 샘플링의 샘플링 기법\n"
      ]
    },
    {
      "cell_type": "markdown",
      "metadata": {
        "id": "KOinCC0OR8Vt"
      },
      "source": [
        "## 4.2.7 네거티브 샘플링 구현"
      ]
    },
    {
      "cell_type": "markdown",
      "metadata": {
        "id": "s5q1r9j9RLlN"
      },
      "source": [
        "-----------------"
      ]
    },
    {
      "cell_type": "markdown",
      "metadata": {
        "id": "q3ekRi-kRMpd"
      },
      "source": [
        "# 4.3 개선판 word2vec 학습\n",
        "  - 4.3.1 CBOW 모델 구현\n",
        "  - 4.3.2 CBOW 모델 학습 코드\n",
        "  - 4.3.3 CBOW 모델 평가 \n"
      ]
    },
    {
      "cell_type": "markdown",
      "metadata": {
        "id": "a6aQKRD9R-c0"
      },
      "source": [
        "## 4.3.1 CBOW 모델 구현\n"
      ]
    },
    {
      "cell_type": "markdown",
      "metadata": {
        "id": "I2OPFERrSBiv"
      },
      "source": [
        "## 4.3.2 CBOW 모델 학습 코드\n"
      ]
    },
    {
      "cell_type": "markdown",
      "metadata": {
        "id": "-lMvIlifSCuq"
      },
      "source": [
        "## 4.3.3 CBOW 모델 평가"
      ]
    },
    {
      "cell_type": "markdown",
      "metadata": {
        "id": "mFZgbv-wRRSo"
      },
      "source": [
        "-----------------"
      ]
    },
    {
      "cell_type": "markdown",
      "metadata": {
        "id": "4VlsEv2WRO7k"
      },
      "source": [
        "# 4.4 word2vec 남은 주제\n",
        "  - 4.4.1 word2vec을 사용한 애플리케이션의 예\n",
        "  - 4.4.2 단어 벡터 평가 방법\n"
      ]
    },
    {
      "cell_type": "markdown",
      "metadata": {
        "id": "xHXFPOhUSE7i"
      },
      "source": [
        "## 4.4.1 word2vec을 사용한 애플리케이션의 예\n"
      ]
    },
    {
      "cell_type": "markdown",
      "metadata": {
        "id": "DAfPG6OwSHS-"
      },
      "source": [
        "## 4.4.2 단어 벡터 평가 방법"
      ]
    },
    {
      "cell_type": "markdown",
      "metadata": {
        "id": "Rv1QXqQ2RSe_"
      },
      "source": [
        "----------------"
      ]
    },
    {
      "cell_type": "markdown",
      "metadata": {
        "id": "oeU312leRQZb"
      },
      "source": [
        "# 4.5 정리"
      ]
    },
    {
      "cell_type": "code",
      "metadata": {
        "id": "BJfOtB-lOhAl"
      },
      "source": [
        ""
      ],
      "execution_count": null,
      "outputs": []
    },
    {
      "cell_type": "markdown",
      "metadata": {
        "id": "qpdIsVomPhjj"
      },
      "source": [
        "------------------\n",
        "# 참고문헌\n",
        "* [1] 밑바닥부터 시작하는 딥러닝 2\n",
        "  - https://www.hanbit.co.kr/store/books/look.php?p_code=B8950212853\n",
        "  - github - https://github.com/WegraLee/deep-learning-from-scratch-2"
      ]
    }
  ]
}