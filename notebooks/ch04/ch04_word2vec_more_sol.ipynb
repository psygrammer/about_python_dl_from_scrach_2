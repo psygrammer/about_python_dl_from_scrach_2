{
  "nbformat": 4,
  "nbformat_minor": 0,
  "metadata": {
    "colab": {
      "name": "ch04_word2vec_more.ipynb",
      "provenance": [],
      "authorship_tag": "ABX9TyMHqj4DW//d5sc2azqKSuHV",
      "include_colab_link": true
    },
    "kernelspec": {
      "name": "python3",
      "display_name": "Python 3"
    },
    "language_info": {
      "name": "python"
    }
  },
  "cells": [
    {
      "cell_type": "markdown",
      "metadata": {
        "id": "view-in-github",
        "colab_type": "text"
      },
      "source": [
        "<a href=\"https://colab.research.google.com/github/psygrammer/about_python_dl_from_scrach_2/blob/main/notebooks/ch04/ch04_word2vec_more_sol.ipynb\" target=\"_parent\"><img src=\"https://colab.research.google.com/assets/colab-badge.svg\" alt=\"Open In Colab\"/></a>"
      ]
    },
    {
      "cell_type": "markdown",
      "metadata": {
        "id": "yO9NByuFPDZt"
      },
      "source": [
        "# 4 word2vec 속도 개선 (Solution)"
      ]
    },
    {
      "cell_type": "markdown",
      "metadata": {
        "id": "54bPMaxIPgCV"
      },
      "source": [
        "* 싸이그래머 / 어바웃파이썬 : 딥러닝 NLP [1]\n",
        "* 김무성"
      ]
    },
    {
      "cell_type": "markdown",
      "metadata": {
        "id": "nT7DtE_8Poxy"
      },
      "source": [
        "----------------"
      ]
    },
    {
      "cell_type": "markdown",
      "metadata": {
        "id": "B8n5liHTPuJa"
      },
      "source": [
        "# 차례 \n",
        "* 4.1 word2vec 개선 ①\n",
        "  - 4.1.1 Embedding 계층\n",
        "  - 4.1.2 Embedding 계층 구현\n",
        "* 4.2 word2vec 개선 ②\n",
        "  - 4.2.1 은닉층 이후 계산의 문제점\n",
        "  - 4.2.2 다중 분류에서 이진 분류로\n",
        "  - 4.2.3 시그모이드 함수와 교차 엔트로피 오차\n",
        "  - 4.2.4 다중 분류에서 이진 분류로(구현)\n",
        "  - 4.2.5 네거티브 샘플링\n",
        "  - 4.2.6 네거티브 샘플링의 샘플링 기법\n",
        "  - 4.2.7 네거티브 샘플링 구현\n",
        "* 4.3 개선판 word2vec 학습\n",
        "  - 4.3.1 CBOW 모델 구현\n",
        "  - 4.3.2 CBOW 모델 학습 코드\n",
        "  - 4.3.3 CBOW 모델 평가 \n",
        "* 4.4 word2vec 남은 주제\n",
        "  - 4.4.1 word2vec을 사용한 애플리케이션의 예\n",
        "  - 4.4.2 단어 벡터 평가 방법\n",
        "* 4.5 정리"
      ]
    },
    {
      "cell_type": "markdown",
      "metadata": {
        "id": "1QVaO3mLREkr"
      },
      "source": [
        "-------------------"
      ]
    },
    {
      "cell_type": "markdown",
      "metadata": {
        "id": "oulJYqV6RFo5"
      },
      "source": [
        "# 4.1 word2vec 개선 ①\n",
        "  - 4.1.1 Embedding 계층\n",
        "  - 4.1.2 Embedding 계층 구현"
      ]
    },
    {
      "cell_type": "markdown",
      "metadata": {
        "id": "sdgVlnevRrM3"
      },
      "source": [
        "## 4.1.1 Embedding 계층\n"
      ]
    },
    {
      "cell_type": "markdown",
      "metadata": {
        "id": "-cMchEPRRtTC"
      },
      "source": [
        "## 4.1.2 Embedding 계층 구현"
      ]
    },
    {
      "cell_type": "markdown",
      "metadata": {
        "id": "n0J7e-iHRIdg"
      },
      "source": [
        "------------------"
      ]
    },
    {
      "cell_type": "markdown",
      "metadata": {
        "id": "Jd9eGqTSRJsy"
      },
      "source": [
        "# 4.2 word2vec 개선 ②\n",
        "  - 4.2.1 은닉층 이후 계산의 문제점\n",
        "  - 4.2.2 다중 분류에서 이진 분류로\n",
        "  - 4.2.3 시그모이드 함수와 교차 엔트로피 오차\n",
        "  - 4.2.4 다중 분류에서 이진 분류로(구현)\n",
        "  - 4.2.5 네거티브 샘플링\n",
        "  - 4.2.6 네거티브 샘플링의 샘플링 기법\n",
        "  - 4.2.7 네거티브 샘플링 구현"
      ]
    },
    {
      "cell_type": "markdown",
      "metadata": {
        "id": "5RNp1C1yRvcg"
      },
      "source": [
        "## 4.2.1 은닉층 이후 계산의 문제점\n"
      ]
    },
    {
      "cell_type": "markdown",
      "metadata": {
        "id": "dOB8GbfoR1mg"
      },
      "source": [
        "## 4.2.2 다중 분류에서 이진 분류로\n"
      ]
    },
    {
      "cell_type": "markdown",
      "metadata": {
        "id": "Phrqm0ApR28r"
      },
      "source": [
        "## 4.2.3 시그모이드 함수와 교차 엔트로피 오차\n"
      ]
    },
    {
      "cell_type": "markdown",
      "metadata": {
        "id": "3kotX10oR4Sp"
      },
      "source": [
        "## 4.2.4 다중 분류에서 이진 분류로(구현)\n"
      ]
    },
    {
      "cell_type": "markdown",
      "metadata": {
        "id": "Rcpm8RbcR5gz"
      },
      "source": [
        "## 4.2.5 네거티브 샘플링\n"
      ]
    },
    {
      "cell_type": "markdown",
      "metadata": {
        "id": "x_06rmRZR60Y"
      },
      "source": [
        "## 4.2.6 네거티브 샘플링의 샘플링 기법\n"
      ]
    },
    {
      "cell_type": "markdown",
      "metadata": {
        "id": "KOinCC0OR8Vt"
      },
      "source": [
        "## 4.2.7 네거티브 샘플링 구현"
      ]
    },
    {
      "cell_type": "markdown",
      "metadata": {
        "id": "s5q1r9j9RLlN"
      },
      "source": [
        "-----------------"
      ]
    },
    {
      "cell_type": "markdown",
      "metadata": {
        "id": "q3ekRi-kRMpd"
      },
      "source": [
        "# 4.3 개선판 word2vec 학습\n",
        "  - 4.3.1 CBOW 모델 구현\n",
        "  - 4.3.2 CBOW 모델 학습 코드\n",
        "  - 4.3.3 CBOW 모델 평가 \n"
      ]
    },
    {
      "cell_type": "markdown",
      "metadata": {
        "id": "a6aQKRD9R-c0"
      },
      "source": [
        "## 4.3.1 CBOW 모델 구현\n"
      ]
    },
    {
      "cell_type": "markdown",
      "metadata": {
        "id": "I2OPFERrSBiv"
      },
      "source": [
        "## 4.3.2 CBOW 모델 학습 코드\n"
      ]
    },
    {
      "cell_type": "markdown",
      "metadata": {
        "id": "-lMvIlifSCuq"
      },
      "source": [
        "## 4.3.3 CBOW 모델 평가"
      ]
    },
    {
      "cell_type": "markdown",
      "metadata": {
        "id": "mFZgbv-wRRSo"
      },
      "source": [
        "-----------------"
      ]
    },
    {
      "cell_type": "markdown",
      "metadata": {
        "id": "4VlsEv2WRO7k"
      },
      "source": [
        "# 4.4 word2vec 남은 주제\n",
        "  - 4.4.1 word2vec을 사용한 애플리케이션의 예\n",
        "  - 4.4.2 단어 벡터 평가 방법\n"
      ]
    },
    {
      "cell_type": "markdown",
      "metadata": {
        "id": "xHXFPOhUSE7i"
      },
      "source": [
        "## 4.4.1 word2vec을 사용한 애플리케이션의 예\n"
      ]
    },
    {
      "cell_type": "markdown",
      "metadata": {
        "id": "DAfPG6OwSHS-"
      },
      "source": [
        "## 4.4.2 단어 벡터 평가 방법"
      ]
    },
    {
      "cell_type": "markdown",
      "metadata": {
        "id": "Rv1QXqQ2RSe_"
      },
      "source": [
        "----------------"
      ]
    },
    {
      "cell_type": "markdown",
      "metadata": {
        "id": "oeU312leRQZb"
      },
      "source": [
        "# 4.5 정리"
      ]
    },
    {
      "cell_type": "code",
      "metadata": {
        "id": "BJfOtB-lOhAl"
      },
      "source": [
        ""
      ],
      "execution_count": null,
      "outputs": []
    },
    {
      "cell_type": "markdown",
      "metadata": {
        "id": "qpdIsVomPhjj"
      },
      "source": [
        "------------------\n",
        "# 참고문헌\n",
        "* [1] 밑바닥부터 시작하는 딥러닝 2\n",
        "  - https://www.hanbit.co.kr/store/books/look.php?p_code=B8950212853\n",
        "  - github - https://github.com/WegraLee/deep-learning-from-scratch-2"
      ]
    }
  ]
}