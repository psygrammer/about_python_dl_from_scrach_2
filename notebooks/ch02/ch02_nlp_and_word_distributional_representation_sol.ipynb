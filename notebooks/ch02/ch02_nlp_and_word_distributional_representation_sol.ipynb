{
  "nbformat": 4,
  "nbformat_minor": 0,
  "metadata": {
    "colab": {
      "name": "ch02_nlp_and_word_distributional_representation.ipynb",
      "provenance": [],
      "authorship_tag": "ABX9TyNGE5SOiu/QZ6snkHux0UQO",
      "include_colab_link": true
    },
    "kernelspec": {
      "name": "python3",
      "display_name": "Python 3"
    }
  },
  "cells": [
    {
      "cell_type": "markdown",
      "metadata": {
        "id": "view-in-github",
        "colab_type": "text"
      },
      "source": [
        "<a href=\"https://colab.research.google.com/github/psygrammer/about_python_dl_from_scrach_2/blob/main/notebooks/ch02/ch02_nlp_and_word_distributional_representation_sol.ipynb\" target=\"_parent\"><img src=\"https://colab.research.google.com/assets/colab-badge.svg\" alt=\"Open In Colab\"/></a>"
      ]
    },
    {
      "cell_type": "markdown",
      "metadata": {
        "id": "hWBsw8I8ekpu"
      },
      "source": [
        "# 2. 자연어와 단어의 분산 표현 (solution)"
      ]
    },
    {
      "cell_type": "markdown",
      "metadata": {
        "id": "mhqp1CB_fIzv"
      },
      "source": [
        "* 싸이그래머 / 어바웃파이썬 : 딥러닝 NLP [1]\n",
        "* 김무성"
      ]
    },
    {
      "cell_type": "markdown",
      "metadata": {
        "id": "SGBs4GwYfPBo"
      },
      "source": [
        "--------------"
      ]
    },
    {
      "cell_type": "markdown",
      "metadata": {
        "id": "22fMX_WzfRM_"
      },
      "source": [
        "# 차례 \n",
        "* 2.1 자연어처리란\n",
        "  - 2.1.1 단어의 의미\n",
        "* 2.2 시소러스\n",
        "  - 2.2.1 WordNet\n",
        "  - 2.2.2 시소러스의 문제점\n",
        "* 2.3 통계 기반 기법\n",
        "  - 2.3.1 파이썬으로 말뭉치 전처리하기\n",
        "  - 2.3.2 단어의 분산 표현\n",
        "  - 2.3.3 분포 가설\n",
        "  - 2.3.4 동시발생 행렬\n",
        "  - 2.3.5 벡터 간 유사도\n",
        "  - 2.3.6 유사 단어의 랭킹 표시\n",
        "* 2.4 통계 기반 기법 개선하기\n",
        "  - 2.4.1 상호정보량\n",
        "  - 2.4.2 차원 감소\n",
        "  - 2.4.3 SVD에 의한 차원 감소\n",
        "  - 2.4.4 PTB 데이터셋\n",
        "  - 2.4.5 PTB 데이터셋 평가\n",
        "* 정리"
      ]
    },
    {
      "cell_type": "markdown",
      "metadata": {
        "id": "HfqtRjy5fP6m"
      },
      "source": [
        "------------"
      ]
    },
    {
      "cell_type": "code",
      "metadata": {
        "id": "jbU2b7aui5lL",
        "colab": {
          "base_uri": "https://localhost:8080/"
        },
        "outputId": "42ab704b-6493-40c8-830a-f67dd024ce7c"
      },
      "source": [
        "!git clone https://github.com/psygrammer/about_python_dl_from_scrach_2.git"
      ],
      "execution_count": 20,
      "outputs": [
        {
          "output_type": "stream",
          "text": [
            "Cloning into 'about_python_dl_from_scrach_2'...\n",
            "remote: Enumerating objects: 70, done.\u001b[K\n",
            "remote: Counting objects: 100% (70/70), done.\u001b[K\n",
            "remote: Compressing objects: 100% (55/55), done.\u001b[K\n",
            "remote: Total 70 (delta 27), reused 24 (delta 4), pack-reused 0\u001b[K\n",
            "Unpacking objects: 100% (70/70), done.\n"
          ],
          "name": "stdout"
        }
      ]
    },
    {
      "cell_type": "code",
      "metadata": {
        "id": "1XpwL79PjHtB",
        "colab": {
          "base_uri": "https://localhost:8080/"
        },
        "outputId": "0895d0a5-3a09-466a-d37e-b0456cf3d1be"
      },
      "source": [
        "ls"
      ],
      "execution_count": 21,
      "outputs": [
        {
          "output_type": "stream",
          "text": [
            "\u001b[0m\u001b[01;34mabout_python_dl_from_scrach_2\u001b[0m/  \u001b[01;34msample_data\u001b[0m/\n"
          ],
          "name": "stdout"
        }
      ]
    },
    {
      "cell_type": "code",
      "metadata": {
        "id": "P-YITMLAjJCX",
        "colab": {
          "base_uri": "https://localhost:8080/"
        },
        "outputId": "034257a2-ce64-4832-d522-7e1dae548f23"
      },
      "source": [
        "cd /content/about_python_dl_from_scrach_2/notebooks/ch02"
      ],
      "execution_count": 22,
      "outputs": [
        {
          "output_type": "stream",
          "text": [
            "/content/about_python_dl_from_scrach_2/notebooks/ch02\n"
          ],
          "name": "stdout"
        }
      ]
    },
    {
      "cell_type": "code",
      "metadata": {
        "id": "Id11owsHjPIt",
        "colab": {
          "base_uri": "https://localhost:8080/"
        },
        "outputId": "fad6123c-1dca-4009-f04b-40c43c1dd0b4"
      },
      "source": [
        "ls"
      ],
      "execution_count": 23,
      "outputs": [
        {
          "output_type": "stream",
          "text": [
            "ch02_nlp_and_word_distributional_representation.ipynb\n",
            "ch02_nlp_and_word_distributional_representation_sol.ipynb\n"
          ],
          "name": "stdout"
        }
      ]
    },
    {
      "cell_type": "markdown",
      "metadata": {
        "id": "AjLwCdijf71K"
      },
      "source": [
        "# 2.1 자연어처리란\n",
        "* 2.1.1 단어의 의미"
      ]
    },
    {
      "cell_type": "markdown",
      "metadata": {
        "id": "T1aPHTAXg3sV"
      },
      "source": [
        "## 2.1.1 단어의 의미"
      ]
    },
    {
      "cell_type": "markdown",
      "metadata": {
        "id": "1MMWCUdzgA34"
      },
      "source": [
        "------------"
      ]
    },
    {
      "cell_type": "markdown",
      "metadata": {
        "id": "TykQzXHigBzZ"
      },
      "source": [
        "# 2.2 시소러스\n",
        "* 2.2.1 WordNet\n",
        "* 2.2.2 시소러스의 문제점\n"
      ]
    },
    {
      "cell_type": "markdown",
      "metadata": {
        "id": "qidHm6q-g8PE"
      },
      "source": [
        "## 2.2.1 WordNet\n"
      ]
    },
    {
      "cell_type": "markdown",
      "metadata": {
        "id": "JwtBf-3pg-f8"
      },
      "source": [
        "## 2.2.2 시소러스의 문제점\n"
      ]
    },
    {
      "cell_type": "markdown",
      "metadata": {
        "id": "wodfyQbSgGXx"
      },
      "source": [
        "--------------"
      ]
    },
    {
      "cell_type": "markdown",
      "metadata": {
        "id": "kBNCjU65gFBd"
      },
      "source": [
        "# 2.3 통계 기반 기법\n",
        "* 2.3.1 파이썬으로 말뭉치 전처리하기\n",
        "* 2.3.2 단어의 분산 표현\n",
        "* 2.3.3 분포 가설\n",
        "* 2.3.4 동시발생 행렬\n",
        "* 2.3.5 벡터 간 유사도\n",
        "* 2.3.6 유사 단어의 랭킹 표시"
      ]
    },
    {
      "cell_type": "markdown",
      "metadata": {
        "id": "IocbhuKahF97"
      },
      "source": [
        " ## 2.3.1 파이썬으로 말뭉치 전처리하기\n",
        " "
      ]
    },
    {
      "cell_type": "code",
      "metadata": {
        "id": "0FJJJzPymNrb"
      },
      "source": [
        "text = 'You say goodbye and I say hello.'"
      ],
      "execution_count": null,
      "outputs": []
    },
    {
      "cell_type": "code",
      "metadata": {
        "colab": {
          "base_uri": "https://localhost:8080/",
          "height": 35
        },
        "id": "vVwou1wImd0B",
        "outputId": "c0360adc-c2e7-46ed-d621-fe1f8102f8bc"
      },
      "source": [
        "text = text.lower()\n",
        "text"
      ],
      "execution_count": null,
      "outputs": [
        {
          "output_type": "execute_result",
          "data": {
            "application/vnd.google.colaboratory.intrinsic+json": {
              "type": "string"
            },
            "text/plain": [
              "'you say goodbye and i say hello.'"
            ]
          },
          "metadata": {
            "tags": []
          },
          "execution_count": 44
        }
      ]
    },
    {
      "cell_type": "code",
      "metadata": {
        "colab": {
          "base_uri": "https://localhost:8080/",
          "height": 35
        },
        "id": "7D8r0ullmhVF",
        "outputId": "103d71c8-905a-4219-e72a-4bcc6d71ecac"
      },
      "source": [
        "text = text.replace('.', ' .')\n",
        "text"
      ],
      "execution_count": null,
      "outputs": [
        {
          "output_type": "execute_result",
          "data": {
            "application/vnd.google.colaboratory.intrinsic+json": {
              "type": "string"
            },
            "text/plain": [
              "'you say goodbye and i say hello .'"
            ]
          },
          "metadata": {
            "tags": []
          },
          "execution_count": 45
        }
      ]
    },
    {
      "cell_type": "code",
      "metadata": {
        "colab": {
          "base_uri": "https://localhost:8080/"
        },
        "id": "7GeJxOUQmpEg",
        "outputId": "128682ab-1dcd-4c82-e6d3-8161e8a4115c"
      },
      "source": [
        "words = text.split(' ')\n",
        "words"
      ],
      "execution_count": null,
      "outputs": [
        {
          "output_type": "execute_result",
          "data": {
            "text/plain": [
              "['you', 'say', 'goodbye', 'and', 'i', 'say', 'hello', '.']"
            ]
          },
          "metadata": {
            "tags": []
          },
          "execution_count": 46
        }
      ]
    },
    {
      "cell_type": "code",
      "metadata": {
        "id": "T1wXnYScmxc-"
      },
      "source": [
        "word_to_id = {}"
      ],
      "execution_count": null,
      "outputs": []
    },
    {
      "cell_type": "code",
      "metadata": {
        "id": "aMxJOTn3m0Wc"
      },
      "source": [
        "id_to_word = {}"
      ],
      "execution_count": null,
      "outputs": []
    },
    {
      "cell_type": "code",
      "metadata": {
        "id": "IDIS88I2m3Dc"
      },
      "source": [
        "for word in words:\n",
        "  if word not in word_to_id:\n",
        "    new_id = len(word_to_id)\n",
        "    word_to_id[word] = new_id\n",
        "    id_to_word[new_id] = word"
      ],
      "execution_count": null,
      "outputs": []
    },
    {
      "cell_type": "code",
      "metadata": {
        "colab": {
          "base_uri": "https://localhost:8080/"
        },
        "id": "Q9S7frsBnJK8",
        "outputId": "49defee9-1ea4-4519-d4f1-9cb52af84e43"
      },
      "source": [
        "word_to_id"
      ],
      "execution_count": null,
      "outputs": [
        {
          "output_type": "execute_result",
          "data": {
            "text/plain": [
              "{'.': 6, 'and': 3, 'goodbye': 2, 'hello': 5, 'i': 4, 'say': 1, 'you': 0}"
            ]
          },
          "metadata": {
            "tags": []
          },
          "execution_count": 50
        }
      ]
    },
    {
      "cell_type": "code",
      "metadata": {
        "colab": {
          "base_uri": "https://localhost:8080/"
        },
        "id": "Nupyw3BcnK62",
        "outputId": "4ec12f8b-067f-4989-832f-e55f626f5baa"
      },
      "source": [
        "id_to_word"
      ],
      "execution_count": null,
      "outputs": [
        {
          "output_type": "execute_result",
          "data": {
            "text/plain": [
              "{0: 'you', 1: 'say', 2: 'goodbye', 3: 'and', 4: 'i', 5: 'hello', 6: '.'}"
            ]
          },
          "metadata": {
            "tags": []
          },
          "execution_count": 51
        }
      ]
    },
    {
      "cell_type": "code",
      "metadata": {
        "colab": {
          "base_uri": "https://localhost:8080/",
          "height": 35
        },
        "id": "AGLRapTKnPql",
        "outputId": "eb531f7d-ccaa-4a54-c2d1-ff8cd6633215"
      },
      "source": [
        "id_to_word[1]"
      ],
      "execution_count": null,
      "outputs": [
        {
          "output_type": "execute_result",
          "data": {
            "application/vnd.google.colaboratory.intrinsic+json": {
              "type": "string"
            },
            "text/plain": [
              "'say'"
            ]
          },
          "metadata": {
            "tags": []
          },
          "execution_count": 52
        }
      ]
    },
    {
      "cell_type": "code",
      "metadata": {
        "colab": {
          "base_uri": "https://localhost:8080/"
        },
        "id": "jVdBn9F1nSJ5",
        "outputId": "a458ea8b-d432-481c-ed16-addff7a3ded6"
      },
      "source": [
        "word_to_id['hello']"
      ],
      "execution_count": null,
      "outputs": [
        {
          "output_type": "execute_result",
          "data": {
            "text/plain": [
              "5"
            ]
          },
          "metadata": {
            "tags": []
          },
          "execution_count": 53
        }
      ]
    },
    {
      "cell_type": "code",
      "metadata": {
        "id": "IwfXKz0dnYWv"
      },
      "source": [
        "import numpy as np"
      ],
      "execution_count": null,
      "outputs": []
    },
    {
      "cell_type": "code",
      "metadata": {
        "colab": {
          "base_uri": "https://localhost:8080/"
        },
        "id": "hvA10mabngay",
        "outputId": "6a23c4bd-eec1-4110-ea95-562a29f74b8e"
      },
      "source": [
        "corpus = [word_to_id[w] for w in words]\n",
        "corpus"
      ],
      "execution_count": null,
      "outputs": [
        {
          "output_type": "execute_result",
          "data": {
            "text/plain": [
              "[0, 1, 2, 3, 4, 1, 5, 6]"
            ]
          },
          "metadata": {
            "tags": []
          },
          "execution_count": 55
        }
      ]
    },
    {
      "cell_type": "code",
      "metadata": {
        "colab": {
          "base_uri": "https://localhost:8080/"
        },
        "id": "zyOTE3m8nlEN",
        "outputId": "276d6f7d-005d-4ab1-a944-b2da05b533fd"
      },
      "source": [
        "corpus = np.array(corpus)\n",
        "corpus"
      ],
      "execution_count": null,
      "outputs": [
        {
          "output_type": "execute_result",
          "data": {
            "text/plain": [
              "array([0, 1, 2, 3, 4, 1, 5, 6])"
            ]
          },
          "metadata": {
            "tags": []
          },
          "execution_count": 56
        }
      ]
    },
    {
      "cell_type": "code",
      "metadata": {
        "id": "aQCTab7Yns8S"
      },
      "source": [
        ""
      ],
      "execution_count": null,
      "outputs": []
    },
    {
      "cell_type": "code",
      "metadata": {
        "id": "IA-jA-9nnrco"
      },
      "source": [
        "# 지금까지의 처리들을 한 데 모아 하나의 함수로\n",
        "def preprocess(text):\n",
        "  text = text.lower()\n",
        "  text = text.replace('.', ' .')\n",
        "  words = text.split(' ')\n",
        "\n",
        "  word_to_id = {}\n",
        "  id_to_word = {}\n",
        "\n",
        "  for word in words:\n",
        "    if word not in word_to_id:\n",
        "      new_id = len(word_to_id)\n",
        "      word_to_id[word] = new_id\n",
        "      id_to_word[new_id] = word\n",
        "\n",
        "  \n",
        "  corpus = np.array([word_to_id[w] for w in words])\n",
        "\n",
        "  return corpus, word_to_id, id_to_word"
      ],
      "execution_count": null,
      "outputs": []
    },
    {
      "cell_type": "code",
      "metadata": {
        "colab": {
          "base_uri": "https://localhost:8080/"
        },
        "id": "hPrhb5eQoZH1",
        "outputId": "7964adc5-4069-41ef-a0de-07b1a5390a57"
      },
      "source": [
        "text = 'You say goodbye and I say hello.'\n",
        "corpus, word_to_id, id_to_word = preprocess(text)\n",
        "print(corpus)\n",
        "print(word_to_id)\n",
        "print(id_to_word)"
      ],
      "execution_count": null,
      "outputs": [
        {
          "output_type": "stream",
          "text": [
            "[0 1 2 3 4 1 5 6]\n",
            "{'you': 0, 'say': 1, 'goodbye': 2, 'and': 3, 'i': 4, 'hello': 5, '.': 6}\n",
            "{0: 'you', 1: 'say', 2: 'goodbye', 3: 'and', 4: 'i', 5: 'hello', 6: '.'}\n"
          ],
          "name": "stdout"
        }
      ]
    },
    {
      "cell_type": "code",
      "metadata": {
        "id": "Lm0GHJwnoq5p"
      },
      "source": [
        ""
      ],
      "execution_count": null,
      "outputs": []
    },
    {
      "cell_type": "code",
      "metadata": {
        "id": "TKZqhNu4orhg"
      },
      "source": [
        "# util.py 라는 파일을 만들어서 preprocess를 해당 파일로 분리해놓고 써보자\n",
        "import util"
      ],
      "execution_count": null,
      "outputs": []
    },
    {
      "cell_type": "code",
      "metadata": {
        "id": "U0yDY0uNo6QL"
      },
      "source": [
        "text = 'You say goodbye and I say hello.'\n",
        "corpus, word_to_id, id_to_word = util.preprocess(text)\n",
        "print(corpus)\n",
        "print(word_to_id)\n",
        "print(id_to_word)"
      ],
      "execution_count": null,
      "outputs": []
    },
    {
      "cell_type": "markdown",
      "metadata": {
        "id": "FrK5oCBVhKqa"
      },
      "source": [
        "## 2.3.2 단어의 분산 표현\n",
        " "
      ]
    },
    {
      "cell_type": "markdown",
      "metadata": {
        "id": "pNXBH1sdhM_V"
      },
      "source": [
        "## 2.3.3 분포 가설\n",
        " "
      ]
    },
    {
      "cell_type": "markdown",
      "metadata": {
        "id": "tvzo9PuEhOSF"
      },
      "source": [
        "## 2.3.4 동시발생 행렬\n",
        " "
      ]
    },
    {
      "cell_type": "code",
      "metadata": {
        "id": "if8hruUZpaPu"
      },
      "source": [
        "import numpy as np\n",
        "from util import preprocess"
      ],
      "execution_count": null,
      "outputs": []
    },
    {
      "cell_type": "code",
      "metadata": {
        "id": "JUGfL34TpkiJ",
        "colab": {
          "base_uri": "https://localhost:8080/"
        },
        "outputId": "8d40e4b2-b8b4-4986-c856-75ab68680eb7"
      },
      "source": [
        "text = 'You say goodbye and I say hello.'\n",
        "corpus, word_to_id, id_to_word = preprocess(text)\n",
        "\n",
        "print(corpus)\n",
        "print(id_to_word)"
      ],
      "execution_count": null,
      "outputs": [
        {
          "output_type": "stream",
          "text": [
            "[0 1 2 3 4 1 5 6]\n",
            "{0: 'you', 1: 'say', 2: 'goodbye', 3: 'and', 4: 'i', 5: 'hello', 6: '.'}\n"
          ],
          "name": "stdout"
        }
      ]
    },
    {
      "cell_type": "code",
      "metadata": {
        "id": "j_mqksuEsfJs"
      },
      "source": [
        ""
      ],
      "execution_count": null,
      "outputs": []
    },
    {
      "cell_type": "code",
      "metadata": {
        "id": "hTItIun4qHqF",
        "colab": {
          "base_uri": "https://localhost:8080/"
        },
        "outputId": "6a7a26ac-ba39-44a0-9013-7ae3603a860c"
      },
      "source": [
        "# 동시발생 행렬 예시\n",
        "C = np.array([\n",
        "  [0, 1, 0, 1, 0, 0, 0],\n",
        "  [0, 0, 1, 0, 1, 0, 0],\n",
        "  [0, 1, 0, 1, 0, 0, 0],\n",
        "  [0, 1, 0, 0, 0, 0, 1],\n",
        "  [0, 0, 0, 0, 0, 1, 0],              \n",
        "], dtype=np.int32)\n",
        "\n",
        "print(type(C))\n",
        "print(C)"
      ],
      "execution_count": null,
      "outputs": [
        {
          "output_type": "stream",
          "text": [
            "<class 'numpy.ndarray'>\n",
            "[[0 1 0 1 0 0 0]\n",
            " [0 0 1 0 1 0 0]\n",
            " [0 1 0 1 0 0 0]\n",
            " [0 1 0 0 0 0 1]\n",
            " [0 0 0 0 0 1 0]]\n"
          ],
          "name": "stdout"
        }
      ]
    },
    {
      "cell_type": "code",
      "metadata": {
        "id": "EuuTpAYPsy7k",
        "colab": {
          "base_uri": "https://localhost:8080/"
        },
        "outputId": "e905431a-de3b-4721-f1ca-1f250c1f06fa"
      },
      "source": [
        "# ID가 0인 단어의 벡터 표현\n",
        "print(C[0])"
      ],
      "execution_count": null,
      "outputs": [
        {
          "output_type": "stream",
          "text": [
            "[0 1 0 1 0 0 0]\n"
          ],
          "name": "stdout"
        }
      ]
    },
    {
      "cell_type": "code",
      "metadata": {
        "id": "TzjRG3mStD5Y",
        "colab": {
          "base_uri": "https://localhost:8080/"
        },
        "outputId": "20901329-a66a-4725-baab-a338aaeb3229"
      },
      "source": [
        "# ID가 4인 단어의 벡터 표현\n",
        "print(C[4])"
      ],
      "execution_count": null,
      "outputs": [
        {
          "output_type": "stream",
          "text": [
            "[0 0 0 0 0 1 0]\n"
          ],
          "name": "stdout"
        }
      ]
    },
    {
      "cell_type": "code",
      "metadata": {
        "id": "Ad81aoBctHBi",
        "colab": {
          "base_uri": "https://localhost:8080/"
        },
        "outputId": "1a1647d6-eae2-4034-9640-ae4140a4c312"
      },
      "source": [
        "# 'goodbye'의 벡터 표현\n",
        "print(C[word_to_id['goodbye']])"
      ],
      "execution_count": null,
      "outputs": [
        {
          "output_type": "stream",
          "text": [
            "[0 1 0 1 0 0 0]\n"
          ],
          "name": "stdout"
        }
      ]
    },
    {
      "cell_type": "code",
      "metadata": {
        "id": "ValAAPpct_i0"
      },
      "source": [
        ""
      ],
      "execution_count": null,
      "outputs": []
    },
    {
      "cell_type": "code",
      "metadata": {
        "id": "Tb8Zn3z6t_t_"
      },
      "source": [
        "# 말뭉치로부터 동시발생 행렬을 만들어주는 함수를 구현해보자.\n",
        "# 그리고 util.py 파일에 함수 추가해주자.\n",
        "def create_co_matrix(corpus, vocab_size, window_size=1):\n",
        "  corpus_size = len(corpus)\n",
        "  co_matrix = np.zeros((vocab_size, vocab_size), dtype=np.int32)\n",
        "\n",
        "  for idx, word_id in enumerate(corpus):\n",
        "    for i in range(1, window_size+1):\n",
        "      left_idx = idx - i\n",
        "      right_idx = idx + i\n",
        "\n",
        "      if left_idx >= 0:\n",
        "        left_word_id = corpus[left_idx]\n",
        "        co_matrix[word_id, left_word_id] += 1\n",
        "\n",
        "      if right_idx < corpus_size:\n",
        "        right_word_id = corpus[right_idx]\n",
        "        co_matrix[word_id, right_word_id] += 1\n",
        "\n",
        "  return co_matrix\n"
      ],
      "execution_count": null,
      "outputs": []
    },
    {
      "cell_type": "code",
      "metadata": {
        "id": "_OVeH-m_vBTb",
        "colab": {
          "base_uri": "https://localhost:8080/"
        },
        "outputId": "a5801ac3-5276-482f-e794-3864a1eee654"
      },
      "source": [
        "len(word_to_id)"
      ],
      "execution_count": null,
      "outputs": [
        {
          "output_type": "execute_result",
          "data": {
            "text/plain": [
              "7"
            ]
          },
          "metadata": {
            "tags": []
          },
          "execution_count": 35
        }
      ]
    },
    {
      "cell_type": "code",
      "metadata": {
        "id": "YQ33rpDYuD0t",
        "colab": {
          "base_uri": "https://localhost:8080/"
        },
        "outputId": "8271bbd0-4a97-4ccd-ebf7-3df144db01e0"
      },
      "source": [
        "vocab_size = len(word_to_id)\n",
        "co_matrix = create_co_matrix(corpus, vocab_size, window_size=1)\n",
        "\n",
        "print(co_matrix)"
      ],
      "execution_count": null,
      "outputs": [
        {
          "output_type": "stream",
          "text": [
            "[[0 1 0 0 0 0 0]\n",
            " [1 0 1 0 1 1 0]\n",
            " [0 1 0 1 0 0 0]\n",
            " [0 0 1 0 1 0 0]\n",
            " [0 1 0 1 0 0 0]\n",
            " [0 1 0 0 0 0 1]\n",
            " [0 0 0 0 0 1 0]]\n"
          ],
          "name": "stdout"
        }
      ]
    },
    {
      "cell_type": "markdown",
      "metadata": {
        "id": "FOCUzvxHtwa1"
      },
      "source": [
        "## 2.3.5 벡터 간 유사도"
      ]
    },
    {
      "cell_type": "code",
      "metadata": {
        "id": "3XYW01CmvsTd"
      },
      "source": [
        "# 코사인 유사도 함수 만들기 (그리고 util.py 파일에 추가)\n",
        "def cos_similarity(x, y):\n",
        "  nx = x / np.sqrt(np.sum(x**2)) # x의 정규화\n",
        "  ny = y / np.sqrt(np.sum(y**2)) # y의 정규화\n",
        "  return np.dot(nx, ny)\n"
      ],
      "execution_count": null,
      "outputs": []
    },
    {
      "cell_type": "code",
      "metadata": {
        "id": "jNtX5Kh4wC8J",
        "colab": {
          "base_uri": "https://localhost:8080/"
        },
        "outputId": "45de80cb-f43b-43e3-920f-94c2c34644a1"
      },
      "source": [
        "C = create_co_matrix(corpus, vocab_size)\n",
        "print(C)"
      ],
      "execution_count": null,
      "outputs": [
        {
          "output_type": "stream",
          "text": [
            "[[0 1 0 0 0 0 0]\n",
            " [1 0 1 0 1 1 0]\n",
            " [0 1 0 1 0 0 0]\n",
            " [0 0 1 0 1 0 0]\n",
            " [0 1 0 1 0 0 0]\n",
            " [0 1 0 0 0 0 1]\n",
            " [0 0 0 0 0 1 0]]\n"
          ],
          "name": "stdout"
        }
      ]
    },
    {
      "cell_type": "code",
      "metadata": {
        "id": "tRZDuwJiwcpR",
        "colab": {
          "base_uri": "https://localhost:8080/"
        },
        "outputId": "8eeb4554-059d-417b-fd17-bec94a0afaad"
      },
      "source": [
        "word_to_id"
      ],
      "execution_count": null,
      "outputs": [
        {
          "output_type": "execute_result",
          "data": {
            "text/plain": [
              "{'.': 6, 'and': 3, 'goodbye': 2, 'hello': 5, 'i': 4, 'say': 1, 'you': 0}"
            ]
          },
          "metadata": {
            "tags": []
          },
          "execution_count": 59
        }
      ]
    },
    {
      "cell_type": "code",
      "metadata": {
        "id": "u_7GqHm1wOfX",
        "colab": {
          "base_uri": "https://localhost:8080/"
        },
        "outputId": "5dcebc3b-1ed7-418a-c805-a4df6ac25876"
      },
      "source": [
        "c0 = C[word_to_id['you']]\n",
        "c1 = C[word_to_id['i']]\n",
        "print(c0)\n",
        "print(c1)"
      ],
      "execution_count": null,
      "outputs": [
        {
          "output_type": "stream",
          "text": [
            "[0 1 0 0 0 0 0]\n",
            "[0 1 0 1 0 0 0]\n"
          ],
          "name": "stdout"
        }
      ]
    },
    {
      "cell_type": "markdown",
      "metadata": {
        "id": "k61vITtMhPlO"
      },
      "source": [
        "## 2.3.6 유사 단어의 랭킹 표시\n"
      ]
    },
    {
      "cell_type": "code",
      "metadata": {
        "id": "T1AtgNUYxdj_"
      },
      "source": [
        "# 유사 단어의 랭킹 표시 함수\n",
        "def most_similar(query, word_to_id, id_to_word, word_matrix, top=5):\n",
        "  # 검색어를 꺼낸다\n",
        "  if query not in word_to_id:\n",
        "    print(\"%s(을)를 찾을 수 없습니다.\" % query)\n",
        "    return\n",
        "\n",
        "  print('\\n[query] ' + query)\n",
        "  query_id = word_to_id[query]\n",
        "  query_vec = word_matrix[query_id]\n",
        "\n",
        "  # 코사인 유사도 계산\n",
        "  vocab_size = len(id_to_word)\n",
        "  similarity = np.zeros(vocab_size)\n",
        "  for i in range(vocab_size):\n",
        "    similarity[i] = cos_similarity(word_matrix[i], query_vec)\n",
        "\n",
        "  # 코사인 유사도를 기준으로 내림차순으로 출력\n",
        "  count = 0\n",
        "  for i in (-1*similarity).argsort():\n",
        "    if id_to_word[i] == query:\n",
        "      continue\n",
        "    print(' %s: %s' %(id_to_word[i], similarity[i]))\n",
        "\n",
        "    count += 1\n",
        "    if count >= top:\n",
        "      return"
      ],
      "execution_count": null,
      "outputs": []
    },
    {
      "cell_type": "code",
      "metadata": {
        "id": "PvJZSQ0JypcW",
        "colab": {
          "base_uri": "https://localhost:8080/"
        },
        "outputId": "6a770d98-2cbb-49ee-be0f-5682b0291608"
      },
      "source": [
        "most_similar('you', word_to_id, id_to_word, C, top=5)"
      ],
      "execution_count": null,
      "outputs": [
        {
          "output_type": "stream",
          "text": [
            "\n",
            "[query] you\n",
            " goodbye: 0.7071067811865475\n",
            " i: 0.7071067811865475\n",
            " hello: 0.7071067811865475\n",
            " say: 0.0\n",
            " and: 0.0\n"
          ],
          "name": "stdout"
        }
      ]
    },
    {
      "cell_type": "markdown",
      "metadata": {
        "id": "uk8OA2cVgJC1"
      },
      "source": [
        "----------------"
      ]
    },
    {
      "cell_type": "markdown",
      "metadata": {
        "id": "A2fJOLHwgKEB"
      },
      "source": [
        "# 2.4 통계 기반 기법 개선하기\n",
        "* 2.4.1 상호정보량\n",
        "* 2.4.2 차원 감소\n",
        "* 2.4.3 SVD에 의한 차원 감소\n",
        "* 2.4.4 PTB 데이터셋\n",
        "* 2.4.5 PTB 데이터셋 평가\n"
      ]
    },
    {
      "cell_type": "markdown",
      "metadata": {
        "id": "u8bXbE2WhV_v"
      },
      "source": [
        "## 2.4.1 상호정보량\n"
      ]
    },
    {
      "cell_type": "code",
      "metadata": {
        "id": "8QT2MPPCvU7P"
      },
      "source": [
        "import numpy as np \n",
        "\n",
        "def ppmi(C, verbose=False, eps=1e-8):\n",
        "  M = np.zeros_like(C, dtype=np.float32)\n",
        "  N = np.sum(C)\n",
        "  S = np.sum(C, axis=0)\n",
        "  total = C.shape[0] * C.shape[1]\n",
        "  cnt = 0\n",
        "\n",
        "  for i in range(C.shape[0]):\n",
        "    for j in range(C.shape[1]):\n",
        "      pmi = np.log2(C[i,j]* N/(S[j]*S[i]) + eps)\n",
        "      M[i,j] = max(0,pmi)\n",
        "\n",
        "      if verbose:\n",
        "        cnt += 1\n",
        "        if cnt % (total//100) == 0:\n",
        "          print(\"%.1f% 완료\" %(100*cnt/total))\n",
        "  \n",
        "  return M"
      ],
      "execution_count": 31,
      "outputs": []
    },
    {
      "cell_type": "code",
      "metadata": {
        "id": "gxhpRW71wPph",
        "outputId": "e1a80181-f227-46fa-d74e-d25fafa1422f",
        "colab": {
          "base_uri": "https://localhost:8080/"
        }
      },
      "source": [
        "ls .."
      ],
      "execution_count": 25,
      "outputs": [
        {
          "output_type": "stream",
          "text": [
            "\u001b[0m\u001b[01;34mch02\u001b[0m/  \u001b[01;34mcommon\u001b[0m/\n"
          ],
          "name": "stdout"
        }
      ]
    },
    {
      "cell_type": "code",
      "metadata": {
        "id": "RqYfe44qye4I"
      },
      "source": [
        "import sys\n",
        "sys.path.append(\"..\")\n",
        "from common.util import preprocess, create_co_matrix, cos_similarity"
      ],
      "execution_count": 26,
      "outputs": []
    },
    {
      "cell_type": "code",
      "metadata": {
        "id": "onBLn0DWyqgJ"
      },
      "source": [
        "text = 'You say goodbye and I say hello'\n",
        "corpus, word_to_id, id_to_word = preprocess(text)\n",
        "vocab_size = len(word_to_id)\n",
        "C = create_co_matrix(corpus, vocab_size)"
      ],
      "execution_count": 27,
      "outputs": []
    },
    {
      "cell_type": "code",
      "metadata": {
        "id": "gJc090Sjy5aW"
      },
      "source": [
        "W = ppmi(C)"
      ],
      "execution_count": 32,
      "outputs": []
    },
    {
      "cell_type": "code",
      "metadata": {
        "id": "1sjJJj7pzVNP",
        "outputId": "d9f552a3-0f21-49d1-9eb5-fc7292b38c66",
        "colab": {
          "base_uri": "https://localhost:8080/"
        }
      },
      "source": [
        "np.set_printoptions(precision=3) # 유효 자릿수를 세 자리로 표시\n",
        "print('동시발생 행렬')\n",
        "print(C)\n",
        "print('-'*50)\n",
        "print('PPMI')\n",
        "print(W)"
      ],
      "execution_count": 33,
      "outputs": [
        {
          "output_type": "stream",
          "text": [
            "동시발생 행렬\n",
            "[[0 1 0 0 0 0]\n",
            " [1 0 1 0 1 1]\n",
            " [0 1 0 1 0 0]\n",
            " [0 0 1 0 1 0]\n",
            " [0 1 0 1 0 0]\n",
            " [0 1 0 0 0 0]]\n",
            "--------------------------------------------------\n",
            "PPMI\n",
            "[[0.    1.585 0.    0.    0.    0.   ]\n",
            " [1.585 0.    0.585 0.    0.585 1.585]\n",
            " [0.    0.585 0.    1.585 0.    0.   ]\n",
            " [0.    0.    1.585 0.    1.585 0.   ]\n",
            " [0.    0.585 0.    1.585 0.    0.   ]\n",
            " [0.    1.585 0.    0.    0.    0.   ]]\n"
          ],
          "name": "stdout"
        }
      ]
    },
    {
      "cell_type": "markdown",
      "metadata": {
        "id": "j8iMh7TIhbNu"
      },
      "source": [
        "## 2.4.2 차원 감소\n"
      ]
    },
    {
      "cell_type": "markdown",
      "metadata": {
        "id": "rY0HxX7Qhcsp"
      },
      "source": [
        "## 2.4.3 SVD에 의한 차원 감소\n"
      ]
    },
    {
      "cell_type": "code",
      "metadata": {
        "id": "gUOgv04b0Hpi"
      },
      "source": [
        "import sys\n",
        "sys.path.append(\"..\")\n",
        "from common.util import preprocess, create_co_matrix, ppmi"
      ],
      "execution_count": 34,
      "outputs": []
    },
    {
      "cell_type": "code",
      "metadata": {
        "id": "np3qjrUg0Nxl"
      },
      "source": [
        "text = 'You say goodbye and I say hello'\n",
        "corpus, word_to_id, id_to_word = preprocess(text)\n",
        "vocab_size = len(word_to_id)\n",
        "C = create_co_matrix(corpus, vocab_size)"
      ],
      "execution_count": 35,
      "outputs": []
    },
    {
      "cell_type": "code",
      "metadata": {
        "id": "EGKZsKJh0QbB"
      },
      "source": [
        "W = ppmi(C)"
      ],
      "execution_count": 36,
      "outputs": []
    },
    {
      "cell_type": "code",
      "metadata": {
        "id": "lnmXOUJ60TQc"
      },
      "source": [
        "# SVD\n",
        "U, S, V = np.linalg.svd(W)"
      ],
      "execution_count": 37,
      "outputs": []
    },
    {
      "cell_type": "code",
      "metadata": {
        "id": "hWABiPCT0Z34",
        "outputId": "7b2eaeab-25ce-43fc-edaf-6c169973e6e0",
        "colab": {
          "base_uri": "https://localhost:8080/"
        }
      },
      "source": [
        "U"
      ],
      "execution_count": 38,
      "outputs": [
        {
          "output_type": "execute_result",
          "data": {
            "text/plain": [
              "array([[-4.524e-01,  0.000e+00,  0.000e+00, -5.435e-01,  6.545e-01,\n",
              "        -2.676e-01],\n",
              "       [ 0.000e+00, -7.686e-01,  6.397e-01,  0.000e+00,  0.000e+00,\n",
              "         0.000e+00],\n",
              "       [-5.435e-01,  1.824e-17,  4.565e-17,  4.524e-01,  2.676e-01,\n",
              "         6.545e-01],\n",
              "       [-5.551e-17, -6.397e-01, -7.686e-01,  0.000e+00,  0.000e+00,\n",
              "         0.000e+00],\n",
              "       [-5.435e-01,  1.824e-17,  4.565e-17,  4.524e-01, -2.676e-01,\n",
              "        -6.545e-01],\n",
              "       [-4.524e-01,  1.324e-17,  3.315e-17, -5.435e-01, -6.545e-01,\n",
              "         2.676e-01]], dtype=float32)"
            ]
          },
          "metadata": {
            "tags": []
          },
          "execution_count": 38
        }
      ]
    },
    {
      "cell_type": "code",
      "metadata": {
        "id": "b1dAiWBe0a0t",
        "outputId": "bab059b0-612c-4564-ba84-9ce67cd22607",
        "colab": {
          "base_uri": "https://localhost:8080/"
        }
      },
      "source": [
        "S"
      ],
      "execution_count": 39,
      "outputs": [
        {
          "output_type": "execute_result",
          "data": {
            "text/plain": [
              "array([2.693e+00, 2.693e+00, 1.866e+00, 1.866e+00, 2.792e-17, 5.603e-33],\n",
              "      dtype=float32)"
            ]
          },
          "metadata": {
            "tags": []
          },
          "execution_count": 39
        }
      ]
    },
    {
      "cell_type": "code",
      "metadata": {
        "id": "GMEeDMwL0cCN",
        "outputId": "1ee6ee86-98a5-428a-8ea2-7de236b9d430",
        "colab": {
          "base_uri": "https://localhost:8080/"
        }
      },
      "source": [
        "V"
      ],
      "execution_count": 40,
      "outputs": [
        {
          "output_type": "execute_result",
          "data": {
            "text/plain": [
              "array([[ 1.559e-17, -7.686e-01, -4.705e-17, -6.397e-01, -4.705e-17,\n",
              "         6.683e-17],\n",
              "       [-4.524e-01,  0.000e+00, -5.435e-01,  0.000e+00, -5.435e-01,\n",
              "        -4.524e-01],\n",
              "       [ 5.435e-01,  8.327e-17, -4.524e-01,  0.000e+00, -4.524e-01,\n",
              "         5.435e-01],\n",
              "       [-1.489e-18, -6.397e-01,  3.380e-17,  7.686e-01, -2.171e-17,\n",
              "         1.194e-17],\n",
              "       [ 6.149e-17,  1.691e-16,  7.071e-01, -1.863e-16, -7.071e-01,\n",
              "        -4.446e-17],\n",
              "       [ 7.071e-01,  0.000e+00, -9.534e-17,  1.572e-17,  4.344e-17,\n",
              "        -7.071e-01]], dtype=float32)"
            ]
          },
          "metadata": {
            "tags": []
          },
          "execution_count": 40
        }
      ]
    },
    {
      "cell_type": "code",
      "metadata": {
        "id": "E80joS1X05iW",
        "outputId": "5fccf3ee-2b8e-46fd-bb38-b0e4c77c4f41",
        "colab": {
          "base_uri": "https://localhost:8080/"
        }
      },
      "source": [
        "print(C[0]) # 동시발생 행렬"
      ],
      "execution_count": 41,
      "outputs": [
        {
          "output_type": "stream",
          "text": [
            "[0 1 0 0 0 0]\n"
          ],
          "name": "stdout"
        }
      ]
    },
    {
      "cell_type": "code",
      "metadata": {
        "id": "2C0An8YU09jz",
        "outputId": "3820eb2d-8c19-422a-863c-855adf029967",
        "colab": {
          "base_uri": "https://localhost:8080/"
        }
      },
      "source": [
        "print(W[0]) # PPMI 행렬"
      ],
      "execution_count": 42,
      "outputs": [
        {
          "output_type": "stream",
          "text": [
            "[0.    1.585 0.    0.    0.    0.   ]\n"
          ],
          "name": "stdout"
        }
      ]
    },
    {
      "cell_type": "code",
      "metadata": {
        "id": "mjj2SNc91BLj",
        "outputId": "14bb6c98-6663-4b8d-a044-5245c398f979",
        "colab": {
          "base_uri": "https://localhost:8080/"
        }
      },
      "source": [
        "print(U[0]) # SVD"
      ],
      "execution_count": 43,
      "outputs": [
        {
          "output_type": "stream",
          "text": [
            "[-0.452  0.     0.    -0.543  0.654 -0.268]\n"
          ],
          "name": "stdout"
        }
      ]
    },
    {
      "cell_type": "code",
      "metadata": {
        "id": "vQI7oJXZ1GXm",
        "outputId": "a6e5c02b-723c-465e-be40-8a9d6f9e3369",
        "colab": {
          "base_uri": "https://localhost:8080/"
        }
      },
      "source": [
        "# 2차원으로 축소시키기\n",
        "print(U[0, :2])"
      ],
      "execution_count": 44,
      "outputs": [
        {
          "output_type": "stream",
          "text": [
            "[-0.452  0.   ]\n"
          ],
          "name": "stdout"
        }
      ]
    },
    {
      "cell_type": "code",
      "metadata": {
        "id": "1wCI6nUr1Mci"
      },
      "source": [
        "%matplotlib inline\n",
        "import matplotlib.pyplot as plt"
      ],
      "execution_count": 45,
      "outputs": []
    },
    {
      "cell_type": "code",
      "metadata": {
        "id": "WJ_aM27_1lVV",
        "outputId": "0710af71-1b1b-4aac-c677-b07bacd64403",
        "colab": {
          "base_uri": "https://localhost:8080/",
          "height": 265
        }
      },
      "source": [
        "for word, word_id in word_to_id.items():\n",
        "  plt.annotate(word, (U[word_id, 0], U[word_id, 1]))\n",
        "\n",
        "plt.scatter(U[:, 0], U[:, 1], alpha=0.5)\n",
        "plt.show()"
      ],
      "execution_count": 46,
      "outputs": [
        {
          "output_type": "display_data",
          "data": {
            "image/png": "[encoded data removed]",
            "text/plain": [
              "<Figure size 432x288 with 1 Axes>"
            ]
          },
          "metadata": {
            "tags": [],
            "needs_background": "light"
          }
        }
      ]
    },
    {
      "cell_type": "markdown",
      "metadata": {
        "id": "nqF5Yb73hd76"
      },
      "source": [
        "## 2.4.4 PTB 데이터셋\n"
      ]
    },
    {
      "cell_type": "code",
      "metadata": {
        "id": "yv3-X0qf0P1S"
      },
      "source": [
        ""
      ],
      "execution_count": null,
      "outputs": []
    },
    {
      "cell_type": "markdown",
      "metadata": {
        "id": "1n--bvhehgNa"
      },
      "source": [
        "## 2.4.5 PTB 데이터셋 평가\n"
      ]
    },
    {
      "cell_type": "markdown",
      "metadata": {
        "id": "lRfQu0CUhhmm"
      },
      "source": [
        "---------"
      ]
    },
    {
      "cell_type": "markdown",
      "metadata": {
        "id": "W_dfwnm2gME9"
      },
      "source": [
        "# 정리"
      ]
    },
    {
      "cell_type": "markdown",
      "metadata": {
        "id": "NVcwo0y6gNbD"
      },
      "source": [
        "------------------\n",
        "# 참고문헌\n",
        "* [1] 밑바닥부터 시작하는 딥러닝 2\n",
        "  - https://www.hanbit.co.kr/store/books/look.php?p_code=B8950212853\n",
        "  - github - https://github.com/WegraLee/deep-learning-from-scratch-2"
      ]
    }
  ]
}