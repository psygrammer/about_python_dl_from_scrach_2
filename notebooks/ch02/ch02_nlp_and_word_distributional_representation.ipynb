{
  "nbformat": 4,
  "nbformat_minor": 0,
  "metadata": {
    "colab": {
      "name": "ch02_nlp_and_word_distributional_representation.ipynb",
      "provenance": [],
      "authorship_tag": "ABX9TyMKVuWm0rDAaLwluGtyevly",
      "include_colab_link": true
    },
    "kernelspec": {
      "name": "python3",
      "display_name": "Python 3"
    }
  },
  "cells": [
    {
      "cell_type": "markdown",
      "metadata": {
        "id": "view-in-github",
        "colab_type": "text"
      },
      "source": [
        "<a href=\"https://colab.research.google.com/github/psygrammer/about_python_dl_from_scrach_2/blob/main/notebooks/ch02/ch02_nlp_and_word_distributional_representation.ipynb\" target=\"_parent\"><img src=\"https://colab.research.google.com/assets/colab-badge.svg\" alt=\"Open In Colab\"/></a>"
      ]
    },
    {
      "cell_type": "markdown",
      "metadata": {
        "id": "hWBsw8I8ekpu"
      },
      "source": [
        "# 2. 자연어와 단어의 분산 표현"
      ]
    },
    {
      "cell_type": "markdown",
      "metadata": {
        "id": "mhqp1CB_fIzv"
      },
      "source": [
        "* 싸이그래머 / 어바웃파이썬 : 딥러닝 NLP [1]\n",
        "* 김무성"
      ]
    },
    {
      "cell_type": "markdown",
      "metadata": {
        "id": "SGBs4GwYfPBo"
      },
      "source": [
        "--------------"
      ]
    },
    {
      "cell_type": "markdown",
      "metadata": {
        "id": "22fMX_WzfRM_"
      },
      "source": [
        "# 차례 \n",
        "* 2.1 자연어처리란\n",
        "  - 2.1.1 단어의 의미\n",
        "* 2.2 시소러스\n",
        "  - 2.2.1 WordNet\n",
        "  - 2.2.2 시소러스의 문제점\n",
        "* 2.3 통계 기반 기법\n",
        "  - 2.3.1 파이썬으로 말뭉치 전처리하기\n",
        "  - 2.3.2 단어의 분산 표현\n",
        "  - 2.3.3 분포 가설\n",
        "  - 2.3.4 동시발생 행렬\n",
        "  - 2.3.5 유사 단어의 랭킹 표시\n",
        "* 2.4 통계 기반 기법 개선하기\n",
        "  - 2.4.1 상호정보량\n",
        "  - 2.4.2 차원 감소\n",
        "  - 2.4.3 SVD에 의한 차원 감소\n",
        "  - 2.4.4 PTB 데이터셋\n",
        "  - 2.4.5 PTB 데이터셋 평가\n",
        "* 정리"
      ]
    },
    {
      "cell_type": "markdown",
      "metadata": {
        "id": "HfqtRjy5fP6m"
      },
      "source": [
        "------------"
      ]
    },
    {
      "cell_type": "code",
      "metadata": {
        "id": "jbU2b7aui5lL",
        "outputId": "aabd4a10-44e2-4867-ac0a-c0319860e76d",
        "colab": {
          "base_uri": "https://localhost:8080/"
        }
      },
      "source": [
        "!git clone https://github.com/psygrammer/about_python_dl_from_scrach_2.git"
      ],
      "execution_count": 2,
      "outputs": [
        {
          "output_type": "stream",
          "text": [
            "Cloning into 'about_python_dl_from_scrach_2'...\n",
            "remote: Enumerating objects: 15, done.\u001b[K\n",
            "remote: Counting objects: 100% (15/15), done.\u001b[K\n",
            "remote: Compressing objects: 100% (13/13), done.\u001b[K\n",
            "remote: Total 15 (delta 3), reused 3 (delta 0), pack-reused 0\u001b[K\n",
            "Unpacking objects: 100% (15/15), done.\n"
          ],
          "name": "stdout"
        }
      ]
    },
    {
      "cell_type": "code",
      "metadata": {
        "id": "1XpwL79PjHtB",
        "outputId": "173915fe-e173-438e-a4b5-5019d3e1739d",
        "colab": {
          "base_uri": "https://localhost:8080/"
        }
      },
      "source": [
        "ls"
      ],
      "execution_count": 3,
      "outputs": [
        {
          "output_type": "stream",
          "text": [
            "\u001b[0m\u001b[01;34mabout_python_dl_from_scrach_2\u001b[0m/  \u001b[01;34msample_data\u001b[0m/\n"
          ],
          "name": "stdout"
        }
      ]
    },
    {
      "cell_type": "code",
      "metadata": {
        "id": "P-YITMLAjJCX",
        "outputId": "b29ad40a-d65d-4bc4-9e1e-e5ec4eeb02b4",
        "colab": {
          "base_uri": "https://localhost:8080/"
        }
      },
      "source": [
        "cd /content/about_python_dl_from_scrach_2/notebooks/"
      ],
      "execution_count": 4,
      "outputs": [
        {
          "output_type": "stream",
          "text": [
            "/content/about_python_dl_from_scrach_2/notebooks\n"
          ],
          "name": "stdout"
        }
      ]
    },
    {
      "cell_type": "code",
      "metadata": {
        "id": "Id11owsHjPIt",
        "outputId": "d70ce9ef-c563-40f5-831c-19f0f31ed663",
        "colab": {
          "base_uri": "https://localhost:8080/"
        }
      },
      "source": [
        "ls"
      ],
      "execution_count": 5,
      "outputs": [
        {
          "output_type": "stream",
          "text": [
            "ch02_nlp_and_word_distributional_representation.ipynb\n"
          ],
          "name": "stdout"
        }
      ]
    },
    {
      "cell_type": "markdown",
      "metadata": {
        "id": "AjLwCdijf71K"
      },
      "source": [
        "# 2.1 자연어처리란\n",
        "* 2.1.1 단어의 의미"
      ]
    },
    {
      "cell_type": "markdown",
      "metadata": {
        "id": "T1aPHTAXg3sV"
      },
      "source": [
        "## 2.1.1 단어의 의미"
      ]
    },
    {
      "cell_type": "markdown",
      "metadata": {
        "id": "1MMWCUdzgA34"
      },
      "source": [
        "------------"
      ]
    },
    {
      "cell_type": "markdown",
      "metadata": {
        "id": "TykQzXHigBzZ"
      },
      "source": [
        "# 2.2 시소러스\n",
        "* 2.2.1 WordNet\n",
        "* 2.2.2 시소러스의 문제점\n"
      ]
    },
    {
      "cell_type": "markdown",
      "metadata": {
        "id": "qidHm6q-g8PE"
      },
      "source": [
        "## 2.2.1 WordNet\n"
      ]
    },
    {
      "cell_type": "markdown",
      "metadata": {
        "id": "JwtBf-3pg-f8"
      },
      "source": [
        "## 2.2.2 시소러스의 문제점\n"
      ]
    },
    {
      "cell_type": "markdown",
      "metadata": {
        "id": "wodfyQbSgGXx"
      },
      "source": [
        "--------------"
      ]
    },
    {
      "cell_type": "markdown",
      "metadata": {
        "id": "kBNCjU65gFBd"
      },
      "source": [
        "# 2.3 통계 기반 기법\n",
        "* 2.3.1 파이썬으로 말뭉치 전처리하기\n",
        "* 2.3.2 단어의 분산 표현\n",
        "* 2.3.3 분포 가설\n",
        "* 2.3.4 동시발생 행렬\n",
        "* 2.3.5 유사 단어의 랭킹 표시\n"
      ]
    },
    {
      "cell_type": "markdown",
      "metadata": {
        "id": "IocbhuKahF97"
      },
      "source": [
        " ## 2.3.1 파이썬으로 말뭉치 전처리하기\n",
        " "
      ]
    },
    {
      "cell_type": "markdown",
      "metadata": {
        "id": "FrK5oCBVhKqa"
      },
      "source": [
        "## 2.3.2 단어의 분산 표현\n",
        " "
      ]
    },
    {
      "cell_type": "markdown",
      "metadata": {
        "id": "pNXBH1sdhM_V"
      },
      "source": [
        "## 2.3.3 분포 가설\n",
        " "
      ]
    },
    {
      "cell_type": "markdown",
      "metadata": {
        "id": "tvzo9PuEhOSF"
      },
      "source": [
        "## 2.3.4 동시발생 행렬\n",
        " "
      ]
    },
    {
      "cell_type": "markdown",
      "metadata": {
        "id": "k61vITtMhPlO"
      },
      "source": [
        "## 2.3.5 유사 단어의 랭킹 표시\n"
      ]
    },
    {
      "cell_type": "markdown",
      "metadata": {
        "id": "uk8OA2cVgJC1"
      },
      "source": [
        "----------------"
      ]
    },
    {
      "cell_type": "markdown",
      "metadata": {
        "id": "A2fJOLHwgKEB"
      },
      "source": [
        "# 2.4 통계 기반 기법 개선하기\n",
        "* 2.4.1 상호정보량\n",
        "* 2.4.2 차원 감소\n",
        "* 2.4.3 SVD에 의한 차원 감소\n",
        "* 2.4.4 PTB 데이터셋\n",
        "* 2.4.5 PTB 데이터셋 평가\n"
      ]
    },
    {
      "cell_type": "markdown",
      "metadata": {
        "id": "u8bXbE2WhV_v"
      },
      "source": [
        "## 2.4.1 상호정보량\n"
      ]
    },
    {
      "cell_type": "markdown",
      "metadata": {
        "id": "j8iMh7TIhbNu"
      },
      "source": [
        "## 2.4.2 차원 감소\n"
      ]
    },
    {
      "cell_type": "markdown",
      "metadata": {
        "id": "rY0HxX7Qhcsp"
      },
      "source": [
        "## 2.4.3 SVD에 의한 차원 감소\n"
      ]
    },
    {
      "cell_type": "markdown",
      "metadata": {
        "id": "nqF5Yb73hd76"
      },
      "source": [
        "## 2.4.4 PTB 데이터셋\n"
      ]
    },
    {
      "cell_type": "markdown",
      "metadata": {
        "id": "1n--bvhehgNa"
      },
      "source": [
        "## 2.4.5 PTB 데이터셋 평가\n"
      ]
    },
    {
      "cell_type": "markdown",
      "metadata": {
        "id": "lRfQu0CUhhmm"
      },
      "source": [
        "---------"
      ]
    },
    {
      "cell_type": "markdown",
      "metadata": {
        "id": "W_dfwnm2gME9"
      },
      "source": [
        "# 정리"
      ]
    },
    {
      "cell_type": "markdown",
      "metadata": {
        "id": "NVcwo0y6gNbD"
      },
      "source": [
        "------------------\n",
        "# 참고문헌\n",
        "* [1] 밑바닥부터 시작하는 딥러닝 2\n",
        "  - https://www.hanbit.co.kr/store/books/look.php?p_code=B8950212853\n",
        "  - github - https://github.com/WegraLee/deep-learning-from-scratch-2"
      ]
    }
  ]
}