{
  "nbformat": 4,
  "nbformat_minor": 0,
  "metadata": {
    "colab": {
      "name": "ch02_nlp_and_word_distributional_representation.ipynb",
      "provenance": [],
      "authorship_tag": "ABX9TyMZ1OV47SaZWEZyJpQMZKQ1",
      "include_colab_link": true
    },
    "kernelspec": {
      "name": "python3",
      "display_name": "Python 3"
    }
  },
  "cells": [
    {
      "cell_type": "markdown",
      "metadata": {
        "id": "view-in-github",
        "colab_type": "text"
      },
      "source": [
        "<a href=\"https://colab.research.google.com/github/psygrammer/about_python_dl_from_scrach_2/blob/main/notebooks/ch02/ch02_nlp_and_word_distributional_representation.ipynb\" target=\"_parent\"><img src=\"https://colab.research.google.com/assets/colab-badge.svg\" alt=\"Open In Colab\"/></a>"
      ]
    },
    {
      "cell_type": "markdown",
      "metadata": {
        "id": "hWBsw8I8ekpu"
      },
      "source": [
        "# 2. 자연어와 단어의 분산 표현"
      ]
    },
    {
      "cell_type": "markdown",
      "metadata": {
        "id": "mhqp1CB_fIzv"
      },
      "source": [
        "* 싸이그래머 / 어바웃파이썬 : 딥러닝 NLP [1]\n",
        "* 김무성"
      ]
    },
    {
      "cell_type": "markdown",
      "metadata": {
        "id": "SGBs4GwYfPBo"
      },
      "source": [
        "--------------"
      ]
    },
    {
      "cell_type": "markdown",
      "metadata": {
        "id": "22fMX_WzfRM_"
      },
      "source": [
        "# 차례 \n",
        "* 2.1 자연어처리란\n",
        "  - 2.1.1 단어의 의미\n",
        "* 2.2 시소러스\n",
        "  - 2.2.1 WordNet\n",
        "  - 2.2.2 시소러스의 문제점\n",
        "* 2.3 통계 기반 기법\n",
        "  - 2.3.1 파이썬으로 말뭉치 전처리하기\n",
        "  - 2.3.2 단어의 분산 표현\n",
        "  - 2.3.3 분포 가설\n",
        "  - 2.3.4 동시발생 행렬\n",
        "  - 2.3.5 벡터 간 유사도\n",
        "  - 2.3.6 유사 단어의 랭킹 표시\n",
        "* 2.4 통계 기반 기법 개선하기\n",
        "  - 2.4.1 상호정보량\n",
        "  - 2.4.2 차원 감소\n",
        "  - 2.4.3 SVD에 의한 차원 감소\n",
        "  - 2.4.4 PTB 데이터셋\n",
        "  - 2.4.5 PTB 데이터셋 평가\n",
        "* 정리"
      ]
    },
    {
      "cell_type": "markdown",
      "metadata": {
        "id": "HfqtRjy5fP6m"
      },
      "source": [
        "------------"
      ]
    },
    {
      "cell_type": "code",
      "metadata": {
        "id": "jbU2b7aui5lL",
        "colab": {
          "base_uri": "https://localhost:8080/"
        },
        "outputId": "324c96b9-12e6-4756-93f5-60c3ac53f206"
      },
      "source": [
        "!git clone https://github.com/psygrammer/about_python_dl_from_scrach_2.git"
      ],
      "execution_count": null,
      "outputs": [
        {
          "output_type": "stream",
          "text": [
            "Cloning into 'about_python_dl_from_scrach_2'...\n",
            "remote: Enumerating objects: 84, done.\u001b[K\n",
            "remote: Counting objects:   1% (1/84)\u001b[K\rremote: Counting objects:   2% (2/84)\u001b[K\rremote: Counting objects:   3% (3/84)\u001b[K\rremote: Counting objects:   4% (4/84)\u001b[K\rremote: Counting objects:   5% (5/84)\u001b[K\rremote: Counting objects:   7% (6/84)\u001b[K\rremote: Counting objects:   8% (7/84)\u001b[K\rremote: Counting objects:   9% (8/84)\u001b[K\rremote: Counting objects:  10% (9/84)\u001b[K\rremote: Counting objects:  11% (10/84)\u001b[K\rremote: Counting objects:  13% (11/84)\u001b[K\rremote: Counting objects:  14% (12/84)\u001b[K\rremote: Counting objects:  15% (13/84)\u001b[K\rremote: Counting objects:  16% (14/84)\u001b[K\rremote: Counting objects:  17% (15/84)\u001b[K\rremote: Counting objects:  19% (16/84)\u001b[K\rremote: Counting objects:  20% (17/84)\u001b[K\rremote: Counting objects:  21% (18/84)\u001b[K\rremote: Counting objects:  22% (19/84)\u001b[K\rremote: Counting objects:  23% (20/84)\u001b[K\rremote: Counting objects:  25% (21/84)\u001b[K\rremote: Counting objects:  26% (22/84)\u001b[K\rremote: Counting objects:  27% (23/84)\u001b[K\rremote: Counting objects:  28% (24/84)\u001b[K\rremote: Counting objects:  29% (25/84)\u001b[K\rremote: Counting objects:  30% (26/84)\u001b[K\rremote: Counting objects:  32% (27/84)\u001b[K\rremote: Counting objects:  33% (28/84)\u001b[K\rremote: Counting objects:  34% (29/84)\u001b[K\rremote: Counting objects:  35% (30/84)\u001b[K\rremote: Counting objects:  36% (31/84)\u001b[K\rremote: Counting objects:  38% (32/84)\u001b[K\rremote: Counting objects:  39% (33/84)\u001b[K\rremote: Counting objects:  40% (34/84)\u001b[K\rremote: Counting objects:  41% (35/84)\u001b[K\rremote: Counting objects:  42% (36/84)\u001b[K\rremote: Counting objects:  44% (37/84)\u001b[K\rremote: Counting objects:  45% (38/84)\u001b[K\rremote: Counting objects:  46% (39/84)\u001b[K\rremote: Counting objects:  47% (40/84)\u001b[K\rremote: Counting objects:  48% (41/84)\u001b[K\rremote: Counting objects:  50% (42/84)\u001b[K\rremote: Counting objects:  51% (43/84)\u001b[K\rremote: Counting objects:  52% (44/84)\u001b[K\rremote: Counting objects:  53% (45/84)\u001b[K\rremote: Counting objects:  54% (46/84)\u001b[K\rremote: Counting objects:  55% (47/84)\u001b[K\rremote: Counting objects:  57% (48/84)\u001b[K\rremote: Counting objects:  58% (49/84)\u001b[K\rremote: Counting objects:  59% (50/84)\u001b[K\rremote: Counting objects:  60% (51/84)\u001b[K\rremote: Counting objects:  61% (52/84)\u001b[K\rremote: Counting objects:  63% (53/84)\u001b[K\rremote: Counting objects:  64% (54/84)\u001b[K\rremote: Counting objects:  65% (55/84)\u001b[K\rremote: Counting objects:  66% (56/84)\u001b[K\rremote: Counting objects:  67% (57/84)\u001b[K\rremote: Counting objects:  69% (58/84)\u001b[K\rremote: Counting objects:  70% (59/84)\u001b[K\rremote: Counting objects:  71% (60/84)\u001b[K\rremote: Counting objects:  72% (61/84)\u001b[K\rremote: Counting objects:  73% (62/84)\u001b[K\rremote: Counting objects:  75% (63/84)\u001b[K\rremote: Counting objects:  76% (64/84)\u001b[K\rremote: Counting objects:  77% (65/84)\u001b[K\rremote: Counting objects:  78% (66/84)\u001b[K\rremote: Counting objects:  79% (67/84)\u001b[K\rremote: Counting objects:  80% (68/84)\u001b[K\rremote: Counting objects:  82% (69/84)\u001b[K\rremote: Counting objects:  83% (70/84)\u001b[K\rremote: Counting objects:  84% (71/84)\u001b[K\rremote: Counting objects:  85% (72/84)\u001b[K\rremote: Counting objects:  86% (73/84)\u001b[K\rremote: Counting objects:  88% (74/84)\u001b[K\rremote: Counting objects:  89% (75/84)\u001b[K\rremote: Counting objects:  90% (76/84)\u001b[K\rremote: Counting objects:  91% (77/84)\u001b[K\rremote: Counting objects:  92% (78/84)\u001b[K\rremote: Counting objects:  94% (79/84)\u001b[K\rremote: Counting objects:  95% (80/84)\u001b[K\rremote: Counting objects:  96% (81/84)\u001b[K\rremote: Counting objects:  97% (82/84)\u001b[K\rremote: Counting objects:  98% (83/84)\u001b[K\rremote: Counting objects: 100% (84/84)\u001b[K\rremote: Counting objects: 100% (84/84), done.\u001b[K\n",
            "remote: Compressing objects: 100% (68/68), done.\u001b[K\n",
            "remote: Total 84 (delta 32), reused 34 (delta 5), pack-reused 0\u001b[K\n",
            "Unpacking objects: 100% (84/84), done.\n"
          ],
          "name": "stdout"
        }
      ]
    },
    {
      "cell_type": "code",
      "metadata": {
        "id": "1XpwL79PjHtB",
        "colab": {
          "base_uri": "https://localhost:8080/"
        },
        "outputId": "6a653ab8-67ee-4557-c2f3-864f98d33c02"
      },
      "source": [
        "ls"
      ],
      "execution_count": null,
      "outputs": [
        {
          "output_type": "stream",
          "text": [
            "\u001b[0m\u001b[01;34mabout_python_dl_from_scrach_2\u001b[0m/  \u001b[01;34msample_data\u001b[0m/\n"
          ],
          "name": "stdout"
        }
      ]
    },
    {
      "cell_type": "code",
      "metadata": {
        "id": "P-YITMLAjJCX",
        "colab": {
          "base_uri": "https://localhost:8080/"
        },
        "outputId": "f880ccac-7b24-446e-a7cd-34c9cef0304e"
      },
      "source": [
        "cd /content/about_python_dl_from_scrach_2/notebooks/ch02"
      ],
      "execution_count": null,
      "outputs": [
        {
          "output_type": "stream",
          "text": [
            "/content/about_python_dl_from_scrach_2/notebooks/ch02\n"
          ],
          "name": "stdout"
        }
      ]
    },
    {
      "cell_type": "code",
      "metadata": {
        "id": "Id11owsHjPIt",
        "colab": {
          "base_uri": "https://localhost:8080/"
        },
        "outputId": "deaa6a0f-725a-4051-812d-1ea2a1b253e2"
      },
      "source": [
        "ls"
      ],
      "execution_count": null,
      "outputs": [
        {
          "output_type": "stream",
          "text": [
            "ch02_nlp_and_word_distributional_representation.ipynb\n",
            "ch02_nlp_and_word_distributional_representation_sol.ipynb\n"
          ],
          "name": "stdout"
        }
      ]
    },
    {
      "cell_type": "markdown",
      "metadata": {
        "id": "AjLwCdijf71K"
      },
      "source": [
        "# 2.1 자연어처리란\n",
        "* 2.1.1 단어의 의미"
      ]
    },
    {
      "cell_type": "markdown",
      "metadata": {
        "id": "T1aPHTAXg3sV"
      },
      "source": [
        "## 2.1.1 단어의 의미"
      ]
    },
    {
      "cell_type": "markdown",
      "metadata": {
        "id": "1MMWCUdzgA34"
      },
      "source": [
        "------------"
      ]
    },
    {
      "cell_type": "markdown",
      "metadata": {
        "id": "TykQzXHigBzZ"
      },
      "source": [
        "# 2.2 시소러스\n",
        "* 2.2.1 WordNet\n",
        "* 2.2.2 시소러스의 문제점\n"
      ]
    },
    {
      "cell_type": "markdown",
      "metadata": {
        "id": "qidHm6q-g8PE"
      },
      "source": [
        "## 2.2.1 WordNet\n"
      ]
    },
    {
      "cell_type": "markdown",
      "metadata": {
        "id": "JwtBf-3pg-f8"
      },
      "source": [
        "## 2.2.2 시소러스의 문제점\n"
      ]
    },
    {
      "cell_type": "markdown",
      "metadata": {
        "id": "wodfyQbSgGXx"
      },
      "source": [
        "--------------"
      ]
    },
    {
      "cell_type": "markdown",
      "metadata": {
        "id": "kBNCjU65gFBd"
      },
      "source": [
        "# 2.3 통계 기반 기법\n",
        "* 2.3.1 파이썬으로 말뭉치 전처리하기\n",
        "* 2.3.2 단어의 분산 표현\n",
        "* 2.3.3 분포 가설\n",
        "* 2.3.4 동시발생 행렬\n",
        "* 2.3.5 벡터 간 유사도\n",
        "* 2.3.6 유사 단어의 랭킹 표시"
      ]
    },
    {
      "cell_type": "markdown",
      "metadata": {
        "id": "IocbhuKahF97"
      },
      "source": [
        " ## 2.3.1 파이썬으로 말뭉치 전처리하기\n",
        " "
      ]
    },
    {
      "cell_type": "code",
      "metadata": {
        "id": "0FJJJzPymNrb"
      },
      "source": [
        "text = 'You say goodbye and I say hello.'"
      ],
      "execution_count": null,
      "outputs": []
    },
    {
      "cell_type": "code",
      "metadata": {
        "colab": {
          "base_uri": "https://localhost:8080/",
          "height": 35
        },
        "id": "vVwou1wImd0B",
        "outputId": "c0360adc-c2e7-46ed-d621-fe1f8102f8bc"
      },
      "source": [
        "text = text.lower()\n",
        "text"
      ],
      "execution_count": null,
      "outputs": [
        {
          "output_type": "execute_result",
          "data": {
            "application/vnd.google.colaboratory.intrinsic+json": {
              "type": "string"
            },
            "text/plain": [
              "'you say goodbye and i say hello.'"
            ]
          },
          "metadata": {
            "tags": []
          },
          "execution_count": 44
        }
      ]
    },
    {
      "cell_type": "code",
      "metadata": {
        "colab": {
          "base_uri": "https://localhost:8080/",
          "height": 35
        },
        "id": "7D8r0ullmhVF",
        "outputId": "103d71c8-905a-4219-e72a-4bcc6d71ecac"
      },
      "source": [
        "text = text.replace('.', ' .')\n",
        "text"
      ],
      "execution_count": null,
      "outputs": [
        {
          "output_type": "execute_result",
          "data": {
            "application/vnd.google.colaboratory.intrinsic+json": {
              "type": "string"
            },
            "text/plain": [
              "'you say goodbye and i say hello .'"
            ]
          },
          "metadata": {
            "tags": []
          },
          "execution_count": 45
        }
      ]
    },
    {
      "cell_type": "code",
      "metadata": {
        "colab": {
          "base_uri": "https://localhost:8080/"
        },
        "id": "7GeJxOUQmpEg",
        "outputId": "128682ab-1dcd-4c82-e6d3-8161e8a4115c"
      },
      "source": [
        "words = text.split(' ')\n",
        "words"
      ],
      "execution_count": null,
      "outputs": [
        {
          "output_type": "execute_result",
          "data": {
            "text/plain": [
              "['you', 'say', 'goodbye', 'and', 'i', 'say', 'hello', '.']"
            ]
          },
          "metadata": {
            "tags": []
          },
          "execution_count": 46
        }
      ]
    },
    {
      "cell_type": "code",
      "metadata": {
        "id": "T1wXnYScmxc-"
      },
      "source": [
        "word_to_id = {}"
      ],
      "execution_count": null,
      "outputs": []
    },
    {
      "cell_type": "code",
      "metadata": {
        "id": "aMxJOTn3m0Wc"
      },
      "source": [
        "id_to_word = {}"
      ],
      "execution_count": null,
      "outputs": []
    },
    {
      "cell_type": "code",
      "metadata": {
        "id": "IDIS88I2m3Dc"
      },
      "source": [
        "for word in words:\n",
        "  if word not in word_to_id:\n",
        "    new_id = len(word_to_id)\n",
        "    word_to_id[word] = new_id\n",
        "    id_to_word[new_id] = word"
      ],
      "execution_count": null,
      "outputs": []
    },
    {
      "cell_type": "code",
      "metadata": {
        "colab": {
          "base_uri": "https://localhost:8080/"
        },
        "id": "Q9S7frsBnJK8",
        "outputId": "49defee9-1ea4-4519-d4f1-9cb52af84e43"
      },
      "source": [
        "word_to_id"
      ],
      "execution_count": null,
      "outputs": [
        {
          "output_type": "execute_result",
          "data": {
            "text/plain": [
              "{'.': 6, 'and': 3, 'goodbye': 2, 'hello': 5, 'i': 4, 'say': 1, 'you': 0}"
            ]
          },
          "metadata": {
            "tags": []
          },
          "execution_count": 50
        }
      ]
    },
    {
      "cell_type": "code",
      "metadata": {
        "colab": {
          "base_uri": "https://localhost:8080/"
        },
        "id": "Nupyw3BcnK62",
        "outputId": "4ec12f8b-067f-4989-832f-e55f626f5baa"
      },
      "source": [
        "id_to_word"
      ],
      "execution_count": null,
      "outputs": [
        {
          "output_type": "execute_result",
          "data": {
            "text/plain": [
              "{0: 'you', 1: 'say', 2: 'goodbye', 3: 'and', 4: 'i', 5: 'hello', 6: '.'}"
            ]
          },
          "metadata": {
            "tags": []
          },
          "execution_count": 51
        }
      ]
    },
    {
      "cell_type": "code",
      "metadata": {
        "colab": {
          "base_uri": "https://localhost:8080/",
          "height": 35
        },
        "id": "AGLRapTKnPql",
        "outputId": "eb531f7d-ccaa-4a54-c2d1-ff8cd6633215"
      },
      "source": [
        "id_to_word[1]"
      ],
      "execution_count": null,
      "outputs": [
        {
          "output_type": "execute_result",
          "data": {
            "application/vnd.google.colaboratory.intrinsic+json": {
              "type": "string"
            },
            "text/plain": [
              "'say'"
            ]
          },
          "metadata": {
            "tags": []
          },
          "execution_count": 52
        }
      ]
    },
    {
      "cell_type": "code",
      "metadata": {
        "colab": {
          "base_uri": "https://localhost:8080/"
        },
        "id": "jVdBn9F1nSJ5",
        "outputId": "a458ea8b-d432-481c-ed16-addff7a3ded6"
      },
      "source": [
        "word_to_id['hello']"
      ],
      "execution_count": null,
      "outputs": [
        {
          "output_type": "execute_result",
          "data": {
            "text/plain": [
              "5"
            ]
          },
          "metadata": {
            "tags": []
          },
          "execution_count": 53
        }
      ]
    },
    {
      "cell_type": "code",
      "metadata": {
        "id": "IwfXKz0dnYWv"
      },
      "source": [
        "import numpy as np"
      ],
      "execution_count": null,
      "outputs": []
    },
    {
      "cell_type": "code",
      "metadata": {
        "colab": {
          "base_uri": "https://localhost:8080/"
        },
        "id": "hvA10mabngay",
        "outputId": "6a23c4bd-eec1-4110-ea95-562a29f74b8e"
      },
      "source": [
        "corpus = [word_to_id[w] for w in words]\n",
        "corpus"
      ],
      "execution_count": null,
      "outputs": [
        {
          "output_type": "execute_result",
          "data": {
            "text/plain": [
              "[0, 1, 2, 3, 4, 1, 5, 6]"
            ]
          },
          "metadata": {
            "tags": []
          },
          "execution_count": 55
        }
      ]
    },
    {
      "cell_type": "code",
      "metadata": {
        "colab": {
          "base_uri": "https://localhost:8080/"
        },
        "id": "zyOTE3m8nlEN",
        "outputId": "276d6f7d-005d-4ab1-a944-b2da05b533fd"
      },
      "source": [
        "corpus = np.array(corpus)\n",
        "corpus"
      ],
      "execution_count": null,
      "outputs": [
        {
          "output_type": "execute_result",
          "data": {
            "text/plain": [
              "array([0, 1, 2, 3, 4, 1, 5, 6])"
            ]
          },
          "metadata": {
            "tags": []
          },
          "execution_count": 56
        }
      ]
    },
    {
      "cell_type": "code",
      "metadata": {
        "id": "aQCTab7Yns8S"
      },
      "source": [
        ""
      ],
      "execution_count": null,
      "outputs": []
    },
    {
      "cell_type": "code",
      "metadata": {
        "id": "IA-jA-9nnrco"
      },
      "source": [
        "# 지금까지의 처리들을 한 데 모아 하나의 함수로\n",
        "def preprocess(text):\n",
        "  text = text.lower()\n",
        "  text = text.replace('.', ' .')\n",
        "  words = text.split(' ')\n",
        "\n",
        "  word_to_id = {}\n",
        "  id_to_word = {}\n",
        "\n",
        "  for word in words:\n",
        "    if word not in word_to_id:\n",
        "      new_id = len(word_to_id)\n",
        "      word_to_id[word] = new_id\n",
        "      id_to_word[new_id] = word\n",
        "\n",
        "  \n",
        "  corpus = np.array([word_to_id[w] for w in words])\n",
        "\n",
        "  return corpus, word_to_id, id_to_word"
      ],
      "execution_count": null,
      "outputs": []
    },
    {
      "cell_type": "code",
      "metadata": {
        "colab": {
          "base_uri": "https://localhost:8080/"
        },
        "id": "hPrhb5eQoZH1",
        "outputId": "7964adc5-4069-41ef-a0de-07b1a5390a57"
      },
      "source": [
        "text = 'You say goodbye and I say hello.'\n",
        "corpus, word_to_id, id_to_word = preprocess(text)\n",
        "print(corpus)\n",
        "print(word_to_id)\n",
        "print(id_to_word)"
      ],
      "execution_count": null,
      "outputs": [
        {
          "output_type": "stream",
          "text": [
            "[0 1 2 3 4 1 5 6]\n",
            "{'you': 0, 'say': 1, 'goodbye': 2, 'and': 3, 'i': 4, 'hello': 5, '.': 6}\n",
            "{0: 'you', 1: 'say', 2: 'goodbye', 3: 'and', 4: 'i', 5: 'hello', 6: '.'}\n"
          ],
          "name": "stdout"
        }
      ]
    },
    {
      "cell_type": "code",
      "metadata": {
        "id": "Lm0GHJwnoq5p"
      },
      "source": [
        ""
      ],
      "execution_count": null,
      "outputs": []
    },
    {
      "cell_type": "code",
      "metadata": {
        "id": "TKZqhNu4orhg"
      },
      "source": [
        "# util.py 라는 파일을 만들어서 preprocess를 해당 파일로 분리해놓고 써보자\n",
        "import util"
      ],
      "execution_count": null,
      "outputs": []
    },
    {
      "cell_type": "code",
      "metadata": {
        "id": "U0yDY0uNo6QL"
      },
      "source": [
        "text = 'You say goodbye and I say hello.'\n",
        "corpus, word_to_id, id_to_word = util.preprocess(text)\n",
        "print(corpus)\n",
        "print(word_to_id)\n",
        "print(id_to_word)"
      ],
      "execution_count": null,
      "outputs": []
    },
    {
      "cell_type": "markdown",
      "metadata": {
        "id": "FrK5oCBVhKqa"
      },
      "source": [
        "## 2.3.2 단어의 분산 표현\n",
        " "
      ]
    },
    {
      "cell_type": "markdown",
      "metadata": {
        "id": "pNXBH1sdhM_V"
      },
      "source": [
        "## 2.3.3 분포 가설\n",
        " "
      ]
    },
    {
      "cell_type": "markdown",
      "metadata": {
        "id": "tvzo9PuEhOSF"
      },
      "source": [
        "## 2.3.4 동시발생 행렬\n",
        " "
      ]
    },
    {
      "cell_type": "code",
      "metadata": {
        "id": "if8hruUZpaPu"
      },
      "source": [
        "import numpy as np\n",
        "from util import preprocess"
      ],
      "execution_count": null,
      "outputs": []
    },
    {
      "cell_type": "code",
      "metadata": {
        "id": "JUGfL34TpkiJ",
        "colab": {
          "base_uri": "https://localhost:8080/"
        },
        "outputId": "8d40e4b2-b8b4-4986-c856-75ab68680eb7"
      },
      "source": [
        "text = 'You say goodbye and I say hello.'\n",
        "corpus, word_to_id, id_to_word = preprocess(text)\n",
        "\n",
        "print(corpus)\n",
        "print(id_to_word)"
      ],
      "execution_count": null,
      "outputs": [
        {
          "output_type": "stream",
          "text": [
            "[0 1 2 3 4 1 5 6]\n",
            "{0: 'you', 1: 'say', 2: 'goodbye', 3: 'and', 4: 'i', 5: 'hello', 6: '.'}\n"
          ],
          "name": "stdout"
        }
      ]
    },
    {
      "cell_type": "code",
      "metadata": {
        "id": "j_mqksuEsfJs"
      },
      "source": [
        ""
      ],
      "execution_count": null,
      "outputs": []
    },
    {
      "cell_type": "code",
      "metadata": {
        "id": "hTItIun4qHqF",
        "colab": {
          "base_uri": "https://localhost:8080/"
        },
        "outputId": "6a7a26ac-ba39-44a0-9013-7ae3603a860c"
      },
      "source": [
        "# 동시발생 행렬 예시\n",
        "C = np.array([\n",
        "  [0, 1, 0, 1, 0, 0, 0],\n",
        "  [0, 0, 1, 0, 1, 0, 0],\n",
        "  [0, 1, 0, 1, 0, 0, 0],\n",
        "  [0, 1, 0, 0, 0, 0, 1],\n",
        "  [0, 0, 0, 0, 0, 1, 0],              \n",
        "], dtype=np.int32)\n",
        "\n",
        "print(type(C))\n",
        "print(C)"
      ],
      "execution_count": null,
      "outputs": [
        {
          "output_type": "stream",
          "text": [
            "<class 'numpy.ndarray'>\n",
            "[[0 1 0 1 0 0 0]\n",
            " [0 0 1 0 1 0 0]\n",
            " [0 1 0 1 0 0 0]\n",
            " [0 1 0 0 0 0 1]\n",
            " [0 0 0 0 0 1 0]]\n"
          ],
          "name": "stdout"
        }
      ]
    },
    {
      "cell_type": "code",
      "metadata": {
        "id": "EuuTpAYPsy7k",
        "colab": {
          "base_uri": "https://localhost:8080/"
        },
        "outputId": "e905431a-de3b-4721-f1ca-1f250c1f06fa"
      },
      "source": [
        "# ID가 0인 단어의 벡터 표현\n",
        "print(C[0])"
      ],
      "execution_count": null,
      "outputs": [
        {
          "output_type": "stream",
          "text": [
            "[0 1 0 1 0 0 0]\n"
          ],
          "name": "stdout"
        }
      ]
    },
    {
      "cell_type": "code",
      "metadata": {
        "id": "TzjRG3mStD5Y",
        "colab": {
          "base_uri": "https://localhost:8080/"
        },
        "outputId": "20901329-a66a-4725-baab-a338aaeb3229"
      },
      "source": [
        "# ID가 4인 단어의 벡터 표현\n",
        "print(C[4])"
      ],
      "execution_count": null,
      "outputs": [
        {
          "output_type": "stream",
          "text": [
            "[0 0 0 0 0 1 0]\n"
          ],
          "name": "stdout"
        }
      ]
    },
    {
      "cell_type": "code",
      "metadata": {
        "id": "Ad81aoBctHBi",
        "colab": {
          "base_uri": "https://localhost:8080/"
        },
        "outputId": "1a1647d6-eae2-4034-9640-ae4140a4c312"
      },
      "source": [
        "# 'goodbye'의 벡터 표현\n",
        "print(C[word_to_id['goodbye']])"
      ],
      "execution_count": null,
      "outputs": [
        {
          "output_type": "stream",
          "text": [
            "[0 1 0 1 0 0 0]\n"
          ],
          "name": "stdout"
        }
      ]
    },
    {
      "cell_type": "code",
      "metadata": {
        "id": "ValAAPpct_i0"
      },
      "source": [
        ""
      ],
      "execution_count": null,
      "outputs": []
    },
    {
      "cell_type": "code",
      "metadata": {
        "id": "Tb8Zn3z6t_t_"
      },
      "source": [
        "# 말뭉치로부터 동시발생 행렬을 만들어주는 함수를 구현해보자.\n",
        "# 그리고 util.py 파일에 함수 추가해주자.\n",
        "def create_co_matrix(corpus, vocab_size, window_size=1):\n",
        "  corpus_size = len(corpus)\n",
        "  co_matrix = np.zeros((vocab_size, vocab_size), dtype=np.int32)\n",
        "\n",
        "  for idx, word_id in enumerate(corpus):\n",
        "    for i in range(1, window_size+1):\n",
        "      left_idx = idx - i\n",
        "      right_idx = idx + i\n",
        "\n",
        "      if left_idx >= 0:\n",
        "        left_word_id = corpus[left_idx]\n",
        "        co_matrix[word_id, left_word_id] += 1\n",
        "\n",
        "      if right_idx < corpus_size:\n",
        "        right_word_id = corpus[right_idx]\n",
        "        co_matrix[word_id, right_word_id] += 1\n",
        "\n",
        "  return co_matrix\n"
      ],
      "execution_count": null,
      "outputs": []
    },
    {
      "cell_type": "code",
      "metadata": {
        "id": "_OVeH-m_vBTb",
        "colab": {
          "base_uri": "https://localhost:8080/"
        },
        "outputId": "a5801ac3-5276-482f-e794-3864a1eee654"
      },
      "source": [
        "len(word_to_id)"
      ],
      "execution_count": null,
      "outputs": [
        {
          "output_type": "execute_result",
          "data": {
            "text/plain": [
              "7"
            ]
          },
          "metadata": {
            "tags": []
          },
          "execution_count": 35
        }
      ]
    },
    {
      "cell_type": "code",
      "metadata": {
        "id": "YQ33rpDYuD0t",
        "colab": {
          "base_uri": "https://localhost:8080/"
        },
        "outputId": "8271bbd0-4a97-4ccd-ebf7-3df144db01e0"
      },
      "source": [
        "vocab_size = len(word_to_id)\n",
        "co_matrix = create_co_matrix(corpus, vocab_size, window_size=1)\n",
        "\n",
        "print(co_matrix)"
      ],
      "execution_count": null,
      "outputs": [
        {
          "output_type": "stream",
          "text": [
            "[[0 1 0 0 0 0 0]\n",
            " [1 0 1 0 1 1 0]\n",
            " [0 1 0 1 0 0 0]\n",
            " [0 0 1 0 1 0 0]\n",
            " [0 1 0 1 0 0 0]\n",
            " [0 1 0 0 0 0 1]\n",
            " [0 0 0 0 0 1 0]]\n"
          ],
          "name": "stdout"
        }
      ]
    },
    {
      "cell_type": "markdown",
      "metadata": {
        "id": "FOCUzvxHtwa1"
      },
      "source": [
        "## 2.3.5 벡터 간 유사도"
      ]
    },
    {
      "cell_type": "code",
      "metadata": {
        "id": "3XYW01CmvsTd"
      },
      "source": [
        "# 코사인 유사도 함수 만들기 (그리고 util.py 파일에 추가)\n",
        "def cos_similarity(x, y):\n",
        "  pass\n"
      ],
      "execution_count": null,
      "outputs": []
    },
    {
      "cell_type": "code",
      "metadata": {
        "id": "jNtX5Kh4wC8J",
        "colab": {
          "base_uri": "https://localhost:8080/"
        },
        "outputId": "45de80cb-f43b-43e3-920f-94c2c34644a1"
      },
      "source": [
        "C = create_co_matrix(corpus, vocab_size)\n",
        "print(C)"
      ],
      "execution_count": null,
      "outputs": [
        {
          "output_type": "stream",
          "text": [
            "[[0 1 0 0 0 0 0]\n",
            " [1 0 1 0 1 1 0]\n",
            " [0 1 0 1 0 0 0]\n",
            " [0 0 1 0 1 0 0]\n",
            " [0 1 0 1 0 0 0]\n",
            " [0 1 0 0 0 0 1]\n",
            " [0 0 0 0 0 1 0]]\n"
          ],
          "name": "stdout"
        }
      ]
    },
    {
      "cell_type": "code",
      "metadata": {
        "id": "tRZDuwJiwcpR",
        "colab": {
          "base_uri": "https://localhost:8080/"
        },
        "outputId": "8eeb4554-059d-417b-fd17-bec94a0afaad"
      },
      "source": [
        "word_to_id"
      ],
      "execution_count": null,
      "outputs": [
        {
          "output_type": "execute_result",
          "data": {
            "text/plain": [
              "{'.': 6, 'and': 3, 'goodbye': 2, 'hello': 5, 'i': 4, 'say': 1, 'you': 0}"
            ]
          },
          "metadata": {
            "tags": []
          },
          "execution_count": 59
        }
      ]
    },
    {
      "cell_type": "code",
      "metadata": {
        "id": "u_7GqHm1wOfX",
        "colab": {
          "base_uri": "https://localhost:8080/"
        },
        "outputId": "5dcebc3b-1ed7-418a-c805-a4df6ac25876"
      },
      "source": [
        "c0 = C[word_to_id['you']]\n",
        "c1 = C[word_to_id['i']]\n",
        "print(c0)\n",
        "print(c1)"
      ],
      "execution_count": null,
      "outputs": [
        {
          "output_type": "stream",
          "text": [
            "[0 1 0 0 0 0 0]\n",
            "[0 1 0 1 0 0 0]\n"
          ],
          "name": "stdout"
        }
      ]
    },
    {
      "cell_type": "markdown",
      "metadata": {
        "id": "k61vITtMhPlO"
      },
      "source": [
        "## 2.3.6 유사 단어의 랭킹 표시\n"
      ]
    },
    {
      "cell_type": "code",
      "metadata": {
        "id": "T1AtgNUYxdj_"
      },
      "source": [
        "# 유사 단어의 랭킹 표시 함수\n",
        "def most_similar(query, word_to_id, id_to_word, word_matrix, top=5):\n",
        "  # 검색어를 꺼낸다\n",
        "  \n",
        "  # 코사인 유사도 계산\n",
        "  \n",
        "  # 코사인 유사도를 기준으로 내림차순으로 출력\n",
        "  "
      ],
      "execution_count": null,
      "outputs": []
    },
    {
      "cell_type": "code",
      "metadata": {
        "id": "PvJZSQ0JypcW",
        "colab": {
          "base_uri": "https://localhost:8080/"
        },
        "outputId": "6a770d98-2cbb-49ee-be0f-5682b0291608"
      },
      "source": [
        "most_similar('you', word_to_id, id_to_word, C, top=5)"
      ],
      "execution_count": null,
      "outputs": [
        {
          "output_type": "stream",
          "text": [
            "\n",
            "[query] you\n",
            " goodbye: 0.7071067811865475\n",
            " i: 0.7071067811865475\n",
            " hello: 0.7071067811865475\n",
            " say: 0.0\n",
            " and: 0.0\n"
          ],
          "name": "stdout"
        }
      ]
    },
    {
      "cell_type": "markdown",
      "metadata": {
        "id": "uk8OA2cVgJC1"
      },
      "source": [
        "----------------"
      ]
    },
    {
      "cell_type": "markdown",
      "metadata": {
        "id": "A2fJOLHwgKEB"
      },
      "source": [
        "# 2.4 통계 기반 기법 개선하기\n",
        "* 2.4.1 상호정보량\n",
        "* 2.4.2 차원 감소\n",
        "* 2.4.3 SVD에 의한 차원 감소\n",
        "* 2.4.4 PTB 데이터셋\n",
        "* 2.4.5 PTB 데이터셋 평가\n"
      ]
    },
    {
      "cell_type": "markdown",
      "metadata": {
        "id": "u8bXbE2WhV_v"
      },
      "source": [
        "## 2.4.1 상호정보량\n"
      ]
    },
    {
      "cell_type": "code",
      "metadata": {
        "id": "8QT2MPPCvU7P"
      },
      "source": [
        "import numpy as np \n",
        "\n",
        "def ppmi(C, verbose=False, eps=1e-8):\n",
        "  pass"
      ],
      "execution_count": null,
      "outputs": []
    },
    {
      "cell_type": "code",
      "metadata": {
        "id": "gxhpRW71wPph",
        "colab": {
          "base_uri": "https://localhost:8080/"
        },
        "outputId": "e1a80181-f227-46fa-d74e-d25fafa1422f"
      },
      "source": [
        "ls .."
      ],
      "execution_count": null,
      "outputs": [
        {
          "output_type": "stream",
          "text": [
            "\u001b[0m\u001b[01;34mch02\u001b[0m/  \u001b[01;34mcommon\u001b[0m/\n"
          ],
          "name": "stdout"
        }
      ]
    },
    {
      "cell_type": "code",
      "metadata": {
        "id": "RqYfe44qye4I"
      },
      "source": [
        "import sys\n",
        "sys.path.append(\"..\")\n",
        "from common.util import preprocess, create_co_matrix, cos_similarity"
      ],
      "execution_count": null,
      "outputs": []
    },
    {
      "cell_type": "code",
      "metadata": {
        "id": "onBLn0DWyqgJ"
      },
      "source": [
        "text = 'You say goodbye and I say hello'\n",
        "corpus, word_to_id, id_to_word = preprocess(text)\n",
        "vocab_size = len(word_to_id)\n",
        "C = create_co_matrix(corpus, vocab_size)"
      ],
      "execution_count": null,
      "outputs": []
    },
    {
      "cell_type": "code",
      "metadata": {
        "id": "gJc090Sjy5aW"
      },
      "source": [
        "W = ppmi(C)"
      ],
      "execution_count": null,
      "outputs": []
    },
    {
      "cell_type": "code",
      "metadata": {
        "id": "1sjJJj7pzVNP",
        "colab": {
          "base_uri": "https://localhost:8080/"
        },
        "outputId": "d9f552a3-0f21-49d1-9eb5-fc7292b38c66"
      },
      "source": [
        "np.set_printoptions(precision=3) # 유효 자릿수를 세 자리로 표시\n",
        "print('동시발생 행렬')\n",
        "print(C)\n",
        "print('-'*50)\n",
        "print('PPMI')\n",
        "print(W)"
      ],
      "execution_count": null,
      "outputs": [
        {
          "output_type": "stream",
          "text": [
            "동시발생 행렬\n",
            "[[0 1 0 0 0 0]\n",
            " [1 0 1 0 1 1]\n",
            " [0 1 0 1 0 0]\n",
            " [0 0 1 0 1 0]\n",
            " [0 1 0 1 0 0]\n",
            " [0 1 0 0 0 0]]\n",
            "--------------------------------------------------\n",
            "PPMI\n",
            "[[0.    1.585 0.    0.    0.    0.   ]\n",
            " [1.585 0.    0.585 0.    0.585 1.585]\n",
            " [0.    0.585 0.    1.585 0.    0.   ]\n",
            " [0.    0.    1.585 0.    1.585 0.   ]\n",
            " [0.    0.585 0.    1.585 0.    0.   ]\n",
            " [0.    1.585 0.    0.    0.    0.   ]]\n"
          ],
          "name": "stdout"
        }
      ]
    },
    {
      "cell_type": "markdown",
      "metadata": {
        "id": "j8iMh7TIhbNu"
      },
      "source": [
        "## 2.4.2 차원 감소\n"
      ]
    },
    {
      "cell_type": "markdown",
      "metadata": {
        "id": "rY0HxX7Qhcsp"
      },
      "source": [
        "## 2.4.3 SVD에 의한 차원 감소\n"
      ]
    },
    {
      "cell_type": "code",
      "metadata": {
        "id": "gUOgv04b0Hpi"
      },
      "source": [
        "import sys\n",
        "sys.path.append(\"..\")\n",
        "from common.util import preprocess, create_co_matrix, ppmi"
      ],
      "execution_count": null,
      "outputs": []
    },
    {
      "cell_type": "code",
      "metadata": {
        "id": "np3qjrUg0Nxl"
      },
      "source": [
        "text = 'You say goodbye and I say hello'\n",
        "corpus, word_to_id, id_to_word = preprocess(text)\n",
        "vocab_size = len(word_to_id)\n",
        "C = create_co_matrix(corpus, vocab_size)"
      ],
      "execution_count": null,
      "outputs": []
    },
    {
      "cell_type": "code",
      "metadata": {
        "id": "EGKZsKJh0QbB"
      },
      "source": [
        "W = ppmi(C)"
      ],
      "execution_count": null,
      "outputs": []
    },
    {
      "cell_type": "code",
      "metadata": {
        "id": "lnmXOUJ60TQc"
      },
      "source": [
        "# SVD\n",
        "# 코드를 작성"
      ],
      "execution_count": null,
      "outputs": []
    },
    {
      "cell_type": "code",
      "metadata": {
        "id": "hWABiPCT0Z34",
        "colab": {
          "base_uri": "https://localhost:8080/"
        },
        "outputId": "7b2eaeab-25ce-43fc-edaf-6c169973e6e0"
      },
      "source": [
        "U"
      ],
      "execution_count": null,
      "outputs": [
        {
          "output_type": "execute_result",
          "data": {
            "text/plain": [
              "array([[-4.524e-01,  0.000e+00,  0.000e+00, -5.435e-01,  6.545e-01,\n",
              "        -2.676e-01],\n",
              "       [ 0.000e+00, -7.686e-01,  6.397e-01,  0.000e+00,  0.000e+00,\n",
              "         0.000e+00],\n",
              "       [-5.435e-01,  1.824e-17,  4.565e-17,  4.524e-01,  2.676e-01,\n",
              "         6.545e-01],\n",
              "       [-5.551e-17, -6.397e-01, -7.686e-01,  0.000e+00,  0.000e+00,\n",
              "         0.000e+00],\n",
              "       [-5.435e-01,  1.824e-17,  4.565e-17,  4.524e-01, -2.676e-01,\n",
              "        -6.545e-01],\n",
              "       [-4.524e-01,  1.324e-17,  3.315e-17, -5.435e-01, -6.545e-01,\n",
              "         2.676e-01]], dtype=float32)"
            ]
          },
          "metadata": {
            "tags": []
          },
          "execution_count": 38
        }
      ]
    },
    {
      "cell_type": "code",
      "metadata": {
        "id": "b1dAiWBe0a0t",
        "colab": {
          "base_uri": "https://localhost:8080/"
        },
        "outputId": "bab059b0-612c-4564-ba84-9ce67cd22607"
      },
      "source": [
        "S"
      ],
      "execution_count": null,
      "outputs": [
        {
          "output_type": "execute_result",
          "data": {
            "text/plain": [
              "array([2.693e+00, 2.693e+00, 1.866e+00, 1.866e+00, 2.792e-17, 5.603e-33],\n",
              "      dtype=float32)"
            ]
          },
          "metadata": {
            "tags": []
          },
          "execution_count": 39
        }
      ]
    },
    {
      "cell_type": "code",
      "metadata": {
        "id": "GMEeDMwL0cCN",
        "colab": {
          "base_uri": "https://localhost:8080/"
        },
        "outputId": "1ee6ee86-98a5-428a-8ea2-7de236b9d430"
      },
      "source": [
        "V"
      ],
      "execution_count": null,
      "outputs": [
        {
          "output_type": "execute_result",
          "data": {
            "text/plain": [
              "array([[ 1.559e-17, -7.686e-01, -4.705e-17, -6.397e-01, -4.705e-17,\n",
              "         6.683e-17],\n",
              "       [-4.524e-01,  0.000e+00, -5.435e-01,  0.000e+00, -5.435e-01,\n",
              "        -4.524e-01],\n",
              "       [ 5.435e-01,  8.327e-17, -4.524e-01,  0.000e+00, -4.524e-01,\n",
              "         5.435e-01],\n",
              "       [-1.489e-18, -6.397e-01,  3.380e-17,  7.686e-01, -2.171e-17,\n",
              "         1.194e-17],\n",
              "       [ 6.149e-17,  1.691e-16,  7.071e-01, -1.863e-16, -7.071e-01,\n",
              "        -4.446e-17],\n",
              "       [ 7.071e-01,  0.000e+00, -9.534e-17,  1.572e-17,  4.344e-17,\n",
              "        -7.071e-01]], dtype=float32)"
            ]
          },
          "metadata": {
            "tags": []
          },
          "execution_count": 40
        }
      ]
    },
    {
      "cell_type": "code",
      "metadata": {
        "id": "E80joS1X05iW",
        "colab": {
          "base_uri": "https://localhost:8080/"
        },
        "outputId": "5fccf3ee-2b8e-46fd-bb38-b0e4c77c4f41"
      },
      "source": [
        "print(C[0]) # 동시발생 행렬"
      ],
      "execution_count": null,
      "outputs": [
        {
          "output_type": "stream",
          "text": [
            "[0 1 0 0 0 0]\n"
          ],
          "name": "stdout"
        }
      ]
    },
    {
      "cell_type": "code",
      "metadata": {
        "id": "2C0An8YU09jz",
        "colab": {
          "base_uri": "https://localhost:8080/"
        },
        "outputId": "3820eb2d-8c19-422a-863c-855adf029967"
      },
      "source": [
        "print(W[0]) # PPMI 행렬"
      ],
      "execution_count": null,
      "outputs": [
        {
          "output_type": "stream",
          "text": [
            "[0.    1.585 0.    0.    0.    0.   ]\n"
          ],
          "name": "stdout"
        }
      ]
    },
    {
      "cell_type": "code",
      "metadata": {
        "id": "mjj2SNc91BLj",
        "colab": {
          "base_uri": "https://localhost:8080/"
        },
        "outputId": "14bb6c98-6663-4b8d-a044-5245c398f979"
      },
      "source": [
        "print(U[0]) # SVD"
      ],
      "execution_count": null,
      "outputs": [
        {
          "output_type": "stream",
          "text": [
            "[-0.452  0.     0.    -0.543  0.654 -0.268]\n"
          ],
          "name": "stdout"
        }
      ]
    },
    {
      "cell_type": "code",
      "metadata": {
        "id": "vQI7oJXZ1GXm",
        "colab": {
          "base_uri": "https://localhost:8080/"
        },
        "outputId": "a6e5c02b-723c-465e-be40-8a9d6f9e3369"
      },
      "source": [
        "# 2차원으로 축소시키기\n",
        "# 코드를 작성"
      ],
      "execution_count": null,
      "outputs": [
        {
          "output_type": "stream",
          "text": [
            "[-0.452  0.   ]\n"
          ],
          "name": "stdout"
        }
      ]
    },
    {
      "cell_type": "code",
      "metadata": {
        "id": "1wCI6nUr1Mci"
      },
      "source": [
        "%matplotlib inline\n",
        "import matplotlib.pyplot as plt"
      ],
      "execution_count": null,
      "outputs": []
    },
    {
      "cell_type": "code",
      "metadata": {
        "id": "WJ_aM27_1lVV",
        "colab": {
          "base_uri": "https://localhost:8080/",
          "height": 265
        },
        "outputId": "0710af71-1b1b-4aac-c677-b07bacd64403"
      },
      "source": [
        "for word, word_id in word_to_id.items():\n",
        "  plt.annotate(word, (U[word_id, 0], U[word_id, 1]))\n",
        "\n",
        "plt.scatter(U[:, 0], U[:, 1], alpha=0.5)\n",
        "plt.show()"
      ],
      "execution_count": null,
      "outputs": [
        {
          "output_type": "display_data",
          "data": {
            "image/png": "[encoded data removed]",
            "text/plain": [
              "<Figure size 432x288 with 1 Axes>"
            ]
          },
          "metadata": {
            "tags": [],
            "needs_background": "light"
          }
        }
      ]
    },
    {
      "cell_type": "markdown",
      "metadata": {
        "id": "nqF5Yb73hd76"
      },
      "source": [
        "## 2.4.4 PTB 데이터셋\n"
      ]
    },
    {
      "cell_type": "code",
      "metadata": {
        "id": "yv3-X0qf0P1S",
        "colab": {
          "base_uri": "https://localhost:8080/"
        },
        "outputId": "681ec7bd-90a2-485b-d7d2-19ce01ac0696"
      },
      "source": [
        "ls ../dataset"
      ],
      "execution_count": null,
      "outputs": [
        {
          "output_type": "stream",
          "text": [
            "addition.txt  date.txt  __init__.py  ptb.py  sequence.py  spiral.py\n"
          ],
          "name": "stdout"
        }
      ]
    },
    {
      "cell_type": "code",
      "metadata": {
        "id": "WrvmkDwE6YXN",
        "colab": {
          "base_uri": "https://localhost:8080/"
        },
        "outputId": "33c9568e-4689-4d50-d5e3-d665c85a795e"
      },
      "source": [
        "!cat ../dataset/ptb.py"
      ],
      "execution_count": null,
      "outputs": [
        {
          "output_type": "stream",
          "text": [
            "# coding: utf-8\n",
            "import sys\n",
            "import os\n",
            "sys.path.append('..')\n",
            "try:\n",
            "    import urllib.request\n",
            "except ImportError:\n",
            "    raise ImportError('Use Python3!')\n",
            "import pickle\n",
            "import numpy as np\n",
            "\n",
            "\n",
            "url_base = 'https://raw.githubusercontent.com/tomsercu/lstm/master/data/'\n",
            "key_file = {\n",
            "    'train':'ptb.train.txt',\n",
            "    'test':'ptb.test.txt',\n",
            "    'valid':'ptb.valid.txt'\n",
            "}\n",
            "save_file = {\n",
            "    'train':'ptb.train.npy',\n",
            "    'test':'ptb.test.npy',\n",
            "    'valid':'ptb.valid.npy'\n",
            "}\n",
            "vocab_file = 'ptb.vocab.pkl'\n",
            "\n",
            "dataset_dir = os.path.dirname(os.path.abspath(__file__))\n",
            "\n",
            "\n",
            "def _download(file_name):\n",
            "    file_path = dataset_dir + '/' + file_name\n",
            "    if os.path.exists(file_path):\n",
            "        return\n",
            "\n",
            "    print('Downloading ' + file_name + ' ... ')\n",
            "\n",
            "    try:\n",
            "        urllib.request.urlretrieve(url_base + file_name, file_path)\n",
            "    except urllib.error.URLError:\n",
            "        import ssl\n",
            "        ssl._create_default_https_context = ssl._create_unverified_context\n",
            "        urllib.request.urlretrieve(url_base + file_name, file_path)\n",
            "\n",
            "    print('Done')\n",
            "\n",
            "\n",
            "def load_vocab():\n",
            "    vocab_path = dataset_dir + '/' + vocab_file\n",
            "\n",
            "    if os.path.exists(vocab_path):\n",
            "        with open(vocab_path, 'rb') as f:\n",
            "            word_to_id, id_to_word = pickle.load(f)\n",
            "        return word_to_id, id_to_word\n",
            "\n",
            "    word_to_id = {}\n",
            "    id_to_word = {}\n",
            "    data_type = 'train'\n",
            "    file_name = key_file[data_type]\n",
            "    file_path = dataset_dir + '/' + file_name\n",
            "\n",
            "    _download(file_name)\n",
            "\n",
            "    words = open(file_path).read().replace('\\n', '<eos>').strip().split()\n",
            "\n",
            "    for i, word in enumerate(words):\n",
            "        if word not in word_to_id:\n",
            "            tmp_id = len(word_to_id)\n",
            "            word_to_id[word] = tmp_id\n",
            "            id_to_word[tmp_id] = word\n",
            "\n",
            "    with open(vocab_path, 'wb') as f:\n",
            "        pickle.dump((word_to_id, id_to_word), f)\n",
            "\n",
            "    return word_to_id, id_to_word\n",
            "\n",
            "\n",
            "def load_data(data_type='train'):\n",
            "    '''\n",
            "        :param data_type: 데이터 유형: 'train' or 'test' or 'valid (val)'\n",
            "        :return:\n",
            "    '''\n",
            "    if data_type == 'val': data_type = 'valid'\n",
            "    save_path = dataset_dir + '/' + save_file[data_type]\n",
            "\n",
            "    word_to_id, id_to_word = load_vocab()\n",
            "\n",
            "    if os.path.exists(save_path):\n",
            "        corpus = np.load(save_path)\n",
            "        return corpus, word_to_id, id_to_word\n",
            "\n",
            "    file_name = key_file[data_type]\n",
            "    file_path = dataset_dir + '/' + file_name\n",
            "    _download(file_name)\n",
            "\n",
            "    words = open(file_path).read().replace('\\n', '<eos>').strip().split()\n",
            "    corpus = np.array([word_to_id[w] for w in words])\n",
            "\n",
            "    np.save(save_path, corpus)\n",
            "    return corpus, word_to_id, id_to_word\n",
            "\n",
            "\n",
            "if __name__ == '__main__':\n",
            "    for data_type in ('train', 'val', 'test'):\n",
            "        load_data(data_type)\n"
          ],
          "name": "stdout"
        }
      ]
    },
    {
      "cell_type": "code",
      "metadata": {
        "id": "ND_CEdO264SD"
      },
      "source": [
        "import sys\n",
        "sys.path.append('..')\n",
        "from dataset import ptb"
      ],
      "execution_count": null,
      "outputs": []
    },
    {
      "cell_type": "code",
      "metadata": {
        "id": "PHD_5gXs7DSY",
        "colab": {
          "base_uri": "https://localhost:8080/"
        },
        "outputId": "8e464320-077b-4320-9828-f1a4411a04c2"
      },
      "source": [
        "corpus, word_to_id, id_to_word = ptb.load_data('train')"
      ],
      "execution_count": null,
      "outputs": [
        {
          "output_type": "stream",
          "text": [
            "Downloading ptb.train.txt ... \n",
            "Done\n"
          ],
          "name": "stdout"
        }
      ]
    },
    {
      "cell_type": "code",
      "metadata": {
        "id": "4XbfTBHB7JI0",
        "colab": {
          "base_uri": "https://localhost:8080/"
        },
        "outputId": "07bf2091-6bb9-4ed5-b177-7bc3797b4966"
      },
      "source": [
        "# 코드를 작성"
      ],
      "execution_count": null,
      "outputs": [
        {
          "output_type": "stream",
          "text": [
            "말뭉치 크기: 929589\n"
          ],
          "name": "stdout"
        }
      ]
    },
    {
      "cell_type": "code",
      "metadata": {
        "id": "7tyH8viX7Qby",
        "colab": {
          "base_uri": "https://localhost:8080/"
        },
        "outputId": "ed6dffa4-b0bc-4f1a-da32-59ca784c6330"
      },
      "source": [
        "# 코드를 작성"
      ],
      "execution_count": null,
      "outputs": [
        {
          "output_type": "stream",
          "text": [
            "corpus[:30]: [ 0  1  2  3  4  5  6  7  8  9 10 11 12 13 14 15 16 17 18 19 20 21 22 23\n",
            " 24 25 26 27 28 29]\n"
          ],
          "name": "stdout"
        }
      ]
    },
    {
      "cell_type": "code",
      "metadata": {
        "id": "4TUivIK07WW7",
        "colab": {
          "base_uri": "https://localhost:8080/"
        },
        "outputId": "23d72bf8-bd76-42ef-a7ce-e54a8a272104"
      },
      "source": [
        "# 코드를 작성"
      ],
      "execution_count": null,
      "outputs": [
        {
          "output_type": "stream",
          "text": [
            "id_to_word[0]: aer\n"
          ],
          "name": "stdout"
        }
      ]
    },
    {
      "cell_type": "code",
      "metadata": {
        "id": "E6AYFhma7aS5",
        "colab": {
          "base_uri": "https://localhost:8080/"
        },
        "outputId": "a3ca6594-86cb-4264-bc29-52bc0555130e"
      },
      "source": [
        "# 코드를 작성"
      ],
      "execution_count": null,
      "outputs": [
        {
          "output_type": "stream",
          "text": [
            "id_to_word[]: banknote\n"
          ],
          "name": "stdout"
        }
      ]
    },
    {
      "cell_type": "code",
      "metadata": {
        "id": "HRE7MlRU7fB4",
        "colab": {
          "base_uri": "https://localhost:8080/"
        },
        "outputId": "841bc78f-866b-4fa0-9983-93a95c4bc784"
      },
      "source": [
        "# 코드를 작성"
      ],
      "execution_count": null,
      "outputs": [
        {
          "output_type": "stream",
          "text": [
            "word_to_id['car']: 3856\n"
          ],
          "name": "stdout"
        }
      ]
    },
    {
      "cell_type": "code",
      "metadata": {
        "id": "RE0v2REV7q8I",
        "colab": {
          "base_uri": "https://localhost:8080/"
        },
        "outputId": "2923ec05-96ec-4c0f-d64b-5c194559b90a"
      },
      "source": [
        "# 코드를 작성"
      ],
      "execution_count": null,
      "outputs": [
        {
          "output_type": "stream",
          "text": [
            "word_to_id['happy']: 4428\n"
          ],
          "name": "stdout"
        }
      ]
    },
    {
      "cell_type": "code",
      "metadata": {
        "id": "mD1AK9Oa7xKl",
        "colab": {
          "base_uri": "https://localhost:8080/"
        },
        "outputId": "db0afd60-6c75-4493-f9f8-49a8efe57737"
      },
      "source": [
        "# 코드를 작성"
      ],
      "execution_count": null,
      "outputs": [
        {
          "output_type": "stream",
          "text": [
            "word_to_id['lexus']: 7426\n"
          ],
          "name": "stdout"
        }
      ]
    },
    {
      "cell_type": "markdown",
      "metadata": {
        "id": "1n--bvhehgNa"
      },
      "source": [
        "## 2.4.5 PTB 데이터셋 평가\n"
      ]
    },
    {
      "cell_type": "code",
      "metadata": {
        "id": "ydK6eEv28E3b"
      },
      "source": [
        "# coding: utf-8\n",
        "import sys\n",
        "sys.path.append('..')\n",
        "import numpy as np\n",
        "from common.util import most_similar, create_co_matrix, ppmi\n",
        "from dataset import ptb"
      ],
      "execution_count": null,
      "outputs": []
    },
    {
      "cell_type": "code",
      "metadata": {
        "id": "vKeNkDXJ8aFW"
      },
      "source": [
        "window_size = # 코드를 작성\n",
        "wordvec_size = # 코드를 작성"
      ],
      "execution_count": null,
      "outputs": []
    },
    {
      "cell_type": "code",
      "metadata": {
        "id": "ig6QAOc18eWF"
      },
      "source": [
        "# 코드를 작성"
      ],
      "execution_count": null,
      "outputs": []
    },
    {
      "cell_type": "code",
      "metadata": {
        "id": "aSrU4td38jdt",
        "colab": {
          "base_uri": "https://localhost:8080/"
        },
        "outputId": "27d434ce-f8ed-4378-b7a0-9e7440e95103"
      },
      "source": [
        "print('동시발생 수 계산 ...')\n",
        "# 코드를 작성"
      ],
      "execution_count": null,
      "outputs": [
        {
          "output_type": "stream",
          "text": [
            "동시발생 수 계산 ...\n"
          ],
          "name": "stdout"
        }
      ]
    },
    {
      "cell_type": "code",
      "metadata": {
        "id": "SlMw00hP8mE3",
        "colab": {
          "base_uri": "https://localhost:8080/"
        },
        "outputId": "d81b8918-022d-470e-92c8-93c5f9ede91b"
      },
      "source": [
        "print('PPMI 계산 ...')\n",
        "# 코드를 작성"
      ],
      "execution_count": null,
      "outputs": [
        {
          "output_type": "stream",
          "text": [
            "PPMI 계산 ...\n",
            "1.0% 완료\n",
            "2.0% 완료\n",
            "3.0% 완료\n",
            "4.0% 완료\n",
            "5.0% 완료\n",
            "6.0% 완료\n",
            "7.0% 완료\n",
            "8.0% 완료\n",
            "9.0% 완료\n",
            "10.0% 완료\n",
            "11.0% 완료\n",
            "12.0% 완료\n",
            "13.0% 완료\n",
            "14.0% 완료\n",
            "15.0% 완료\n",
            "16.0% 완료\n",
            "17.0% 완료\n",
            "18.0% 완료\n",
            "19.0% 완료\n",
            "20.0% 완료\n",
            "21.0% 완료\n",
            "22.0% 완료\n",
            "23.0% 완료\n",
            "24.0% 완료\n",
            "25.0% 완료\n",
            "26.0% 완료\n",
            "27.0% 완료\n",
            "28.0% 완료\n",
            "29.0% 완료\n",
            "30.0% 완료\n",
            "31.0% 완료\n",
            "32.0% 완료\n",
            "33.0% 완료\n",
            "34.0% 완료\n",
            "35.0% 완료\n",
            "36.0% 완료\n",
            "37.0% 완료\n",
            "38.0% 완료\n",
            "39.0% 완료\n",
            "40.0% 완료\n",
            "41.0% 완료\n",
            "42.0% 완료\n",
            "43.0% 완료\n",
            "44.0% 완료\n",
            "45.0% 완료\n",
            "46.0% 완료\n",
            "47.0% 완료\n",
            "48.0% 완료\n",
            "49.0% 완료\n",
            "50.0% 완료\n",
            "51.0% 완료\n",
            "52.0% 완료\n",
            "53.0% 완료\n",
            "54.0% 완료\n",
            "55.0% 완료\n",
            "56.0% 완료\n",
            "57.0% 완료\n",
            "58.0% 완료\n",
            "59.0% 완료\n",
            "60.0% 완료\n",
            "61.0% 완료\n",
            "62.0% 완료\n",
            "63.0% 완료\n",
            "64.0% 완료\n",
            "65.0% 완료\n",
            "66.0% 완료\n",
            "67.0% 완료\n",
            "68.0% 완료\n",
            "69.0% 완료\n",
            "70.0% 완료\n",
            "71.0% 완료\n",
            "72.0% 완료\n",
            "73.0% 완료\n",
            "74.0% 완료\n",
            "75.0% 완료\n",
            "76.0% 완료\n",
            "77.0% 완료\n",
            "78.0% 완료\n",
            "79.0% 완료\n",
            "80.0% 완료\n",
            "81.0% 완료\n",
            "82.0% 완료\n",
            "83.0% 완료\n",
            "84.0% 완료\n",
            "85.0% 완료\n",
            "86.0% 완료\n",
            "87.0% 완료\n",
            "88.0% 완료\n",
            "89.0% 완료\n",
            "90.0% 완료\n",
            "91.0% 완료\n",
            "92.0% 완료\n",
            "93.0% 완료\n",
            "94.0% 완료\n",
            "95.0% 완료\n",
            "96.0% 완료\n",
            "97.0% 완료\n",
            "98.0% 완료\n",
            "99.0% 완료\n",
            "100.0% 완료\n"
          ],
          "name": "stdout"
        }
      ]
    },
    {
      "cell_type": "code",
      "metadata": {
        "id": "7fEypYn-8n5x",
        "colab": {
          "base_uri": "https://localhost:8080/"
        },
        "outputId": "375656a2-e850-4f48-acee-d6206c5b2260"
      },
      "source": [
        "print('calculating SVD ...')\n",
        "# 코드를 작성"
      ],
      "execution_count": null,
      "outputs": [
        {
          "output_type": "stream",
          "text": [
            "calculating SVD ...\n"
          ],
          "name": "stdout"
        }
      ]
    },
    {
      "cell_type": "code",
      "metadata": {
        "id": "iPhbgmtP8qvV"
      },
      "source": [
        "# 코드를 작성"
      ],
      "execution_count": null,
      "outputs": []
    },
    {
      "cell_type": "code",
      "metadata": {
        "id": "oW-I5o80BF8e",
        "colab": {
          "base_uri": "https://localhost:8080/"
        },
        "outputId": "64d4e545-71d4-4fd4-9c2f-2c11bf8ed25f"
      },
      "source": [
        "word_vecs[0]"
      ],
      "execution_count": null,
      "outputs": [
        {
          "output_type": "execute_result",
          "data": {
            "text/plain": [
              "array([-4.878e-11,  8.036e-07,  1.977e-07, -6.902e-08,  2.044e-06,\n",
              "        1.937e-06, -7.768e-07, -9.329e-07, -1.200e-06,  1.744e-06,\n",
              "       -1.017e-06,  2.840e-06, -3.111e-06, -4.729e-06,  8.888e-07,\n",
              "        3.770e-07,  3.825e-07,  6.785e-07, -1.623e-05,  5.062e-06,\n",
              "        1.161e-05, -3.510e-06,  4.573e-06, -2.451e-05, -2.857e-05,\n",
              "       -5.327e-06, -1.361e-05,  1.320e-05, -1.915e-05,  2.342e-05,\n",
              "        2.753e-05,  1.870e-06,  1.148e-05, -2.145e-05, -7.307e-06,\n",
              "        3.304e-05, -2.104e-06, -2.317e-05, -4.794e-05,  9.663e-06,\n",
              "        1.052e-05, -2.070e-06, -4.457e-05, -4.021e-05,  4.287e-05,\n",
              "        1.741e-05,  1.956e-05, -7.703e-06, -3.796e-05, -5.580e-05,\n",
              "        1.811e-05,  9.822e-06,  9.681e-06, -4.744e-06,  3.343e-05,\n",
              "       -5.850e-07, -5.899e-06,  1.273e-04,  2.015e-05, -4.058e-06,\n",
              "        4.266e-05, -4.194e-05,  2.698e-05, -3.537e-05, -6.600e-05,\n",
              "       -1.148e-04,  1.016e-04, -1.087e-04,  1.061e-06,  1.400e-04,\n",
              "        1.429e-04,  1.373e-04, -8.503e-06,  4.929e-05, -7.413e-05,\n",
              "        2.323e-05, -7.789e-05, -9.317e-05, -1.078e-04, -9.814e-05,\n",
              "        8.827e-05,  1.074e-05, -9.987e-05, -1.143e-05,  1.047e-04,\n",
              "        7.389e-05,  1.220e-04,  9.342e-05, -1.549e-04,  3.702e-05,\n",
              "       -3.297e-05,  4.009e-05, -2.168e-05, -3.560e-05,  2.472e-04,\n",
              "       -5.171e-05,  5.533e-05,  3.774e-05,  7.516e-06,  4.032e-05],\n",
              "      dtype=float32)"
            ]
          },
          "metadata": {
            "tags": []
          },
          "execution_count": 75
        }
      ]
    },
    {
      "cell_type": "code",
      "metadata": {
        "id": "qEF_XPFV8sTW",
        "colab": {
          "base_uri": "https://localhost:8080/"
        },
        "outputId": "c475d153-a0fa-462f-ca0d-e8fe6c775c4e"
      },
      "source": [
        "querys = ['you', 'year', 'car', 'toyota']\n",
        "# 코드를 작성"
      ],
      "execution_count": null,
      "outputs": [
        {
          "output_type": "stream",
          "text": [
            "\n",
            "[query] you\n",
            " i: 0.7127096652984619\n",
            " we: 0.6640666127204895\n",
            " anybody: 0.6004209518432617\n",
            " 've: 0.5345055460929871\n",
            " do: 0.5236090421676636\n",
            "\n",
            "[query] year\n",
            " month: 0.7144228219985962\n",
            " quarter: 0.6580794453620911\n",
            " last: 0.5742595195770264\n",
            " earlier: 0.5721191763877869\n",
            " june: 0.5704035758972168\n",
            "\n",
            "[query] car\n",
            " auto: 0.6365101933479309\n",
            " luxury: 0.5630237460136414\n",
            " domestic: 0.498928040266037\n",
            " midsized: 0.4982423484325409\n",
            " vehicle: 0.4813641607761383\n",
            "\n",
            "[query] toyota\n",
            " motor: 0.7739945650100708\n",
            " nissan: 0.7060121297836304\n",
            " motors: 0.6407662630081177\n",
            " lexus: 0.6133679151535034\n",
            " honda: 0.6041578650474548\n"
          ],
          "name": "stdout"
        }
      ]
    },
    {
      "cell_type": "markdown",
      "metadata": {
        "id": "lRfQu0CUhhmm"
      },
      "source": [
        "---------"
      ]
    },
    {
      "cell_type": "markdown",
      "metadata": {
        "id": "W_dfwnm2gME9"
      },
      "source": [
        "# 정리"
      ]
    },
    {
      "cell_type": "markdown",
      "metadata": {
        "id": "NVcwo0y6gNbD"
      },
      "source": [
        "------------------\n",
        "# 참고문헌\n",
        "* [1] 밑바닥부터 시작하는 딥러닝 2\n",
        "  - https://www.hanbit.co.kr/store/books/look.php?p_code=B8950212853\n",
        "  - github - https://github.com/WegraLee/deep-learning-from-scratch-2"
      ]
    }
  ]
}