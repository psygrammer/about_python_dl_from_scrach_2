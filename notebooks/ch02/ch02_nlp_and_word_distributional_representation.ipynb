{
  "nbformat": 4,
  "nbformat_minor": 0,
  "metadata": {
    "colab": {
      "name": "ch02_nlp_and_word_distributional_representation.ipynb",
      "provenance": [],
      "authorship_tag": "ABX9TyOT6MQWFBVBdbjwFMN06mU/",
      "include_colab_link": true
    },
    "kernelspec": {
      "name": "python3",
      "display_name": "Python 3"
    }
  },
  "cells": [
    {
      "cell_type": "markdown",
      "metadata": {
        "id": "view-in-github",
        "colab_type": "text"
      },
      "source": [
        "<a href=\"https://colab.research.google.com/github/psygrammer/about_python_dl_from_scrach_2/blob/main/notebooks/ch02/ch02_nlp_and_word_distributional_representation.ipynb\" target=\"_parent\"><img src=\"https://colab.research.google.com/assets/colab-badge.svg\" alt=\"Open In Colab\"/></a>"
      ]
    },
    {
      "cell_type": "markdown",
      "metadata": {
        "id": "hWBsw8I8ekpu"
      },
      "source": [
        "# 2. 자연어와 단어의 분산 표현"
      ]
    },
    {
      "cell_type": "markdown",
      "metadata": {
        "id": "mhqp1CB_fIzv"
      },
      "source": [
        "* 싸이그래머 / 어바웃파이썬 : 딥러닝 NLP [1]\n",
        "* 김무성"
      ]
    },
    {
      "cell_type": "markdown",
      "metadata": {
        "id": "SGBs4GwYfPBo"
      },
      "source": [
        "--------------"
      ]
    },
    {
      "cell_type": "markdown",
      "metadata": {
        "id": "22fMX_WzfRM_"
      },
      "source": [
        "# 차례 \n",
        "* 2.1 자연어처리란\n",
        "  - 2.1.1 단어의 의미\n",
        "* 2.2 시소러스\n",
        "  - 2.2.1 WordNet\n",
        "  - 2.2.2 시소러스의 문제점\n",
        "* 2.3 통계 기반 기법\n",
        "  - 2.3.1 파이썬으로 말뭉치 전처리하기\n",
        "  - 2.3.2 단어의 분산 표현\n",
        "  - 2.3.3 분포 가설\n",
        "  - 2.3.4 동시발생 행렬\n",
        "  - 2.3.5 유사 단어의 랭킹 표시\n",
        "* 2.4 통계 기반 기법 개선하기\n",
        "  - 2.4.1 상호정보량\n",
        "  - 2.4.2 차원 감소\n",
        "  - 2.4.3 SVD에 의한 차원 감소\n",
        "  - 2.4.4 PTB 데이터셋\n",
        "  - 2.4.5 PTB 데이터셋 평가\n",
        "* 정리"
      ]
    },
    {
      "cell_type": "markdown",
      "metadata": {
        "id": "HfqtRjy5fP6m"
      },
      "source": [
        "------------"
      ]
    },
    {
      "cell_type": "code",
      "metadata": {
        "id": "jbU2b7aui5lL",
        "colab": {
          "base_uri": "https://localhost:8080/"
        },
        "outputId": "73d33578-71a3-4a70-bec9-448d77abb78e"
      },
      "source": [
        "!git clone https://github.com/psygrammer/about_python_dl_from_scrach_2.git"
      ],
      "execution_count": 1,
      "outputs": [
        {
          "output_type": "stream",
          "text": [
            "Cloning into 'about_python_dl_from_scrach_2'...\n",
            "remote: Enumerating objects: 26, done.\u001b[K\n",
            "remote: Counting objects: 100% (26/26), done.\u001b[K\n",
            "remote: Compressing objects: 100% (20/20), done.\u001b[K\n",
            "remote: Total 26 (delta 8), reused 10 (delta 2), pack-reused 0\u001b[K\n",
            "Unpacking objects: 100% (26/26), done.\n"
          ],
          "name": "stdout"
        }
      ]
    },
    {
      "cell_type": "code",
      "metadata": {
        "id": "1XpwL79PjHtB",
        "colab": {
          "base_uri": "https://localhost:8080/"
        },
        "outputId": "2facc828-a821-4ab1-f8f7-a6cd7e194ba6"
      },
      "source": [
        "ls"
      ],
      "execution_count": 2,
      "outputs": [
        {
          "output_type": "stream",
          "text": [
            "\u001b[0m\u001b[01;34mabout_python_dl_from_scrach_2\u001b[0m/  \u001b[01;34msample_data\u001b[0m/\n"
          ],
          "name": "stdout"
        }
      ]
    },
    {
      "cell_type": "code",
      "metadata": {
        "id": "P-YITMLAjJCX",
        "colab": {
          "base_uri": "https://localhost:8080/"
        },
        "outputId": "b42db5f0-4696-4fa5-d243-1061c7669721"
      },
      "source": [
        "cd /content/about_python_dl_from_scrach_2/notebooks/ch02"
      ],
      "execution_count": 3,
      "outputs": [
        {
          "output_type": "stream",
          "text": [
            "/content/about_python_dl_from_scrach_2/notebooks/ch02\n"
          ],
          "name": "stdout"
        }
      ]
    },
    {
      "cell_type": "code",
      "metadata": {
        "id": "Id11owsHjPIt",
        "colab": {
          "base_uri": "https://localhost:8080/"
        },
        "outputId": "6ed42be7-d7ab-4c77-a505-e42798ff0c5a"
      },
      "source": [
        "ls"
      ],
      "execution_count": 4,
      "outputs": [
        {
          "output_type": "stream",
          "text": [
            "ch02_nlp_and_word_distributional_representation.ipynb\n"
          ],
          "name": "stdout"
        }
      ]
    },
    {
      "cell_type": "markdown",
      "metadata": {
        "id": "AjLwCdijf71K"
      },
      "source": [
        "# 2.1 자연어처리란\n",
        "* 2.1.1 단어의 의미"
      ]
    },
    {
      "cell_type": "markdown",
      "metadata": {
        "id": "T1aPHTAXg3sV"
      },
      "source": [
        "## 2.1.1 단어의 의미"
      ]
    },
    {
      "cell_type": "markdown",
      "metadata": {
        "id": "1MMWCUdzgA34"
      },
      "source": [
        "------------"
      ]
    },
    {
      "cell_type": "markdown",
      "metadata": {
        "id": "TykQzXHigBzZ"
      },
      "source": [
        "# 2.2 시소러스\n",
        "* 2.2.1 WordNet\n",
        "* 2.2.2 시소러스의 문제점\n"
      ]
    },
    {
      "cell_type": "markdown",
      "metadata": {
        "id": "qidHm6q-g8PE"
      },
      "source": [
        "## 2.2.1 WordNet\n"
      ]
    },
    {
      "cell_type": "markdown",
      "metadata": {
        "id": "JwtBf-3pg-f8"
      },
      "source": [
        "## 2.2.2 시소러스의 문제점\n"
      ]
    },
    {
      "cell_type": "markdown",
      "metadata": {
        "id": "wodfyQbSgGXx"
      },
      "source": [
        "--------------"
      ]
    },
    {
      "cell_type": "markdown",
      "metadata": {
        "id": "kBNCjU65gFBd"
      },
      "source": [
        "# 2.3 통계 기반 기법\n",
        "* 2.3.1 파이썬으로 말뭉치 전처리하기\n",
        "* 2.3.2 단어의 분산 표현\n",
        "* 2.3.3 분포 가설\n",
        "* 2.3.4 동시발생 행렬\n",
        "* 2.3.5 유사 단어의 랭킹 표시\n"
      ]
    },
    {
      "cell_type": "markdown",
      "metadata": {
        "id": "IocbhuKahF97"
      },
      "source": [
        " ## 2.3.1 파이썬으로 말뭉치 전처리하기\n",
        " "
      ]
    },
    {
      "cell_type": "code",
      "metadata": {
        "id": "0FJJJzPymNrb"
      },
      "source": [
        "text = 'Yor say goodbye and I say hello.'"
      ],
      "execution_count": 5,
      "outputs": []
    },
    {
      "cell_type": "code",
      "metadata": {
        "id": "vVwou1wImd0B",
        "outputId": "2ca48d3d-cdce-4ffd-832e-da14c56df506",
        "colab": {
          "base_uri": "https://localhost:8080/",
          "height": 35
        }
      },
      "source": [
        "text = text.lower()\n",
        "text"
      ],
      "execution_count": 7,
      "outputs": [
        {
          "output_type": "execute_result",
          "data": {
            "application/vnd.google.colaboratory.intrinsic+json": {
              "type": "string"
            },
            "text/plain": [
              "'yor say goodbye and i say hello.'"
            ]
          },
          "metadata": {
            "tags": []
          },
          "execution_count": 7
        }
      ]
    },
    {
      "cell_type": "code",
      "metadata": {
        "id": "7D8r0ullmhVF",
        "outputId": "712cf176-8995-435f-daba-462574852677",
        "colab": {
          "base_uri": "https://localhost:8080/",
          "height": 35
        }
      },
      "source": [
        "text = text.replace('.', ' .')\n",
        "text"
      ],
      "execution_count": 8,
      "outputs": [
        {
          "output_type": "execute_result",
          "data": {
            "application/vnd.google.colaboratory.intrinsic+json": {
              "type": "string"
            },
            "text/plain": [
              "'yor say goodbye and i say hello .'"
            ]
          },
          "metadata": {
            "tags": []
          },
          "execution_count": 8
        }
      ]
    },
    {
      "cell_type": "code",
      "metadata": {
        "id": "7GeJxOUQmpEg",
        "outputId": "b35dd07f-ca28-4b24-dc32-3ede0ae15479",
        "colab": {
          "base_uri": "https://localhost:8080/"
        }
      },
      "source": [
        "words = text.split(' ')\n",
        "words"
      ],
      "execution_count": 9,
      "outputs": [
        {
          "output_type": "execute_result",
          "data": {
            "text/plain": [
              "['yor', 'say', 'goodbye', 'and', 'i', 'say', 'hello', '.']"
            ]
          },
          "metadata": {
            "tags": []
          },
          "execution_count": 9
        }
      ]
    },
    {
      "cell_type": "code",
      "metadata": {
        "id": "T1wXnYScmxc-"
      },
      "source": [
        "word_to_id = {}"
      ],
      "execution_count": 14,
      "outputs": []
    },
    {
      "cell_type": "code",
      "metadata": {
        "id": "aMxJOTn3m0Wc"
      },
      "source": [
        "id_to_word = {}"
      ],
      "execution_count": 15,
      "outputs": []
    },
    {
      "cell_type": "code",
      "metadata": {
        "id": "IDIS88I2m3Dc"
      },
      "source": [
        "for word in words:\n",
        "  if word not in word_to_id:\n",
        "    new_id = len(word_to_id)\n",
        "    word_to_id[word] = new_id\n",
        "    id_to_word[new_id] = word"
      ],
      "execution_count": 16,
      "outputs": []
    },
    {
      "cell_type": "code",
      "metadata": {
        "id": "Q9S7frsBnJK8",
        "outputId": "1c0d420a-49d9-4f1b-e12f-811690462974",
        "colab": {
          "base_uri": "https://localhost:8080/"
        }
      },
      "source": [
        "word_to_id"
      ],
      "execution_count": 17,
      "outputs": [
        {
          "output_type": "execute_result",
          "data": {
            "text/plain": [
              "{'.': 6, 'and': 3, 'goodbye': 2, 'hello': 5, 'i': 4, 'say': 1, 'yor': 0}"
            ]
          },
          "metadata": {
            "tags": []
          },
          "execution_count": 17
        }
      ]
    },
    {
      "cell_type": "code",
      "metadata": {
        "id": "Nupyw3BcnK62",
        "outputId": "b643215a-cd65-4635-e659-86d027846bd0",
        "colab": {
          "base_uri": "https://localhost:8080/"
        }
      },
      "source": [
        "id_to_word"
      ],
      "execution_count": 18,
      "outputs": [
        {
          "output_type": "execute_result",
          "data": {
            "text/plain": [
              "{0: 'yor', 1: 'say', 2: 'goodbye', 3: 'and', 4: 'i', 5: 'hello', 6: '.'}"
            ]
          },
          "metadata": {
            "tags": []
          },
          "execution_count": 18
        }
      ]
    },
    {
      "cell_type": "code",
      "metadata": {
        "id": "AGLRapTKnPql",
        "outputId": "aaeb160f-2b1b-4db6-b359-e43e925b08cb",
        "colab": {
          "base_uri": "https://localhost:8080/",
          "height": 35
        }
      },
      "source": [
        "id_to_word[1]"
      ],
      "execution_count": 19,
      "outputs": [
        {
          "output_type": "execute_result",
          "data": {
            "application/vnd.google.colaboratory.intrinsic+json": {
              "type": "string"
            },
            "text/plain": [
              "'say'"
            ]
          },
          "metadata": {
            "tags": []
          },
          "execution_count": 19
        }
      ]
    },
    {
      "cell_type": "code",
      "metadata": {
        "id": "jVdBn9F1nSJ5",
        "outputId": "c2188476-0dd6-42a7-d84b-0c4e3e5a0094",
        "colab": {
          "base_uri": "https://localhost:8080/"
        }
      },
      "source": [
        "word_to_id['hello']"
      ],
      "execution_count": 20,
      "outputs": [
        {
          "output_type": "execute_result",
          "data": {
            "text/plain": [
              "5"
            ]
          },
          "metadata": {
            "tags": []
          },
          "execution_count": 20
        }
      ]
    },
    {
      "cell_type": "code",
      "metadata": {
        "id": "IwfXKz0dnYWv"
      },
      "source": [
        "import numpy as np"
      ],
      "execution_count": 21,
      "outputs": []
    },
    {
      "cell_type": "code",
      "metadata": {
        "id": "hvA10mabngay",
        "outputId": "62105614-7a28-4225-878c-45b1b6ff829c",
        "colab": {
          "base_uri": "https://localhost:8080/"
        }
      },
      "source": [
        "corpus = [word_to_id[w] for w in words]\n",
        "corpus"
      ],
      "execution_count": 22,
      "outputs": [
        {
          "output_type": "execute_result",
          "data": {
            "text/plain": [
              "[0, 1, 2, 3, 4, 1, 5, 6]"
            ]
          },
          "metadata": {
            "tags": []
          },
          "execution_count": 22
        }
      ]
    },
    {
      "cell_type": "code",
      "metadata": {
        "id": "zyOTE3m8nlEN",
        "outputId": "1b57ba76-b482-4812-8397-85170589b1c7",
        "colab": {
          "base_uri": "https://localhost:8080/"
        }
      },
      "source": [
        "corpus = np.array(corpus)\n",
        "corpus"
      ],
      "execution_count": 23,
      "outputs": [
        {
          "output_type": "execute_result",
          "data": {
            "text/plain": [
              "array([0, 1, 2, 3, 4, 1, 5, 6])"
            ]
          },
          "metadata": {
            "tags": []
          },
          "execution_count": 23
        }
      ]
    },
    {
      "cell_type": "code",
      "metadata": {
        "id": "aQCTab7Yns8S"
      },
      "source": [
        ""
      ],
      "execution_count": null,
      "outputs": []
    },
    {
      "cell_type": "code",
      "metadata": {
        "id": "IA-jA-9nnrco"
      },
      "source": [
        "# 지금까지의 처리들을 한 데 모아 하나의 함수로\n",
        "def preprocess(text):\n",
        "  text = text.lower()\n",
        "  text = text.replace('.', ' .')\n",
        "  words = text.split(' ')\n",
        "\n",
        "  word_to_id = {}\n",
        "  id_to_word = {}\n",
        "\n",
        "  for word in words:\n",
        "    if word not in word_to_id:\n",
        "      new_id = len(word_to_id)\n",
        "      word_to_id[word] = new_id\n",
        "      id_to_word[new_id] = word\n",
        "\n",
        "  \n",
        "  corpus = np.array([word_to_id[w] for w in words])\n",
        "\n",
        "  return corpus, word_to_id, id_to_word"
      ],
      "execution_count": 25,
      "outputs": []
    },
    {
      "cell_type": "code",
      "metadata": {
        "id": "hPrhb5eQoZH1",
        "outputId": "d9cfb46e-f0d7-4688-dbeb-08b28e3b210a",
        "colab": {
          "base_uri": "https://localhost:8080/"
        }
      },
      "source": [
        "text = 'Yor say goodbye and I say hello.'\n",
        "corpus, word_to_id, id_to_word = preprocess(text)\n",
        "print(corpus)\n",
        "print(word_to_id)\n",
        "print(id_to_word)"
      ],
      "execution_count": 26,
      "outputs": [
        {
          "output_type": "stream",
          "text": [
            "[0 1 2 3 4 1 5 6]\n",
            "{'yor': 0, 'say': 1, 'goodbye': 2, 'and': 3, 'i': 4, 'hello': 5, '.': 6}\n",
            "{0: 'yor', 1: 'say', 2: 'goodbye', 3: 'and', 4: 'i', 5: 'hello', 6: '.'}\n"
          ],
          "name": "stdout"
        }
      ]
    },
    {
      "cell_type": "code",
      "metadata": {
        "id": "Lm0GHJwnoq5p"
      },
      "source": [
        ""
      ],
      "execution_count": null,
      "outputs": []
    },
    {
      "cell_type": "code",
      "metadata": {
        "id": "TKZqhNu4orhg"
      },
      "source": [
        "# util.py 라는 파일을 만들어서 preprocess를 해당 파일로 분리해놓고 써보자\n",
        "import util"
      ],
      "execution_count": null,
      "outputs": []
    },
    {
      "cell_type": "code",
      "metadata": {
        "id": "U0yDY0uNo6QL"
      },
      "source": [
        "text = 'Yor say goodbye and I say hello.'\n",
        "corpus, word_to_id, id_to_word = util.preprocess(text)\n",
        "print(corpus)\n",
        "print(word_to_id)\n",
        "print(id_to_word)"
      ],
      "execution_count": null,
      "outputs": []
    },
    {
      "cell_type": "markdown",
      "metadata": {
        "id": "FrK5oCBVhKqa"
      },
      "source": [
        "## 2.3.2 단어의 분산 표현\n",
        " "
      ]
    },
    {
      "cell_type": "markdown",
      "metadata": {
        "id": "pNXBH1sdhM_V"
      },
      "source": [
        "## 2.3.3 분포 가설\n",
        " "
      ]
    },
    {
      "cell_type": "markdown",
      "metadata": {
        "id": "tvzo9PuEhOSF"
      },
      "source": [
        "## 2.3.4 동시발생 행렬\n",
        " "
      ]
    },
    {
      "cell_type": "markdown",
      "metadata": {
        "id": "k61vITtMhPlO"
      },
      "source": [
        "## 2.3.5 유사 단어의 랭킹 표시\n"
      ]
    },
    {
      "cell_type": "markdown",
      "metadata": {
        "id": "uk8OA2cVgJC1"
      },
      "source": [
        "----------------"
      ]
    },
    {
      "cell_type": "markdown",
      "metadata": {
        "id": "A2fJOLHwgKEB"
      },
      "source": [
        "# 2.4 통계 기반 기법 개선하기\n",
        "* 2.4.1 상호정보량\n",
        "* 2.4.2 차원 감소\n",
        "* 2.4.3 SVD에 의한 차원 감소\n",
        "* 2.4.4 PTB 데이터셋\n",
        "* 2.4.5 PTB 데이터셋 평가\n"
      ]
    },
    {
      "cell_type": "markdown",
      "metadata": {
        "id": "u8bXbE2WhV_v"
      },
      "source": [
        "## 2.4.1 상호정보량\n"
      ]
    },
    {
      "cell_type": "markdown",
      "metadata": {
        "id": "j8iMh7TIhbNu"
      },
      "source": [
        "## 2.4.2 차원 감소\n"
      ]
    },
    {
      "cell_type": "markdown",
      "metadata": {
        "id": "rY0HxX7Qhcsp"
      },
      "source": [
        "## 2.4.3 SVD에 의한 차원 감소\n"
      ]
    },
    {
      "cell_type": "markdown",
      "metadata": {
        "id": "nqF5Yb73hd76"
      },
      "source": [
        "## 2.4.4 PTB 데이터셋\n"
      ]
    },
    {
      "cell_type": "markdown",
      "metadata": {
        "id": "1n--bvhehgNa"
      },
      "source": [
        "## 2.4.5 PTB 데이터셋 평가\n"
      ]
    },
    {
      "cell_type": "markdown",
      "metadata": {
        "id": "lRfQu0CUhhmm"
      },
      "source": [
        "---------"
      ]
    },
    {
      "cell_type": "markdown",
      "metadata": {
        "id": "W_dfwnm2gME9"
      },
      "source": [
        "# 정리"
      ]
    },
    {
      "cell_type": "markdown",
      "metadata": {
        "id": "NVcwo0y6gNbD"
      },
      "source": [
        "------------------\n",
        "# 참고문헌\n",
        "* [1] 밑바닥부터 시작하는 딥러닝 2\n",
        "  - https://www.hanbit.co.kr/store/books/look.php?p_code=B8950212853\n",
        "  - github - https://github.com/WegraLee/deep-learning-from-scratch-2"
      ]
    }
  ]
}